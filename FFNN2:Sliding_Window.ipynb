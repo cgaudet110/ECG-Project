{
 "cells": [
  {
   "cell_type": "code",
   "execution_count": 1,
   "metadata": {},
   "outputs": [],
   "source": [
    "import pandas as pd\n",
    "import numpy as np\n",
    "from sklearn.preprocessing import StandardScaler\n",
    "from sklearn.model_selection import train_test_split\n",
    "from keras import Sequential\n",
    "from keras.layers import Dense\n",
    "from collections import Counter"
   ]
  },
  {
   "cell_type": "code",
   "execution_count": 2,
   "metadata": {},
   "outputs": [],
   "source": [
    "def read_table(path):\n",
    "    \"\"\"Reads table and drops irrelevant columns and rows.\n",
    "    Returns an analysis ready DataFrame\"\"\"\n",
    "    df = pd.read_table('EMG/'+path)\n",
    "    df = df[df['class']!=0]\n",
    "    df = df[df['class']!=7]\n",
    "    df = df.drop(columns='time')\n",
    "\n",
    "    # Map the classes so they range from 0-6 for cross entropy loss to work\n",
    "    mapping = {1:0, 2:1, 3:2, 4:3, 5:4, 6:5, 7:6}\n",
    "    df['class'] = df['class'].map(mapping)\n",
    "\n",
    "    df.reset_index(drop=True,inplace=True)\n",
    "    return df"
   ]
  },
  {
   "cell_type": "code",
   "execution_count": 3,
   "metadata": {},
   "outputs": [
    {
     "data": {
      "text/html": [
       "<div>\n",
       "<style scoped>\n",
       "    .dataframe tbody tr th:only-of-type {\n",
       "        vertical-align: middle;\n",
       "    }\n",
       "\n",
       "    .dataframe tbody tr th {\n",
       "        vertical-align: top;\n",
       "    }\n",
       "\n",
       "    .dataframe thead th {\n",
       "        text-align: right;\n",
       "    }\n",
       "</style>\n",
       "<table border=\"1\" class=\"dataframe\">\n",
       "  <thead>\n",
       "    <tr style=\"text-align: right;\">\n",
       "      <th></th>\n",
       "      <th>channel1</th>\n",
       "      <th>channel2</th>\n",
       "      <th>channel3</th>\n",
       "      <th>channel4</th>\n",
       "      <th>channel5</th>\n",
       "      <th>channel6</th>\n",
       "      <th>channel7</th>\n",
       "      <th>channel8</th>\n",
       "      <th>class</th>\n",
       "    </tr>\n",
       "  </thead>\n",
       "  <tbody>\n",
       "    <tr>\n",
       "      <th>0</th>\n",
       "      <td>-0.00001</td>\n",
       "      <td>0.00000</td>\n",
       "      <td>-0.00001</td>\n",
       "      <td>0.00000</td>\n",
       "      <td>0.00000</td>\n",
       "      <td>-0.00001</td>\n",
       "      <td>-0.00001</td>\n",
       "      <td>0.00001</td>\n",
       "      <td>0.0</td>\n",
       "    </tr>\n",
       "    <tr>\n",
       "      <th>1</th>\n",
       "      <td>-0.00005</td>\n",
       "      <td>-0.00001</td>\n",
       "      <td>-0.00006</td>\n",
       "      <td>0.00001</td>\n",
       "      <td>0.00001</td>\n",
       "      <td>0.00002</td>\n",
       "      <td>-0.00001</td>\n",
       "      <td>0.00001</td>\n",
       "      <td>0.0</td>\n",
       "    </tr>\n",
       "    <tr>\n",
       "      <th>2</th>\n",
       "      <td>-0.00005</td>\n",
       "      <td>-0.00001</td>\n",
       "      <td>-0.00006</td>\n",
       "      <td>0.00001</td>\n",
       "      <td>0.00001</td>\n",
       "      <td>0.00002</td>\n",
       "      <td>-0.00001</td>\n",
       "      <td>0.00001</td>\n",
       "      <td>0.0</td>\n",
       "    </tr>\n",
       "    <tr>\n",
       "      <th>3</th>\n",
       "      <td>-0.00005</td>\n",
       "      <td>-0.00001</td>\n",
       "      <td>-0.00006</td>\n",
       "      <td>0.00001</td>\n",
       "      <td>0.00001</td>\n",
       "      <td>0.00002</td>\n",
       "      <td>-0.00001</td>\n",
       "      <td>0.00001</td>\n",
       "      <td>0.0</td>\n",
       "    </tr>\n",
       "    <tr>\n",
       "      <th>4</th>\n",
       "      <td>-0.00005</td>\n",
       "      <td>-0.00001</td>\n",
       "      <td>-0.00006</td>\n",
       "      <td>0.00001</td>\n",
       "      <td>0.00001</td>\n",
       "      <td>0.00002</td>\n",
       "      <td>-0.00001</td>\n",
       "      <td>0.00001</td>\n",
       "      <td>0.0</td>\n",
       "    </tr>\n",
       "    <tr>\n",
       "      <th>...</th>\n",
       "      <td>...</td>\n",
       "      <td>...</td>\n",
       "      <td>...</td>\n",
       "      <td>...</td>\n",
       "      <td>...</td>\n",
       "      <td>...</td>\n",
       "      <td>...</td>\n",
       "      <td>...</td>\n",
       "      <td>...</td>\n",
       "    </tr>\n",
       "    <tr>\n",
       "      <th>250050</th>\n",
       "      <td>-0.00002</td>\n",
       "      <td>-0.00003</td>\n",
       "      <td>0.00000</td>\n",
       "      <td>-0.00002</td>\n",
       "      <td>-0.00002</td>\n",
       "      <td>-0.00001</td>\n",
       "      <td>0.00004</td>\n",
       "      <td>0.00001</td>\n",
       "      <td>0.0</td>\n",
       "    </tr>\n",
       "    <tr>\n",
       "      <th>250051</th>\n",
       "      <td>-0.00002</td>\n",
       "      <td>-0.00003</td>\n",
       "      <td>0.00000</td>\n",
       "      <td>-0.00002</td>\n",
       "      <td>-0.00002</td>\n",
       "      <td>-0.00001</td>\n",
       "      <td>0.00004</td>\n",
       "      <td>0.00001</td>\n",
       "      <td>0.0</td>\n",
       "    </tr>\n",
       "    <tr>\n",
       "      <th>250052</th>\n",
       "      <td>-0.00002</td>\n",
       "      <td>-0.00003</td>\n",
       "      <td>0.00000</td>\n",
       "      <td>-0.00002</td>\n",
       "      <td>-0.00002</td>\n",
       "      <td>-0.00001</td>\n",
       "      <td>0.00004</td>\n",
       "      <td>0.00001</td>\n",
       "      <td>0.0</td>\n",
       "    </tr>\n",
       "    <tr>\n",
       "      <th>250053</th>\n",
       "      <td>-0.00002</td>\n",
       "      <td>-0.00003</td>\n",
       "      <td>0.00000</td>\n",
       "      <td>-0.00002</td>\n",
       "      <td>-0.00002</td>\n",
       "      <td>-0.00001</td>\n",
       "      <td>0.00004</td>\n",
       "      <td>0.00001</td>\n",
       "      <td>0.0</td>\n",
       "    </tr>\n",
       "    <tr>\n",
       "      <th>250054</th>\n",
       "      <td>-0.00001</td>\n",
       "      <td>0.00000</td>\n",
       "      <td>0.00000</td>\n",
       "      <td>-0.00001</td>\n",
       "      <td>0.00001</td>\n",
       "      <td>-0.00001</td>\n",
       "      <td>-0.00001</td>\n",
       "      <td>-0.00001</td>\n",
       "      <td>0.0</td>\n",
       "    </tr>\n",
       "  </tbody>\n",
       "</table>\n",
       "<p>250055 rows × 9 columns</p>\n",
       "</div>"
      ],
      "text/plain": [
       "        channel1  channel2  channel3  channel4  channel5  channel6  channel7  \\\n",
       "0       -0.00001   0.00000  -0.00001   0.00000   0.00000  -0.00001  -0.00001   \n",
       "1       -0.00005  -0.00001  -0.00006   0.00001   0.00001   0.00002  -0.00001   \n",
       "2       -0.00005  -0.00001  -0.00006   0.00001   0.00001   0.00002  -0.00001   \n",
       "3       -0.00005  -0.00001  -0.00006   0.00001   0.00001   0.00002  -0.00001   \n",
       "4       -0.00005  -0.00001  -0.00006   0.00001   0.00001   0.00002  -0.00001   \n",
       "...          ...       ...       ...       ...       ...       ...       ...   \n",
       "250050  -0.00002  -0.00003   0.00000  -0.00002  -0.00002  -0.00001   0.00004   \n",
       "250051  -0.00002  -0.00003   0.00000  -0.00002  -0.00002  -0.00001   0.00004   \n",
       "250052  -0.00002  -0.00003   0.00000  -0.00002  -0.00002  -0.00001   0.00004   \n",
       "250053  -0.00002  -0.00003   0.00000  -0.00002  -0.00002  -0.00001   0.00004   \n",
       "250054  -0.00001   0.00000   0.00000  -0.00001   0.00001  -0.00001  -0.00001   \n",
       "\n",
       "        channel8  class  \n",
       "0        0.00001    0.0  \n",
       "1        0.00001    0.0  \n",
       "2        0.00001    0.0  \n",
       "3        0.00001    0.0  \n",
       "4        0.00001    0.0  \n",
       "...          ...    ...  \n",
       "250050   0.00001    0.0  \n",
       "250051   0.00001    0.0  \n",
       "250052   0.00001    0.0  \n",
       "250053   0.00001    0.0  \n",
       "250054  -0.00001    0.0  \n",
       "\n",
       "[250055 rows x 9 columns]"
      ]
     },
     "execution_count": 3,
     "metadata": {},
     "output_type": "execute_result"
    }
   ],
   "source": [
    "df = pd.concat([read_table('1/1_1.txt'), read_table('1/2_1.txt')])\n",
    "for n in range(2,37):\n",
    "    path1 = f'{n}/1_{n}.txt'\n",
    "    df = pd.concat([df, read_table(path1)])\n",
    "    path2 = f'{n}/2_{n}.txt'\n",
    "    df = pd.concat([df, read_table(path2)])\n",
    "\n",
    "df = df.dropna()\n",
    "\n",
    "df = df.sort_values(\"class\")\n",
    "\n",
    "df.reset_index(drop=True, inplace=True)\n",
    "\n",
    "df[df['class'] == 0]"
   ]
  },
  {
   "cell_type": "code",
   "execution_count": 4,
   "metadata": {},
   "outputs": [
    {
     "data": {
      "text/plain": [
       "class\n",
       "5.0    253009\n",
       "4.0    251733\n",
       "3.0    251570\n",
       "0.0    250055\n",
       "2.0    249494\n",
       "1.0    243193\n",
       "Name: count, dtype: int64"
      ]
     },
     "execution_count": 4,
     "metadata": {},
     "output_type": "execute_result"
    }
   ],
   "source": [
    "df['class'].value_counts()"
   ]
  },
  {
   "cell_type": "code",
   "execution_count": 5,
   "metadata": {},
   "outputs": [],
   "source": [
    "df.drop(df.index[0:5], inplace=True)\n",
    "df.drop(df.index[250050:250053], inplace=True)\n",
    "df.drop(df.index[493240:493244], inplace=True)\n",
    "df.drop(df.index[994300:994303], inplace=True)\n",
    "df.drop(df.index[1246030:1246039], inplace=True)\n",
    "\n",
    "df.reset_index(drop=True, inplace=True)\n"
   ]
  },
  {
   "cell_type": "code",
   "execution_count": 6,
   "metadata": {},
   "outputs": [
    {
     "data": {
      "text/plain": [
       "class\n",
       "5.0    253000\n",
       "4.0    251730\n",
       "3.0    251570\n",
       "0.0    250050\n",
       "2.0    249490\n",
       "1.0    243190\n",
       "Name: count, dtype: int64"
      ]
     },
     "execution_count": 6,
     "metadata": {},
     "output_type": "execute_result"
    }
   ],
   "source": [
    "df['class'].value_counts()"
   ]
  },
  {
   "cell_type": "code",
   "execution_count": 7,
   "metadata": {},
   "outputs": [
    {
     "data": {
      "text/plain": [
       "class\n",
       "5.0    253000\n",
       "4.0    251730\n",
       "3.0    251570\n",
       "0.0    250050\n",
       "2.0    249490\n",
       "1.0    243190\n",
       "Name: count, dtype: int64"
      ]
     },
     "execution_count": 7,
     "metadata": {},
     "output_type": "execute_result"
    }
   ],
   "source": [
    "df['class'].value_counts()"
   ]
  },
  {
   "cell_type": "code",
   "execution_count": 8,
   "metadata": {},
   "outputs": [],
   "source": [
    "X = df.drop(columns=['class'])\n",
    "y = df['class']"
   ]
  },
  {
   "cell_type": "code",
   "execution_count": 9,
   "metadata": {},
   "outputs": [],
   "source": [
    "X_train, X_test, y_train, y_test = [], [], [], []\n",
    "\n",
    "\n",
    "for category in np.unique(y):\n",
    "    category_mask = (y == category)\n",
    "    X_category = X[category_mask]\n",
    "    y_category = y[category_mask]\n",
    "    \n",
    "    num_samples = len(y_category)\n",
    "    train_size = int(num_samples * 0.8)\n",
    "    train_size -= train_size % 5\n",
    "    \n",
    "    X_cat_train, X_cat_test, y_cat_train, y_cat_test = train_test_split(\n",
    "        X_category, y_category, train_size=train_size, random_state=42, stratify=y_category)\n",
    "    \n",
    "    X_train.append(X_cat_train)\n",
    "    X_test.append(X_cat_test)\n",
    "    y_train.append(y_cat_train)\n",
    "    y_test.append(y_cat_test)\n",
    "\n",
    "X_train = np.vstack(X_train)\n",
    "X_test = np.vstack(X_test)\n",
    "y_train = np.concatenate(y_train)\n",
    "y_test = np.concatenate(y_test)\n",
    "\n",
    "# print(f'Train size: {len(y_train)}, Test size: {len(y_test)}')\n",
    "X_train = pd.DataFrame(X_train, columns=['channel1', 'channel2', 'channel3', 'channel4', 'channel5', 'channel6', 'channel7', 'channel8'])\n",
    "X_test = pd.DataFrame(X_test, columns=['channel1', 'channel2', 'channel3', 'channel4', 'channel5', 'channel6', 'channel7', 'channel8'])\n",
    "y_train = pd.DataFrame(y_train, columns=['class'])\n",
    "y_test = pd.DataFrame(y_test, columns=['class'])\n"
   ]
  },
  {
   "cell_type": "code",
   "execution_count": 10,
   "metadata": {},
   "outputs": [],
   "source": [
    "def scaler(df):\n",
    "    \"\"\"Normalizes the data, returns a DataFrame with the new scaled numbers\"\"\"\n",
    "    scaler = StandardScaler()\n",
    "    scaled = scaler.fit_transform(df)\n",
    "    df_scaled = pd.DataFrame(scaled, columns=df.columns)\n",
    "    return df_scaled"
   ]
  },
  {
   "cell_type": "code",
   "execution_count": 11,
   "metadata": {},
   "outputs": [],
   "source": [
    "X_train = scaler(X_train)\n",
    "X_test = scaler(X_test)"
   ]
  },
  {
   "cell_type": "code",
   "execution_count": 12,
   "metadata": {},
   "outputs": [
    {
     "name": "stderr",
     "output_type": "stream",
     "text": [
      "/opt/homebrew/lib/python3.10/site-packages/keras/src/layers/core/dense.py:87: UserWarning: Do not pass an `input_shape`/`input_dim` argument to a layer. When using Sequential models, prefer using an `Input(shape)` object as the first layer in the model instead.\n",
      "  super().__init__(activity_regularizer=activity_regularizer, **kwargs)\n"
     ]
    },
    {
     "data": {
      "text/html": [
       "<pre style=\"white-space:pre;overflow-x:auto;line-height:normal;font-family:Menlo,'DejaVu Sans Mono',consolas,'Courier New',monospace\"><span style=\"font-weight: bold\">Model: \"sequential\"</span>\n",
       "</pre>\n"
      ],
      "text/plain": [
       "\u001b[1mModel: \"sequential\"\u001b[0m\n"
      ]
     },
     "metadata": {},
     "output_type": "display_data"
    },
    {
     "data": {
      "text/html": [
       "<pre style=\"white-space:pre;overflow-x:auto;line-height:normal;font-family:Menlo,'DejaVu Sans Mono',consolas,'Courier New',monospace\">┏━━━━━━━━━━━━━━━━━━━━━━━━━━━━━━━━━┳━━━━━━━━━━━━━━━━━━━━━━━━┳━━━━━━━━━━━━━━━┓\n",
       "┃<span style=\"font-weight: bold\"> Layer (type)                    </span>┃<span style=\"font-weight: bold\"> Output Shape           </span>┃<span style=\"font-weight: bold\">       Param # </span>┃\n",
       "┡━━━━━━━━━━━━━━━━━━━━━━━━━━━━━━━━━╇━━━━━━━━━━━━━━━━━━━━━━━━╇━━━━━━━━━━━━━━━┩\n",
       "│ dense (<span style=\"color: #0087ff; text-decoration-color: #0087ff\">Dense</span>)                   │ (<span style=\"color: #00d7ff; text-decoration-color: #00d7ff\">None</span>, <span style=\"color: #00af00; text-decoration-color: #00af00\">32</span>)             │           <span style=\"color: #00af00; text-decoration-color: #00af00\">288</span> │\n",
       "├─────────────────────────────────┼────────────────────────┼───────────────┤\n",
       "│ dense_1 (<span style=\"color: #0087ff; text-decoration-color: #0087ff\">Dense</span>)                 │ (<span style=\"color: #00d7ff; text-decoration-color: #00d7ff\">None</span>, <span style=\"color: #00af00; text-decoration-color: #00af00\">64</span>)             │         <span style=\"color: #00af00; text-decoration-color: #00af00\">2,112</span> │\n",
       "├─────────────────────────────────┼────────────────────────┼───────────────┤\n",
       "│ dense_2 (<span style=\"color: #0087ff; text-decoration-color: #0087ff\">Dense</span>)                 │ (<span style=\"color: #00d7ff; text-decoration-color: #00d7ff\">None</span>, <span style=\"color: #00af00; text-decoration-color: #00af00\">128</span>)            │         <span style=\"color: #00af00; text-decoration-color: #00af00\">8,320</span> │\n",
       "├─────────────────────────────────┼────────────────────────┼───────────────┤\n",
       "│ dense_3 (<span style=\"color: #0087ff; text-decoration-color: #0087ff\">Dense</span>)                 │ (<span style=\"color: #00d7ff; text-decoration-color: #00d7ff\">None</span>, <span style=\"color: #00af00; text-decoration-color: #00af00\">256</span>)            │        <span style=\"color: #00af00; text-decoration-color: #00af00\">33,024</span> │\n",
       "├─────────────────────────────────┼────────────────────────┼───────────────┤\n",
       "│ dense_4 (<span style=\"color: #0087ff; text-decoration-color: #0087ff\">Dense</span>)                 │ (<span style=\"color: #00d7ff; text-decoration-color: #00d7ff\">None</span>, <span style=\"color: #00af00; text-decoration-color: #00af00\">6</span>)              │         <span style=\"color: #00af00; text-decoration-color: #00af00\">1,542</span> │\n",
       "└─────────────────────────────────┴────────────────────────┴───────────────┘\n",
       "</pre>\n"
      ],
      "text/plain": [
       "┏━━━━━━━━━━━━━━━━━━━━━━━━━━━━━━━━━┳━━━━━━━━━━━━━━━━━━━━━━━━┳━━━━━━━━━━━━━━━┓\n",
       "┃\u001b[1m \u001b[0m\u001b[1mLayer (type)                   \u001b[0m\u001b[1m \u001b[0m┃\u001b[1m \u001b[0m\u001b[1mOutput Shape          \u001b[0m\u001b[1m \u001b[0m┃\u001b[1m \u001b[0m\u001b[1m      Param #\u001b[0m\u001b[1m \u001b[0m┃\n",
       "┡━━━━━━━━━━━━━━━━━━━━━━━━━━━━━━━━━╇━━━━━━━━━━━━━━━━━━━━━━━━╇━━━━━━━━━━━━━━━┩\n",
       "│ dense (\u001b[38;5;33mDense\u001b[0m)                   │ (\u001b[38;5;45mNone\u001b[0m, \u001b[38;5;34m32\u001b[0m)             │           \u001b[38;5;34m288\u001b[0m │\n",
       "├─────────────────────────────────┼────────────────────────┼───────────────┤\n",
       "│ dense_1 (\u001b[38;5;33mDense\u001b[0m)                 │ (\u001b[38;5;45mNone\u001b[0m, \u001b[38;5;34m64\u001b[0m)             │         \u001b[38;5;34m2,112\u001b[0m │\n",
       "├─────────────────────────────────┼────────────────────────┼───────────────┤\n",
       "│ dense_2 (\u001b[38;5;33mDense\u001b[0m)                 │ (\u001b[38;5;45mNone\u001b[0m, \u001b[38;5;34m128\u001b[0m)            │         \u001b[38;5;34m8,320\u001b[0m │\n",
       "├─────────────────────────────────┼────────────────────────┼───────────────┤\n",
       "│ dense_3 (\u001b[38;5;33mDense\u001b[0m)                 │ (\u001b[38;5;45mNone\u001b[0m, \u001b[38;5;34m256\u001b[0m)            │        \u001b[38;5;34m33,024\u001b[0m │\n",
       "├─────────────────────────────────┼────────────────────────┼───────────────┤\n",
       "│ dense_4 (\u001b[38;5;33mDense\u001b[0m)                 │ (\u001b[38;5;45mNone\u001b[0m, \u001b[38;5;34m6\u001b[0m)              │         \u001b[38;5;34m1,542\u001b[0m │\n",
       "└─────────────────────────────────┴────────────────────────┴───────────────┘\n"
      ]
     },
     "metadata": {},
     "output_type": "display_data"
    },
    {
     "data": {
      "text/html": [
       "<pre style=\"white-space:pre;overflow-x:auto;line-height:normal;font-family:Menlo,'DejaVu Sans Mono',consolas,'Courier New',monospace\"><span style=\"font-weight: bold\"> Total params: </span><span style=\"color: #00af00; text-decoration-color: #00af00\">45,286</span> (176.90 KB)\n",
       "</pre>\n"
      ],
      "text/plain": [
       "\u001b[1m Total params: \u001b[0m\u001b[38;5;34m45,286\u001b[0m (176.90 KB)\n"
      ]
     },
     "metadata": {},
     "output_type": "display_data"
    },
    {
     "data": {
      "text/html": [
       "<pre style=\"white-space:pre;overflow-x:auto;line-height:normal;font-family:Menlo,'DejaVu Sans Mono',consolas,'Courier New',monospace\"><span style=\"font-weight: bold\"> Trainable params: </span><span style=\"color: #00af00; text-decoration-color: #00af00\">45,286</span> (176.90 KB)\n",
       "</pre>\n"
      ],
      "text/plain": [
       "\u001b[1m Trainable params: \u001b[0m\u001b[38;5;34m45,286\u001b[0m (176.90 KB)\n"
      ]
     },
     "metadata": {},
     "output_type": "display_data"
    },
    {
     "data": {
      "text/html": [
       "<pre style=\"white-space:pre;overflow-x:auto;line-height:normal;font-family:Menlo,'DejaVu Sans Mono',consolas,'Courier New',monospace\"><span style=\"font-weight: bold\"> Non-trainable params: </span><span style=\"color: #00af00; text-decoration-color: #00af00\">0</span> (0.00 B)\n",
       "</pre>\n"
      ],
      "text/plain": [
       "\u001b[1m Non-trainable params: \u001b[0m\u001b[38;5;34m0\u001b[0m (0.00 B)\n"
      ]
     },
     "metadata": {},
     "output_type": "display_data"
    }
   ],
   "source": [
    "model = Sequential()\n",
    "model.add(Dense(32, input_dim=8, activation='relu'))\n",
    "model.add(Dense(64, activation='relu'))\n",
    "model.add(Dense(128, activation='relu'))\n",
    "model.add(Dense(256, activation='relu'))\n",
    "model.add(Dense(6,activation='softmax'))\n",
    "model.summary()"
   ]
  },
  {
   "cell_type": "code",
   "execution_count": 13,
   "metadata": {},
   "outputs": [
    {
     "name": "stdout",
     "output_type": "stream",
     "text": [
      "Epoch 1/20\n",
      "\u001b[1m39974/39974\u001b[0m \u001b[32m━━━━━━━━━━━━━━━━━━━━\u001b[0m\u001b[37m\u001b[0m \u001b[1m23s\u001b[0m 565us/step - accuracy: 0.6452 - loss: 0.9011\n",
      "Epoch 2/20\n",
      "\u001b[1m39974/39974\u001b[0m \u001b[32m━━━━━━━━━━━━━━━━━━━━\u001b[0m\u001b[37m\u001b[0m \u001b[1m22s\u001b[0m 552us/step - accuracy: 0.6957 - loss: 0.7717\n",
      "Epoch 3/20\n",
      "\u001b[1m39974/39974\u001b[0m \u001b[32m━━━━━━━━━━━━━━━━━━━━\u001b[0m\u001b[37m\u001b[0m \u001b[1m23s\u001b[0m 566us/step - accuracy: 0.7193 - loss: 0.7111\n",
      "Epoch 4/20\n",
      "\u001b[1m39974/39974\u001b[0m \u001b[32m━━━━━━━━━━━━━━━━━━━━\u001b[0m\u001b[37m\u001b[0m \u001b[1m22s\u001b[0m 561us/step - accuracy: 0.7418 - loss: 0.6608\n",
      "Epoch 5/20\n",
      "\u001b[1m39974/39974\u001b[0m \u001b[32m━━━━━━━━━━━━━━━━━━━━\u001b[0m\u001b[37m\u001b[0m \u001b[1m22s\u001b[0m 547us/step - accuracy: 0.7582 - loss: 0.6231\n",
      "Epoch 6/20\n",
      "\u001b[1m39974/39974\u001b[0m \u001b[32m━━━━━━━━━━━━━━━━━━━━\u001b[0m\u001b[37m\u001b[0m \u001b[1m23s\u001b[0m 564us/step - accuracy: 0.7717 - loss: 0.5921\n",
      "Epoch 7/20\n",
      "\u001b[1m39974/39974\u001b[0m \u001b[32m━━━━━━━━━━━━━━━━━━━━\u001b[0m\u001b[37m\u001b[0m \u001b[1m23s\u001b[0m 565us/step - accuracy: 0.7815 - loss: 0.5720\n",
      "Epoch 8/20\n",
      "\u001b[1m39974/39974\u001b[0m \u001b[32m━━━━━━━━━━━━━━━━━━━━\u001b[0m\u001b[37m\u001b[0m \u001b[1m23s\u001b[0m 576us/step - accuracy: 0.7892 - loss: 0.5544\n",
      "Epoch 9/20\n",
      "\u001b[1m39974/39974\u001b[0m \u001b[32m━━━━━━━━━━━━━━━━━━━━\u001b[0m\u001b[37m\u001b[0m \u001b[1m23s\u001b[0m 566us/step - accuracy: 0.7963 - loss: 0.5403\n",
      "Epoch 10/20\n",
      "\u001b[1m39974/39974\u001b[0m \u001b[32m━━━━━━━━━━━━━━━━━━━━\u001b[0m\u001b[37m\u001b[0m \u001b[1m23s\u001b[0m 584us/step - accuracy: 0.8020 - loss: 0.5270\n",
      "Epoch 11/20\n",
      "\u001b[1m39974/39974\u001b[0m \u001b[32m━━━━━━━━━━━━━━━━━━━━\u001b[0m\u001b[37m\u001b[0m \u001b[1m23s\u001b[0m 578us/step - accuracy: 0.8075 - loss: 0.5152\n",
      "Epoch 12/20\n",
      "\u001b[1m39974/39974\u001b[0m \u001b[32m━━━━━━━━━━━━━━━━━━━━\u001b[0m\u001b[37m\u001b[0m \u001b[1m23s\u001b[0m 579us/step - accuracy: 0.8108 - loss: 0.5080\n",
      "Epoch 13/20\n",
      "\u001b[1m39974/39974\u001b[0m \u001b[32m━━━━━━━━━━━━━━━━━━━━\u001b[0m\u001b[37m\u001b[0m \u001b[1m23s\u001b[0m 572us/step - accuracy: 0.8136 - loss: 0.5013\n",
      "Epoch 14/20\n",
      "\u001b[1m39974/39974\u001b[0m \u001b[32m━━━━━━━━━━━━━━━━━━━━\u001b[0m\u001b[37m\u001b[0m \u001b[1m23s\u001b[0m 582us/step - accuracy: 0.8177 - loss: 0.4931\n",
      "Epoch 15/20\n",
      "\u001b[1m39974/39974\u001b[0m \u001b[32m━━━━━━━━━━━━━━━━━━━━\u001b[0m\u001b[37m\u001b[0m \u001b[1m23s\u001b[0m 586us/step - accuracy: 0.8206 - loss: 0.4867\n",
      "Epoch 16/20\n",
      "\u001b[1m39974/39974\u001b[0m \u001b[32m━━━━━━━━━━━━━━━━━━━━\u001b[0m\u001b[37m\u001b[0m \u001b[1m23s\u001b[0m 577us/step - accuracy: 0.8224 - loss: 0.4820\n",
      "Epoch 17/20\n",
      "\u001b[1m39974/39974\u001b[0m \u001b[32m━━━━━━━━━━━━━━━━━━━━\u001b[0m\u001b[37m\u001b[0m \u001b[1m24s\u001b[0m 592us/step - accuracy: 0.8253 - loss: 0.4774\n",
      "Epoch 18/20\n",
      "\u001b[1m39974/39974\u001b[0m \u001b[32m━━━━━━━━━━━━━━━━━━━━\u001b[0m\u001b[37m\u001b[0m \u001b[1m24s\u001b[0m 601us/step - accuracy: 0.8272 - loss: 0.4715\n",
      "Epoch 19/20\n",
      "\u001b[1m39974/39974\u001b[0m \u001b[32m━━━━━━━━━━━━━━━━━━━━\u001b[0m\u001b[37m\u001b[0m \u001b[1m24s\u001b[0m 591us/step - accuracy: 0.8285 - loss: 0.4692\n",
      "Epoch 20/20\n",
      "\u001b[1m39974/39974\u001b[0m \u001b[32m━━━━━━━━━━━━━━━━━━━━\u001b[0m\u001b[37m\u001b[0m \u001b[1m24s\u001b[0m 608us/step - accuracy: 0.8311 - loss: 0.4645\n"
     ]
    },
    {
     "data": {
      "text/plain": [
       "<keras.src.callbacks.history.History at 0x2ef6bb9d0>"
      ]
     },
     "execution_count": 13,
     "metadata": {},
     "output_type": "execute_result"
    }
   ],
   "source": [
    "model.compile(optimizer='adam',\n",
    "              loss='sparse_categorical_crossentropy',\n",
    "              metrics=['accuracy'])\n",
    "model.fit(X_train, y_train, epochs=20, batch_size=30)"
   ]
  },
  {
   "cell_type": "code",
   "execution_count": 36,
   "metadata": {},
   "outputs": [
    {
     "name": "stdout",
     "output_type": "stream",
     "text": [
      "\u001b[1m37476/37476\u001b[0m \u001b[32m━━━━━━━━━━━━━━━━━━━━\u001b[0m\u001b[37m\u001b[0m \u001b[1m10s\u001b[0m 256us/step\n",
      "\u001b[1m9370/9370\u001b[0m \u001b[32m━━━━━━━━━━━━━━━━━━━━\u001b[0m\u001b[37m\u001b[0m \u001b[1m2s\u001b[0m 249us/step\n"
     ]
    }
   ],
   "source": [
    "predict_train = model.predict(X_train)\n",
    "predict_test = model.predict(X_test)"
   ]
  },
  {
   "cell_type": "code",
   "execution_count": 45,
   "metadata": {},
   "outputs": [
    {
     "name": "stdout",
     "output_type": "stream",
     "text": [
      "[0 0 0 ... 5 5 5]\n",
      "Sliding window 5 over train 97.80%\n",
      "Sliding window 5 over test 97.38%\n",
      "Sliding window 10 over train 99.79%\n",
      "Sliding window 10 over test 99.69%\n"
     ]
    }
   ],
   "source": [
    "predicted_classes_train = np.argmax(predict_train, axis=1)\n",
    "predicted_classes_test = np.argmax(predict_test, axis=1)\n",
    "\n",
    "pred_itter_train = predicted_classes_train.flat\n",
    "pred_itter_test = predicted_classes_test.flat987\n",
    "\n",
    "#train data 5\n",
    "correct = 0\n",
    "samples = int(len(predicted_classes_train)/5)\n",
    "for i in range(samples):\n",
    "    index = i*5\n",
    "    list = predicted_classes_train[index:index+5]\n",
    "    counts = Counter(list)\n",
    "    mf = counts.most_common(1)[0][0]\n",
    "    if mf == int(y_train['class'].iloc[index]):\n",
    "        correct += 1\n",
    "\n",
    "print(\"Sliding window 5 over train \" + f\"{(correct/samples)*100:.2f}\" + \"%\")\n",
    "\n",
    "#test data 5\n",
    "correct = 0\n",
    "samples = int(len(predicted_classes_test)/5)\n",
    "for i in range(samples):\n",
    "    index = i*5\n",
    "    list = predicted_classes_test[index:index+5]\n",
    "    counts = Counter(list)\n",
    "    mf = counts.most_common(1)[0][0]\n",
    "    if mf == int(y_test['class'].iloc[index]):\n",
    "        correct += 1\n",
    "\n",
    "print(\"Sliding window 5 over test \" + f\"{(correct/samples)*100:.2f}\" + \"%\")\n",
    "\n",
    "\n",
    "\n",
    "\n",
    "\n",
    "#train data 10\n",
    "correct = 0\n",
    "samples = int(len(predicted_classes_train)/10)\n",
    "for i in range(samples):\n",
    "    index = i*5\n",
    "    list = predicted_classes_train[index:index+10]\n",
    "    counts = Counter(list)\n",
    "    mf = counts.most_common(1)[0][0]\n",
    "    if mf == int(y_train['class'].iloc[index]):\n",
    "        correct += 1\n",
    "\n",
    "print(\"Sliding window 10 over train \" + f\"{(correct/samples)*100:.2f}\" + \"%\")\n",
    "\n",
    "#test data 10\n",
    "correct = 0\n",
    "samples = int(len(predicted_classes_test)/10)\n",
    "for i in range(samples):\n",
    "    index = i*5\n",
    "    list = predicted_classes_test[index:index+10]\n",
    "    counts = Counter(list)\n",
    "    mf = counts.most_common(1)[0][0]\n",
    "    if mf == int(y_test['class'].iloc[index]):\n",
    "        correct += 1\n",
    "\n",
    "print(\"Sliding window 10 over test \" + f\"{(correct/samples)*100:.2f}\" + \"%\")"
   ]
  },
  {
   "cell_type": "code",
   "execution_count": null,
   "metadata": {},
   "outputs": [
    {
     "name": "stdout",
     "output_type": "stream",
     "text": [
      "\u001b[1m9370/9370\u001b[0m \u001b[32m━━━━━━━━━━━━━━━━━━━━\u001b[0m\u001b[37m\u001b[0m \u001b[1m3s\u001b[0m 278us/step - accuracy: 0.8799 - loss: 0.3473\n"
     ]
    },
    {
     "data": {
      "text/plain": [
       "[0.48811715841293335, 0.8237980008125305]"
      ]
     },
     "execution_count": 20,
     "metadata": {},
     "output_type": "execute_result"
    }
   ],
   "source": [
    "model.evaluate(X_test,y_test)"
   ]
  },
  {
   "cell_type": "code",
   "execution_count": null,
   "metadata": {},
   "outputs": [
    {
     "name": "stdout",
     "output_type": "stream",
     "text": [
      "\u001b[1m9370/9370\u001b[0m \u001b[32m━━━━━━━━━━━━━━━━━━━━\u001b[0m\u001b[37m\u001b[0m \u001b[1m3s\u001b[0m 279us/step\n"
     ]
    },
    {
     "data": {
      "image/png": "[encoded data removed]",
      "text/plain": [
       "<Figure size 640x480 with 2 Axes>"
      ]
     },
     "metadata": {},
     "output_type": "display_data"
    }
   ],
   "source": [
    "import torch\n",
    "import seaborn as sns\n",
    "import matplotlib.pyplot as plt\n",
    "from sklearn.metrics import confusion_matrix\n",
    "\n",
    "y_true = y_test\n",
    "y_pred = model.predict(X_test)\n",
    "y_pred = y_pred.argmax(axis=1)\n",
    "\n",
    "\n",
    "cm = confusion_matrix(y_true, y_pred)\n",
    "sns.heatmap(cm/np.sum(cm), annot=True, cmap='Blues', fmt='.2%', xticklabels=[f'0', '1', '2', '3', '4', '5'], yticklabels=[f'0', '1', '2', '3', '4', '5'])\n",
    "plt.title('Confusion Matrix')\n",
    "plt.xlabel('Predicted', fontsize=14, color='grey')\n",
    "plt.ylabel('Actual', fontsize=14, color='grey')\n",
    "plt.show()"
   ]
  },
  {
   "cell_type": "markdown",
   "metadata": {},
   "source": []
  }
 ],
 "metadata": {
  "kernelspec": {
   "display_name": "neuralnets",
   "language": "python",
   "name": "python3"
  },
  "language_info": {
   "codemirror_mode": {
    "name": "ipython",
    "version": 3
   },
   "file_extension": ".py",
   "mimetype": "text/x-python",
   "name": "python",
   "nbconvert_exporter": "python",
   "pygments_lexer": "ipython3",
   "version": "3.10.13"
  }
 },
 "nbformat": 4,
 "nbformat_minor": 2
}

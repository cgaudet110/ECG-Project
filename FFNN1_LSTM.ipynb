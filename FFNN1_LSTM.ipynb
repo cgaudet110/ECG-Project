{
 "cells": [
  {
   "cell_type": "markdown",
   "metadata": {},
   "source": [
    "This notebook contains code for the first FFNN (before optimization) and code for all LSTM models "
   ]
  },
  {
   "cell_type": "markdown",
   "metadata": {},
   "source": [
    "# FFNN"
   ]
  },
  {
   "cell_type": "code",
   "execution_count": 46,
   "metadata": {},
   "outputs": [],
   "source": [
    "import pandas as pd\n",
    "import numpy as np\n",
    "from sklearn.preprocessing import StandardScaler\n",
    "from sklearn.model_selection import train_test_split\n",
    "from keras import Sequential\n",
    "from keras.layers import Dense\n",
    "from keras.layers import LSTM\n",
    "from keras.layers import Dropout\n",
    "from keras.regularizers import l2\n"
   ]
  },
  {
   "cell_type": "code",
   "execution_count": 13,
   "metadata": {},
   "outputs": [],
   "source": [
    "def read_table(path):\n",
    "    \"\"\"Reads table and drops irrelevant rows and columns.\n",
    "    Returns an analysis ready DataFrame\"\"\"\n",
    "    df = pd.read_table('EMG/'+path)\n",
    "    df = df[df['class']!=0]\n",
    "    df = df[df['class'] != 7]\n",
    "    df.drop(columns=['time'], inplace=True)\n",
    "\n",
    "    # Map the classes so they range from 0-6 for cross entropy loss to work\n",
    "    mapping = {1:0, 2:1, 3:2, 4:3, 5:4, 6:5, 7:6} # get rid of 7 later\n",
    "    df['class'] = df['class'].map(mapping)\n",
    "\n",
    "    df.reset_index(drop=True,inplace=True)\n",
    "    return df\n",
    "\n",
    "\n",
    "def scaler(df):\n",
    "    \"\"\"Normalizes the data, returns a DataFrame with the new scaled numbers\"\"\"\n",
    "    scaler = StandardScaler()\n",
    "    scaled = scaler.fit_transform(df)\n",
    "    df_scaled = pd.DataFrame(scaled, columns=df.columns)\n",
    "    return df_scaled"
   ]
  },
  {
   "cell_type": "code",
   "execution_count": 14,
   "metadata": {},
   "outputs": [
    {
     "data": {
      "text/html": [
       "<div>\n",
       "<style scoped>\n",
       "    .dataframe tbody tr th:only-of-type {\n",
       "        vertical-align: middle;\n",
       "    }\n",
       "\n",
       "    .dataframe tbody tr th {\n",
       "        vertical-align: top;\n",
       "    }\n",
       "\n",
       "    .dataframe thead th {\n",
       "        text-align: right;\n",
       "    }\n",
       "</style>\n",
       "<table border=\"1\" class=\"dataframe\">\n",
       "  <thead>\n",
       "    <tr style=\"text-align: right;\">\n",
       "      <th></th>\n",
       "      <th>channel1</th>\n",
       "      <th>channel2</th>\n",
       "      <th>channel3</th>\n",
       "      <th>channel4</th>\n",
       "      <th>channel5</th>\n",
       "      <th>channel6</th>\n",
       "      <th>channel7</th>\n",
       "      <th>channel8</th>\n",
       "      <th>class</th>\n",
       "    </tr>\n",
       "  </thead>\n",
       "  <tbody>\n",
       "    <tr>\n",
       "      <th>0</th>\n",
       "      <td>-0.00001</td>\n",
       "      <td>0.00000</td>\n",
       "      <td>-0.00001</td>\n",
       "      <td>0.00000</td>\n",
       "      <td>0.00000</td>\n",
       "      <td>-0.00001</td>\n",
       "      <td>-0.00001</td>\n",
       "      <td>0.00001</td>\n",
       "      <td>0.0</td>\n",
       "    </tr>\n",
       "    <tr>\n",
       "      <th>1</th>\n",
       "      <td>-0.00001</td>\n",
       "      <td>-0.00002</td>\n",
       "      <td>0.00000</td>\n",
       "      <td>-0.00001</td>\n",
       "      <td>-0.00001</td>\n",
       "      <td>-0.00001</td>\n",
       "      <td>-0.00003</td>\n",
       "      <td>-0.00002</td>\n",
       "      <td>0.0</td>\n",
       "    </tr>\n",
       "    <tr>\n",
       "      <th>2</th>\n",
       "      <td>-0.00001</td>\n",
       "      <td>-0.00002</td>\n",
       "      <td>0.00000</td>\n",
       "      <td>-0.00001</td>\n",
       "      <td>-0.00001</td>\n",
       "      <td>-0.00001</td>\n",
       "      <td>-0.00003</td>\n",
       "      <td>-0.00002</td>\n",
       "      <td>0.0</td>\n",
       "    </tr>\n",
       "    <tr>\n",
       "      <th>3</th>\n",
       "      <td>-0.00001</td>\n",
       "      <td>-0.00002</td>\n",
       "      <td>0.00000</td>\n",
       "      <td>-0.00001</td>\n",
       "      <td>-0.00001</td>\n",
       "      <td>-0.00001</td>\n",
       "      <td>-0.00003</td>\n",
       "      <td>-0.00002</td>\n",
       "      <td>0.0</td>\n",
       "    </tr>\n",
       "    <tr>\n",
       "      <th>4</th>\n",
       "      <td>-0.00001</td>\n",
       "      <td>-0.00002</td>\n",
       "      <td>0.00000</td>\n",
       "      <td>-0.00001</td>\n",
       "      <td>-0.00001</td>\n",
       "      <td>-0.00001</td>\n",
       "      <td>-0.00003</td>\n",
       "      <td>-0.00002</td>\n",
       "      <td>0.0</td>\n",
       "    </tr>\n",
       "  </tbody>\n",
       "</table>\n",
       "</div>"
      ],
      "text/plain": [
       "   channel1  channel2  channel3  channel4  channel5  channel6  channel7  \\\n",
       "0  -0.00001   0.00000  -0.00001   0.00000   0.00000  -0.00001  -0.00001   \n",
       "1  -0.00001  -0.00002   0.00000  -0.00001  -0.00001  -0.00001  -0.00003   \n",
       "2  -0.00001  -0.00002   0.00000  -0.00001  -0.00001  -0.00001  -0.00003   \n",
       "3  -0.00001  -0.00002   0.00000  -0.00001  -0.00001  -0.00001  -0.00003   \n",
       "4  -0.00001  -0.00002   0.00000  -0.00001  -0.00001  -0.00001  -0.00003   \n",
       "\n",
       "   channel8  class  \n",
       "0   0.00001    0.0  \n",
       "1  -0.00002    0.0  \n",
       "2  -0.00002    0.0  \n",
       "3  -0.00002    0.0  \n",
       "4  -0.00002    0.0  "
      ]
     },
     "execution_count": 14,
     "metadata": {},
     "output_type": "execute_result"
    }
   ],
   "source": [
    "# Creating full dataset by combining all the subjects' data\n",
    "df = pd.concat([read_table('1/1_1.txt'), read_table('1/2_1.txt')])\n",
    "for n in range(2,37):\n",
    "    path1 = f'{n}/1_{n}.txt'\n",
    "    df = pd.concat([df, read_table(path1)])\n",
    "    path2 = f'{n}/2_{n}.txt'\n",
    "    df = pd.concat([df, read_table(path2)])\n",
    "\n",
    "# We found one row with NaN as a class value so we just dropped it.\n",
    "df = df.dropna()\n",
    "\n",
    "df.reset_index(drop=True,inplace=True)\n",
    "\n",
    "df.head()"
   ]
  },
  {
   "cell_type": "code",
   "execution_count": 15,
   "metadata": {},
   "outputs": [],
   "source": [
    "# Creating train/test split and scaling input data\n",
    "x = df.drop(columns='class')\n",
    "y = df['class']\n",
    "X_train, X_test, y_train, y_test = train_test_split(x,y, test_size=0.20, random_state=3)\n",
    "X_train = scaler(X_train)\n",
    "X_test = scaler(X_test)"
   ]
  },
  {
   "cell_type": "code",
   "execution_count": 20,
   "metadata": {},
   "outputs": [
    {
     "data": {
      "text/html": [
       "<div>\n",
       "<style scoped>\n",
       "    .dataframe tbody tr th:only-of-type {\n",
       "        vertical-align: middle;\n",
       "    }\n",
       "\n",
       "    .dataframe tbody tr th {\n",
       "        vertical-align: top;\n",
       "    }\n",
       "\n",
       "    .dataframe thead th {\n",
       "        text-align: right;\n",
       "    }\n",
       "</style>\n",
       "<table border=\"1\" class=\"dataframe\">\n",
       "  <thead>\n",
       "    <tr style=\"text-align: right;\">\n",
       "      <th></th>\n",
       "      <th>channel1</th>\n",
       "      <th>channel2</th>\n",
       "      <th>channel3</th>\n",
       "      <th>channel4</th>\n",
       "      <th>channel5</th>\n",
       "      <th>channel6</th>\n",
       "      <th>channel7</th>\n",
       "      <th>channel8</th>\n",
       "    </tr>\n",
       "  </thead>\n",
       "  <tbody>\n",
       "    <tr>\n",
       "      <th>0</th>\n",
       "      <td>-0.379317</td>\n",
       "      <td>-0.586147</td>\n",
       "      <td>-0.944383</td>\n",
       "      <td>-0.418188</td>\n",
       "      <td>-0.161108</td>\n",
       "      <td>-0.033096</td>\n",
       "      <td>-0.114519</td>\n",
       "      <td>-0.198136</td>\n",
       "    </tr>\n",
       "    <tr>\n",
       "      <th>1</th>\n",
       "      <td>-0.009885</td>\n",
       "      <td>-0.075221</td>\n",
       "      <td>-0.002796</td>\n",
       "      <td>-0.002283</td>\n",
       "      <td>-0.097792</td>\n",
       "      <td>-0.033096</td>\n",
       "      <td>-0.057836</td>\n",
       "      <td>0.001964</td>\n",
       "    </tr>\n",
       "    <tr>\n",
       "      <th>2</th>\n",
       "      <td>-0.590421</td>\n",
       "      <td>-1.243051</td>\n",
       "      <td>-3.262134</td>\n",
       "      <td>-2.081805</td>\n",
       "      <td>-1.142495</td>\n",
       "      <td>-0.033096</td>\n",
       "      <td>-0.964764</td>\n",
       "      <td>-0.748410</td>\n",
       "    </tr>\n",
       "    <tr>\n",
       "      <th>3</th>\n",
       "      <td>-1.857043</td>\n",
       "      <td>5.763924</td>\n",
       "      <td>1.083650</td>\n",
       "      <td>0.678287</td>\n",
       "      <td>2.561451</td>\n",
       "      <td>2.977124</td>\n",
       "      <td>1.926071</td>\n",
       "      <td>0.552237</td>\n",
       "    </tr>\n",
       "    <tr>\n",
       "      <th>4</th>\n",
       "      <td>-1.593163</td>\n",
       "      <td>-2.629848</td>\n",
       "      <td>-0.582234</td>\n",
       "      <td>-0.115712</td>\n",
       "      <td>0.028838</td>\n",
       "      <td>-0.153505</td>\n",
       "      <td>-0.057836</td>\n",
       "      <td>1.502711</td>\n",
       "    </tr>\n",
       "  </tbody>\n",
       "</table>\n",
       "</div>"
      ],
      "text/plain": [
       "   channel1  channel2  channel3  channel4  channel5  channel6  channel7  \\\n",
       "0 -0.379317 -0.586147 -0.944383 -0.418188 -0.161108 -0.033096 -0.114519   \n",
       "1 -0.009885 -0.075221 -0.002796 -0.002283 -0.097792 -0.033096 -0.057836   \n",
       "2 -0.590421 -1.243051 -3.262134 -2.081805 -1.142495 -0.033096 -0.964764   \n",
       "3 -1.857043  5.763924  1.083650  0.678287  2.561451  2.977124  1.926071   \n",
       "4 -1.593163 -2.629848 -0.582234 -0.115712  0.028838 -0.153505 -0.057836   \n",
       "\n",
       "   channel8  \n",
       "0 -0.198136  \n",
       "1  0.001964  \n",
       "2 -0.748410  \n",
       "3  0.552237  \n",
       "4  1.502711  "
      ]
     },
     "execution_count": 20,
     "metadata": {},
     "output_type": "execute_result"
    }
   ],
   "source": [
    "# What our scaled input data looks like\n",
    "X_train.head()"
   ]
  },
  {
   "cell_type": "code",
   "execution_count": 23,
   "metadata": {},
   "outputs": [
    {
     "name": "stdout",
     "output_type": "stream",
     "text": [
      "Epoch 1/20\n"
     ]
    },
    {
     "name": "stderr",
     "output_type": "stream",
     "text": [
      "2024-05-07 14:21:07.500746: W tensorflow/tsl/platform/profile_utils/cpu_utils.cc:128] Failed to get CPU frequency: 0 Hz\n"
     ]
    },
    {
     "name": "stdout",
     "output_type": "stream",
     "text": [
      "39975/39975 [==============================] - 21s 513us/step - loss: 1.0451 - accuracy: 0.5846\n",
      "Epoch 2/20\n",
      "39975/39975 [==============================] - 20s 512us/step - loss: 0.9863 - accuracy: 0.6089\n",
      "Epoch 3/20\n",
      "39975/39975 [==============================] - 21s 518us/step - loss: 0.9800 - accuracy: 0.6104\n",
      "Epoch 4/20\n",
      "39975/39975 [==============================] - 21s 535us/step - loss: 0.9767 - accuracy: 0.6112\n",
      "Epoch 5/20\n",
      "39975/39975 [==============================] - 21s 519us/step - loss: 0.9733 - accuracy: 0.6119\n",
      "Epoch 6/20\n",
      "39975/39975 [==============================] - 20s 513us/step - loss: 0.9713 - accuracy: 0.6127\n",
      "Epoch 7/20\n",
      "39975/39975 [==============================] - 20s 506us/step - loss: 0.9705 - accuracy: 0.6130\n",
      "Epoch 8/20\n",
      "39975/39975 [==============================] - 24s 607us/step - loss: 0.9701 - accuracy: 0.6133\n",
      "Epoch 9/20\n",
      "39975/39975 [==============================] - 20s 501us/step - loss: 0.9698 - accuracy: 0.6134\n",
      "Epoch 10/20\n",
      "39975/39975 [==============================] - 20s 496us/step - loss: 0.9697 - accuracy: 0.6132\n",
      "Epoch 11/20\n",
      "39975/39975 [==============================] - 20s 502us/step - loss: 0.9696 - accuracy: 0.6132\n",
      "Epoch 12/20\n",
      "39975/39975 [==============================] - 20s 492us/step - loss: 0.9691 - accuracy: 0.6137\n",
      "Epoch 13/20\n",
      "39975/39975 [==============================] - 20s 498us/step - loss: 0.9689 - accuracy: 0.6134\n",
      "Epoch 14/20\n",
      "39975/39975 [==============================] - 20s 496us/step - loss: 0.9688 - accuracy: 0.6133\n",
      "Epoch 15/20\n",
      "39975/39975 [==============================] - 20s 497us/step - loss: 0.9687 - accuracy: 0.6136\n",
      "Epoch 16/20\n",
      "39975/39975 [==============================] - 20s 498us/step - loss: 0.9687 - accuracy: 0.6138\n",
      "Epoch 17/20\n",
      "39975/39975 [==============================] - 20s 497us/step - loss: 0.9686 - accuracy: 0.6137\n",
      "Epoch 18/20\n",
      "39975/39975 [==============================] - 20s 501us/step - loss: 0.9686 - accuracy: 0.6140\n",
      "Epoch 19/20\n",
      "39975/39975 [==============================] - 20s 496us/step - loss: 0.9685 - accuracy: 0.6139\n",
      "Epoch 20/20\n",
      "39975/39975 [==============================] - 22s 545us/step - loss: 0.9683 - accuracy: 0.6136\n"
     ]
    },
    {
     "data": {
      "text/plain": [
       "<keras.callbacks.History at 0x177570090>"
      ]
     },
     "execution_count": 23,
     "metadata": {},
     "output_type": "execute_result"
    }
   ],
   "source": [
    "# FFNN model attempt 1 (with last gesture removed)\n",
    "model = Sequential()\n",
    "model.add(Dense(10, input_dim=8, activation='relu'))\n",
    "model.add(Dense(10, activation='relu'))\n",
    "model.add(Dense(6,activation='softmax'))\n",
    "\n",
    "model.compile(optimizer='adam',\n",
    "              loss='sparse_categorical_crossentropy',\n",
    "              metrics=['accuracy'])\n",
    "model.fit(X_train, y_train, epochs=20, batch_size=30)"
   ]
  },
  {
   "cell_type": "code",
   "execution_count": 28,
   "metadata": {},
   "outputs": [
    {
     "name": "stdout",
     "output_type": "stream",
     "text": [
      "9370/9370 [==============================] - 4s 421us/step - loss: 0.9674 - accuracy: 0.6144\n",
      "Testing accuracy: 0.6143770813941956\n"
     ]
    }
   ],
   "source": [
    "# Look at test accuracy\n",
    "loss, accuracy = model.evaluate(X_test,y_test)\n",
    "print(f'Testing accuracy: {accuracy}')\n",
    "\n",
    "# About the same as training, so hopefully no overfitting"
   ]
  },
  {
   "cell_type": "code",
   "execution_count": 26,
   "metadata": {},
   "outputs": [
    {
     "name": "stdout",
     "output_type": "stream",
     "text": [
      "9370/9370 [==============================] - 3s 355us/step\n"
     ]
    },
    {
     "data": {
      "image/png": "[encoded data removed]",
      "text/plain": [
       "<Figure size 640x480 with 2 Axes>"
      ]
     },
     "metadata": {},
     "output_type": "display_data"
    }
   ],
   "source": [
    "# TODO: AKSHAYA add confusion matrix (and  maybe small analysis) here, mine doesn't properly show numbers\n",
    "import torch\n",
    "import seaborn as sns\n",
    "import matplotlib.pyplot as plt\n",
    "from sklearn.metrics import confusion_matrix\n",
    "\n",
    "y_true = y_test\n",
    "y_pred = model.predict(X_test)\n",
    "y_pred = y_pred.argmax(axis=1)\n",
    "\n",
    "\n",
    "cm = confusion_matrix(y_true, y_pred)\n",
    "sns.heatmap(cm/np.sum(cm), annot=True, cmap='Blues', fmt='.2%', xticklabels=[f'0', '1', '2', '3', '4', '5'], \n",
    "            yticklabels=[f'0', '1', '2', '3', '4', '5'])\n",
    "plt.title('Confusion Matrix')\n",
    "plt.xlabel('Predicted', fontsize=14, color='grey')\n",
    "plt.ylabel('Actual', fontsize=14, color='grey')\n",
    "plt.show()"
   ]
  },
  {
   "cell_type": "markdown",
   "metadata": {},
   "source": [
    "# LSTM"
   ]
  },
  {
   "cell_type": "code",
   "execution_count": 32,
   "metadata": {},
   "outputs": [],
   "source": [
    "# There are two sets of readings for each gesture in each dataset. \n",
    "# Here we make a function to collect readings for each gesture over a 1 second window of time\n",
    "def collect_readings(df):\n",
    "    \"\"\"\n",
    "    Collects the readings for each gesture in given df over a 1 second window.\n",
    "    Returns two arrays, one containing the readings of shape (12, 1000, 8)\n",
    "    and another of shape (12,) containing the respective gesture class.\n",
    "    \"\"\"\n",
    "    readings = np.zeros((12,1000,8))\n",
    "    gestures = np.zeros((12))\n",
    "    index = 0\n",
    "    for i in range(6):\n",
    "        first = df[df['class']==i].iloc[:1000]\n",
    "        second = df[df['class']==i].iloc[-1000:]\n",
    "        readings1 = first.drop(columns='class').values\n",
    "        readings2 = second.drop(columns='class').values\n",
    "        readings[index] = readings1\n",
    "        readings[index+1] = readings2\n",
    "        gestures[index] = i\n",
    "        gestures[index+1] = i\n",
    "        index += 2\n",
    "\n",
    "    return readings,gestures\n",
    "\n",
    "# Here is a similar function to the one above, but collects readings over 0.5 second window\n",
    "def collect_readings2(df):\n",
    "    \"\"\"\n",
    "    Collects the readings for each gesture in given df over a 0.5 second window.\n",
    "    Returns two arrays, one containing the readings of shape (24, 500, 8)\n",
    "    and another of shape (24,) containing the respective gesture class.\n",
    "    \"\"\"\n",
    "    readings = np.zeros((24,500,8))\n",
    "    gestures = np.zeros((24))\n",
    "    index = 0\n",
    "    for i in range(6):\n",
    "        first = df[df['class']==i].iloc[:500].drop(columns='class').values\n",
    "        sec = df[df['class']==i].iloc[500:1000].drop(columns='class').values\n",
    "        third = df[df['class']==i].iloc[-500:].drop(columns='class').values\n",
    "        fourth = df[df['class']==i].iloc[-1000:-500].drop(columns='class').values\n",
    "        readings[index] = first\n",
    "        readings[index+1] = sec\n",
    "        readings[index+2] = third\n",
    "        readings[index+3] = fourth\n",
    "        gestures[index:index+4] = i\n",
    "        index += 4\n",
    "\n",
    "    return readings,gestures"
   ]
  },
  {
   "cell_type": "code",
   "execution_count": 37,
   "metadata": {},
   "outputs": [],
   "source": [
    "# Code to create input and output arrays for LSTM (1 second window)\n",
    "df1 = read_table('1/1_1.txt')\n",
    "df2 = read_table('1/2_1.txt')\n",
    "x1, y1 = collect_readings(df1)\n",
    "x2, y2 = collect_readings(df2)\n",
    "x = np.concatenate((x1,x2))\n",
    "y = np.concatenate((y1,y2))\n",
    "for n in range(2,37):\n",
    "    path1 = f'{n}/1_{n}.txt'\n",
    "    df1 = read_table(path1)\n",
    "    readings1, gestures1 = collect_readings(df1)\n",
    "    x = np.concatenate((x, readings1))\n",
    "    y = np.concatenate((y, gestures1))\n",
    "    \n",
    "    path2 = f'{n}/2_{n}.txt'\n",
    "    df2 = read_table(path2)\n",
    "    readings2, gestures2 = collect_readings(df2)\n",
    "    x = np.concatenate((x, readings2))\n",
    "    y = np.concatenate((y, gestures2))"
   ]
  },
  {
   "cell_type": "code",
   "execution_count": 39,
   "metadata": {},
   "outputs": [],
   "source": [
    "# Making train/test split and normalizing\n",
    "X_train, X_test, y_train, y_test = train_test_split(x, y, test_size=0.20, random_state=3)\n",
    "\n",
    "scaler = StandardScaler()\n",
    "reshaped = X_train.reshape(-1, X_train.shape[-1])\n",
    "normalized = scaler.fit_transform(reshaped)\n",
    "X_train = normalized.reshape(X_train.shape)\n",
    "\n",
    "scaler = StandardScaler()\n",
    "reshaped = X_test.reshape(-1, X_test.shape[-1])\n",
    "normalized = scaler.fit_transform(reshaped)\n",
    "X_test = normalized.reshape(X_test.shape)"
   ]
  },
  {
   "cell_type": "code",
   "execution_count": 40,
   "metadata": {},
   "outputs": [
    {
     "name": "stdout",
     "output_type": "stream",
     "text": [
      "Epoch 1/20\n",
      "24/24 [==============================] - 4s 153ms/step - loss: 1.8257 - accuracy: 0.1592\n",
      "Epoch 2/20\n",
      "24/24 [==============================] - 4s 154ms/step - loss: 1.7631 - accuracy: 0.1809\n",
      "Epoch 3/20\n",
      "24/24 [==============================] - 4s 153ms/step - loss: 1.7301 - accuracy: 0.1910\n",
      "Epoch 4/20\n",
      "24/24 [==============================] - 4s 154ms/step - loss: 1.6990 - accuracy: 0.2069\n",
      "Epoch 5/20\n",
      "24/24 [==============================] - 4s 158ms/step - loss: 6.7351 - accuracy: 0.2142\n",
      "Epoch 6/20\n",
      "24/24 [==============================] - 4s 159ms/step - loss: 4.5117 - accuracy: 0.2735\n",
      "Epoch 7/20\n",
      "24/24 [==============================] - 4s 156ms/step - loss: 2.2627 - accuracy: 0.3039\n",
      "Epoch 8/20\n",
      "24/24 [==============================] - 4s 157ms/step - loss: 2.5985 - accuracy: 0.2692\n",
      "Epoch 9/20\n",
      "24/24 [==============================] - 4s 157ms/step - loss: 1.7756 - accuracy: 0.2981\n",
      "Epoch 10/20\n",
      "24/24 [==============================] - 4s 158ms/step - loss: 1.6946 - accuracy: 0.3184\n",
      "Epoch 11/20\n",
      "24/24 [==============================] - 4s 156ms/step - loss: 1.6768 - accuracy: 0.3329\n",
      "Epoch 12/20\n",
      "24/24 [==============================] - 4s 157ms/step - loss: 1.6710 - accuracy: 0.3372\n",
      "Epoch 13/20\n",
      "24/24 [==============================] - 4s 158ms/step - loss: 1.6655 - accuracy: 0.3502\n",
      "Epoch 14/20\n",
      "24/24 [==============================] - 4s 158ms/step - loss: 1.6549 - accuracy: 0.3763\n",
      "Epoch 15/20\n",
      "24/24 [==============================] - 4s 158ms/step - loss: 1.6500 - accuracy: 0.3878\n",
      "Epoch 16/20\n",
      "24/24 [==============================] - 4s 156ms/step - loss: 1.6457 - accuracy: 0.3922\n",
      "Epoch 17/20\n",
      "24/24 [==============================] - 4s 157ms/step - loss: 1.6421 - accuracy: 0.3951\n",
      "Epoch 18/20\n",
      "24/24 [==============================] - 4s 158ms/step - loss: 1.6381 - accuracy: 0.3951\n",
      "Epoch 19/20\n",
      "24/24 [==============================] - 4s 158ms/step - loss: 1.6343 - accuracy: 0.3907\n",
      "Epoch 20/20\n",
      "24/24 [==============================] - 4s 156ms/step - loss: 1.6305 - accuracy: 0.3951\n"
     ]
    },
    {
     "data": {
      "text/plain": [
       "<keras.callbacks.History at 0x11ac56310>"
      ]
     },
     "execution_count": 40,
     "metadata": {},
     "output_type": "execute_result"
    }
   ],
   "source": [
    "# LSTM model attempt 1 \n",
    "model = Sequential()\n",
    "model.add(LSTM(10, input_shape=(1000, 8), input_dim=8, activation='relu'))\n",
    "model.add(Dense(6, activation='softmax'))\n",
    "\n",
    "model.compile(optimizer='adam',\n",
    "              loss='sparse_categorical_crossentropy',\n",
    "              metrics=['accuracy'])\n",
    "model.fit(X_train, y_train, epochs=20, batch_size=30)\n",
    "\n",
    "# Performance looks pretty bad here"
   ]
  },
  {
   "cell_type": "code",
   "execution_count": 41,
   "metadata": {},
   "outputs": [
    {
     "name": "stdout",
     "output_type": "stream",
     "text": [
      "Epoch 1/20\n"
     ]
    },
    {
     "name": "stderr",
     "output_type": "stream",
     "text": [
      "2024-05-07 15:23:05.600826: I tensorflow/core/common_runtime/executor.cc:1197] [/device:CPU:0] (DEBUG INFO) Executor start aborting (this does not indicate an error and you can ignore this message): INVALID_ARGUMENT: You must feed a value for placeholder tensor 'gradients/split_2_grad/concat/split_2/split_dim' with dtype int32\n",
      "\t [[{{node gradients/split_2_grad/concat/split_2/split_dim}}]]\n",
      "2024-05-07 15:23:05.602011: I tensorflow/core/common_runtime/executor.cc:1197] [/device:CPU:0] (DEBUG INFO) Executor start aborting (this does not indicate an error and you can ignore this message): INVALID_ARGUMENT: You must feed a value for placeholder tensor 'gradients/split_grad/concat/split/split_dim' with dtype int32\n",
      "\t [[{{node gradients/split_grad/concat/split/split_dim}}]]\n",
      "2024-05-07 15:23:05.602881: I tensorflow/core/common_runtime/executor.cc:1197] [/device:CPU:0] (DEBUG INFO) Executor start aborting (this does not indicate an error and you can ignore this message): INVALID_ARGUMENT: You must feed a value for placeholder tensor 'gradients/split_1_grad/concat/split_1/split_dim' with dtype int32\n",
      "\t [[{{node gradients/split_1_grad/concat/split_1/split_dim}}]]\n",
      "2024-05-07 15:23:05.815022: I tensorflow/core/common_runtime/executor.cc:1197] [/device:CPU:0] (DEBUG INFO) Executor start aborting (this does not indicate an error and you can ignore this message): INVALID_ARGUMENT: You must feed a value for placeholder tensor 'gradients/split_2_grad/concat/split_2/split_dim' with dtype int32\n",
      "\t [[{{node gradients/split_2_grad/concat/split_2/split_dim}}]]\n",
      "2024-05-07 15:23:05.816481: I tensorflow/core/common_runtime/executor.cc:1197] [/device:CPU:0] (DEBUG INFO) Executor start aborting (this does not indicate an error and you can ignore this message): INVALID_ARGUMENT: You must feed a value for placeholder tensor 'gradients/split_grad/concat/split/split_dim' with dtype int32\n",
      "\t [[{{node gradients/split_grad/concat/split/split_dim}}]]\n",
      "2024-05-07 15:23:05.818255: I tensorflow/core/common_runtime/executor.cc:1197] [/device:CPU:0] (DEBUG INFO) Executor start aborting (this does not indicate an error and you can ignore this message): INVALID_ARGUMENT: You must feed a value for placeholder tensor 'gradients/split_1_grad/concat/split_1/split_dim' with dtype int32\n",
      "\t [[{{node gradients/split_1_grad/concat/split_1/split_dim}}]]\n",
      "2024-05-07 15:23:06.169687: I tensorflow/core/common_runtime/executor.cc:1197] [/device:CPU:0] (DEBUG INFO) Executor start aborting (this does not indicate an error and you can ignore this message): INVALID_ARGUMENT: You must feed a value for placeholder tensor 'gradients/split_2_grad/concat/split_2/split_dim' with dtype int32\n",
      "\t [[{{node gradients/split_2_grad/concat/split_2/split_dim}}]]\n",
      "2024-05-07 15:23:06.170757: I tensorflow/core/common_runtime/executor.cc:1197] [/device:CPU:0] (DEBUG INFO) Executor start aborting (this does not indicate an error and you can ignore this message): INVALID_ARGUMENT: You must feed a value for placeholder tensor 'gradients/split_grad/concat/split/split_dim' with dtype int32\n",
      "\t [[{{node gradients/split_grad/concat/split/split_dim}}]]\n",
      "2024-05-07 15:23:06.171562: I tensorflow/core/common_runtime/executor.cc:1197] [/device:CPU:0] (DEBUG INFO) Executor start aborting (this does not indicate an error and you can ignore this message): INVALID_ARGUMENT: You must feed a value for placeholder tensor 'gradients/split_1_grad/concat/split_1/split_dim' with dtype int32\n",
      "\t [[{{node gradients/split_1_grad/concat/split_1/split_dim}}]]\n"
     ]
    },
    {
     "name": "stdout",
     "output_type": "stream",
     "text": [
      "24/24 [==============================] - 5s 162ms/step - loss: 1.8235 - accuracy: 0.1722\n",
      "Epoch 2/20\n",
      "24/24 [==============================] - 4s 162ms/step - loss: 1.8036 - accuracy: 0.2026\n",
      "Epoch 3/20\n",
      "24/24 [==============================] - 4s 162ms/step - loss: 1.7882 - accuracy: 0.2287\n",
      "Epoch 4/20\n",
      "24/24 [==============================] - 4s 161ms/step - loss: 1.7734 - accuracy: 0.2518\n",
      "Epoch 5/20\n",
      "24/24 [==============================] - 4s 162ms/step - loss: 1.7593 - accuracy: 0.2865\n",
      "Epoch 6/20\n",
      "24/24 [==============================] - 4s 161ms/step - loss: 1.7448 - accuracy: 0.3010\n",
      "Epoch 7/20\n",
      "24/24 [==============================] - 4s 160ms/step - loss: 1.7293 - accuracy: 0.3256\n",
      "Epoch 8/20\n",
      "24/24 [==============================] - 4s 162ms/step - loss: 1.7128 - accuracy: 0.3372\n",
      "Epoch 9/20\n",
      "24/24 [==============================] - 4s 162ms/step - loss: 1.6925 - accuracy: 0.3343\n",
      "Epoch 10/20\n",
      "24/24 [==============================] - 4s 162ms/step - loss: 1.6600 - accuracy: 0.3415\n",
      "Epoch 11/20\n",
      "24/24 [==============================] - 4s 162ms/step - loss: 1.6109 - accuracy: 0.3603\n",
      "Epoch 12/20\n",
      "24/24 [==============================] - 4s 159ms/step - loss: 1.5555 - accuracy: 0.3763\n",
      "Epoch 13/20\n",
      "24/24 [==============================] - 4s 162ms/step - loss: 1.5052 - accuracy: 0.4038\n",
      "Epoch 14/20\n",
      "24/24 [==============================] - 4s 161ms/step - loss: 1.4586 - accuracy: 0.4327\n",
      "Epoch 15/20\n",
      "24/24 [==============================] - 4s 162ms/step - loss: 1.4233 - accuracy: 0.4457\n",
      "Epoch 16/20\n",
      "24/24 [==============================] - 4s 160ms/step - loss: 1.3915 - accuracy: 0.4428\n",
      "Epoch 17/20\n",
      "24/24 [==============================] - 4s 164ms/step - loss: 1.4040 - accuracy: 0.4298\n",
      "Epoch 18/20\n",
      "24/24 [==============================] - 4s 161ms/step - loss: 1.5758 - accuracy: 0.3488\n",
      "Epoch 19/20\n",
      "24/24 [==============================] - 4s 161ms/step - loss: 1.3547 - accuracy: 0.4588\n",
      "Epoch 20/20\n",
      "24/24 [==============================] - 4s 160ms/step - loss: 1.3458 - accuracy: 0.4660\n"
     ]
    },
    {
     "data": {
      "text/plain": [
       "<keras.callbacks.History at 0x11adb2ad0>"
      ]
     },
     "execution_count": 41,
     "metadata": {},
     "output_type": "execute_result"
    }
   ],
   "source": [
    "# Model attempt 2: we changed the activation function to tanh\n",
    "model = Sequential()\n",
    "model.add(LSTM(10, input_shape=(1000, 8), input_dim=8, activation='tanh'))\n",
    "model.add(Dense(6, activation='softmax'))\n",
    "\n",
    "model.compile(optimizer='adam',\n",
    "              loss='sparse_categorical_crossentropy',\n",
    "              metrics=['accuracy'])\n",
    "model.fit(X_train, y_train, epochs=20, batch_size=30)\n",
    "\n",
    "# Looking much better with tanh"
   ]
  },
  {
   "cell_type": "code",
   "execution_count": 42,
   "metadata": {},
   "outputs": [
    {
     "name": "stderr",
     "output_type": "stream",
     "text": [
      "2024-05-07 15:24:37.821238: I tensorflow/core/common_runtime/executor.cc:1197] [/device:CPU:0] (DEBUG INFO) Executor start aborting (this does not indicate an error and you can ignore this message): INVALID_ARGUMENT: You must feed a value for placeholder tensor 'gradients/split_2_grad/concat/split_2/split_dim' with dtype int32\n",
      "\t [[{{node gradients/split_2_grad/concat/split_2/split_dim}}]]\n",
      "2024-05-07 15:24:37.822261: I tensorflow/core/common_runtime/executor.cc:1197] [/device:CPU:0] (DEBUG INFO) Executor start aborting (this does not indicate an error and you can ignore this message): INVALID_ARGUMENT: You must feed a value for placeholder tensor 'gradients/split_grad/concat/split/split_dim' with dtype int32\n",
      "\t [[{{node gradients/split_grad/concat/split/split_dim}}]]\n",
      "2024-05-07 15:24:37.822984: I tensorflow/core/common_runtime/executor.cc:1197] [/device:CPU:0] (DEBUG INFO) Executor start aborting (this does not indicate an error and you can ignore this message): INVALID_ARGUMENT: You must feed a value for placeholder tensor 'gradients/split_1_grad/concat/split_1/split_dim' with dtype int32\n",
      "\t [[{{node gradients/split_1_grad/concat/split_1/split_dim}}]]\n"
     ]
    },
    {
     "name": "stdout",
     "output_type": "stream",
     "text": [
      "6/6 [==============================] - 0s 30ms/step - loss: 1.4420 - accuracy: 0.4220\n",
      "Testing accuracy: 0.4219653308391571\n"
     ]
    }
   ],
   "source": [
    "# Look at test accuracy\n",
    "loss, accuracy = model.evaluate(X_test,y_test)\n",
    "print(f'Testing accuracy: {accuracy}')\n",
    "\n",
    "# Testing accuracy not too far off from training\n",
    "# Accuracy is still pretty low overall but tanh looks like it is going to be a better activation function"
   ]
  },
  {
   "cell_type": "code",
   "execution_count": 49,
   "metadata": {},
   "outputs": [
    {
     "name": "stderr",
     "output_type": "stream",
     "text": [
      "2024-05-05 16:55:20.000277: I tensorflow/core/common_runtime/executor.cc:1197] [/device:CPU:0] (DEBUG INFO) Executor start aborting (this does not indicate an error and you can ignore this message): INVALID_ARGUMENT: You must feed a value for placeholder tensor 'gradients/split_2_grad/concat/split_2/split_dim' with dtype int32\n",
      "\t [[{{node gradients/split_2_grad/concat/split_2/split_dim}}]]\n",
      "2024-05-05 16:55:20.001462: I tensorflow/core/common_runtime/executor.cc:1197] [/device:CPU:0] (DEBUG INFO) Executor start aborting (this does not indicate an error and you can ignore this message): INVALID_ARGUMENT: You must feed a value for placeholder tensor 'gradients/split_grad/concat/split/split_dim' with dtype int32\n",
      "\t [[{{node gradients/split_grad/concat/split/split_dim}}]]\n",
      "2024-05-05 16:55:20.002186: I tensorflow/core/common_runtime/executor.cc:1197] [/device:CPU:0] (DEBUG INFO) Executor start aborting (this does not indicate an error and you can ignore this message): INVALID_ARGUMENT: You must feed a value for placeholder tensor 'gradients/split_1_grad/concat/split_1/split_dim' with dtype int32\n",
      "\t [[{{node gradients/split_1_grad/concat/split_1/split_dim}}]]\n",
      "2024-05-05 16:55:20.198602: I tensorflow/core/common_runtime/executor.cc:1197] [/device:CPU:0] (DEBUG INFO) Executor start aborting (this does not indicate an error and you can ignore this message): INVALID_ARGUMENT: You must feed a value for placeholder tensor 'gradients/split_2_grad/concat/split_2/split_dim' with dtype int32\n",
      "\t [[{{node gradients/split_2_grad/concat/split_2/split_dim}}]]\n",
      "2024-05-05 16:55:20.199917: I tensorflow/core/common_runtime/executor.cc:1197] [/device:CPU:0] (DEBUG INFO) Executor start aborting (this does not indicate an error and you can ignore this message): INVALID_ARGUMENT: You must feed a value for placeholder tensor 'gradients/split_grad/concat/split/split_dim' with dtype int32\n",
      "\t [[{{node gradients/split_grad/concat/split/split_dim}}]]\n",
      "2024-05-05 16:55:20.200819: I tensorflow/core/common_runtime/executor.cc:1197] [/device:CPU:0] (DEBUG INFO) Executor start aborting (this does not indicate an error and you can ignore this message): INVALID_ARGUMENT: You must feed a value for placeholder tensor 'gradients/split_1_grad/concat/split_1/split_dim' with dtype int32\n",
      "\t [[{{node gradients/split_1_grad/concat/split_1/split_dim}}]]\n"
     ]
    },
    {
     "name": "stdout",
     "output_type": "stream",
     "text": [
      "Epoch 1/20\n"
     ]
    },
    {
     "name": "stderr",
     "output_type": "stream",
     "text": [
      "2024-05-05 16:55:20.688293: I tensorflow/core/common_runtime/executor.cc:1197] [/device:CPU:0] (DEBUG INFO) Executor start aborting (this does not indicate an error and you can ignore this message): INVALID_ARGUMENT: You must feed a value for placeholder tensor 'gradients/split_2_grad/concat/split_2/split_dim' with dtype int32\n",
      "\t [[{{node gradients/split_2_grad/concat/split_2/split_dim}}]]\n",
      "2024-05-05 16:55:20.692768: I tensorflow/core/common_runtime/executor.cc:1197] [/device:CPU:0] (DEBUG INFO) Executor start aborting (this does not indicate an error and you can ignore this message): INVALID_ARGUMENT: You must feed a value for placeholder tensor 'gradients/split_grad/concat/split/split_dim' with dtype int32\n",
      "\t [[{{node gradients/split_grad/concat/split/split_dim}}]]\n",
      "2024-05-05 16:55:20.695057: I tensorflow/core/common_runtime/executor.cc:1197] [/device:CPU:0] (DEBUG INFO) Executor start aborting (this does not indicate an error and you can ignore this message): INVALID_ARGUMENT: You must feed a value for placeholder tensor 'gradients/split_1_grad/concat/split_1/split_dim' with dtype int32\n",
      "\t [[{{node gradients/split_1_grad/concat/split_1/split_dim}}]]\n",
      "2024-05-05 16:55:20.925872: I tensorflow/core/common_runtime/executor.cc:1197] [/device:CPU:0] (DEBUG INFO) Executor start aborting (this does not indicate an error and you can ignore this message): INVALID_ARGUMENT: You must feed a value for placeholder tensor 'gradients/split_2_grad/concat/split_2/split_dim' with dtype int32\n",
      "\t [[{{node gradients/split_2_grad/concat/split_2/split_dim}}]]\n",
      "2024-05-05 16:55:20.928874: I tensorflow/core/common_runtime/executor.cc:1197] [/device:CPU:0] (DEBUG INFO) Executor start aborting (this does not indicate an error and you can ignore this message): INVALID_ARGUMENT: You must feed a value for placeholder tensor 'gradients/split_grad/concat/split/split_dim' with dtype int32\n",
      "\t [[{{node gradients/split_grad/concat/split/split_dim}}]]\n",
      "2024-05-05 16:55:20.930429: I tensorflow/core/common_runtime/executor.cc:1197] [/device:CPU:0] (DEBUG INFO) Executor start aborting (this does not indicate an error and you can ignore this message): INVALID_ARGUMENT: You must feed a value for placeholder tensor 'gradients/split_1_grad/concat/split_1/split_dim' with dtype int32\n",
      "\t [[{{node gradients/split_1_grad/concat/split_1/split_dim}}]]\n",
      "2024-05-05 16:55:21.571782: I tensorflow/core/common_runtime/executor.cc:1197] [/device:CPU:0] (DEBUG INFO) Executor start aborting (this does not indicate an error and you can ignore this message): INVALID_ARGUMENT: You must feed a value for placeholder tensor 'gradients/split_2_grad/concat/split_2/split_dim' with dtype int32\n",
      "\t [[{{node gradients/split_2_grad/concat/split_2/split_dim}}]]\n",
      "2024-05-05 16:55:21.573024: I tensorflow/core/common_runtime/executor.cc:1197] [/device:CPU:0] (DEBUG INFO) Executor start aborting (this does not indicate an error and you can ignore this message): INVALID_ARGUMENT: You must feed a value for placeholder tensor 'gradients/split_grad/concat/split/split_dim' with dtype int32\n",
      "\t [[{{node gradients/split_grad/concat/split/split_dim}}]]\n",
      "2024-05-05 16:55:21.574049: I tensorflow/core/common_runtime/executor.cc:1197] [/device:CPU:0] (DEBUG INFO) Executor start aborting (this does not indicate an error and you can ignore this message): INVALID_ARGUMENT: You must feed a value for placeholder tensor 'gradients/split_1_grad/concat/split_1/split_dim' with dtype int32\n",
      "\t [[{{node gradients/split_1_grad/concat/split_1/split_dim}}]]\n",
      "2024-05-05 16:55:21.721807: I tensorflow/core/common_runtime/executor.cc:1197] [/device:CPU:0] (DEBUG INFO) Executor start aborting (this does not indicate an error and you can ignore this message): INVALID_ARGUMENT: You must feed a value for placeholder tensor 'gradients/split_2_grad/concat/split_2/split_dim' with dtype int32\n",
      "\t [[{{node gradients/split_2_grad/concat/split_2/split_dim}}]]\n",
      "2024-05-05 16:55:21.723172: I tensorflow/core/common_runtime/executor.cc:1197] [/device:CPU:0] (DEBUG INFO) Executor start aborting (this does not indicate an error and you can ignore this message): INVALID_ARGUMENT: You must feed a value for placeholder tensor 'gradients/split_grad/concat/split/split_dim' with dtype int32\n",
      "\t [[{{node gradients/split_grad/concat/split/split_dim}}]]\n",
      "2024-05-05 16:55:21.724435: I tensorflow/core/common_runtime/executor.cc:1197] [/device:CPU:0] (DEBUG INFO) Executor start aborting (this does not indicate an error and you can ignore this message): INVALID_ARGUMENT: You must feed a value for placeholder tensor 'gradients/split_1_grad/concat/split_1/split_dim' with dtype int32\n",
      "\t [[{{node gradients/split_1_grad/concat/split_1/split_dim}}]]\n"
     ]
    },
    {
     "name": "stdout",
     "output_type": "stream",
     "text": [
      "24/24 [==============================] - 15s 528ms/step - loss: 2.4695 - accuracy: 0.2142\n",
      "Epoch 2/20\n",
      "24/24 [==============================] - 14s 569ms/step - loss: 2.2246 - accuracy: 0.3922\n",
      "Epoch 3/20\n",
      "24/24 [==============================] - 14s 582ms/step - loss: 1.9275 - accuracy: 0.4038\n",
      "Epoch 4/20\n",
      "24/24 [==============================] - 13s 534ms/step - loss: 1.6933 - accuracy: 0.4703\n",
      "Epoch 5/20\n",
      "24/24 [==============================] - 12s 520ms/step - loss: 1.5112 - accuracy: 0.4834\n",
      "Epoch 6/20\n",
      "24/24 [==============================] - 13s 525ms/step - loss: 1.3476 - accuracy: 0.5384\n",
      "Epoch 7/20\n",
      "24/24 [==============================] - 15s 604ms/step - loss: 1.2482 - accuracy: 0.5441\n",
      "Epoch 8/20\n",
      "24/24 [==============================] - 13s 532ms/step - loss: 1.1794 - accuracy: 0.6281\n",
      "Epoch 9/20\n",
      "24/24 [==============================] - 12s 519ms/step - loss: 1.1519 - accuracy: 0.6194\n",
      "Epoch 10/20\n",
      "24/24 [==============================] - 13s 536ms/step - loss: 1.0425 - accuracy: 0.6165\n",
      "Epoch 11/20\n",
      "24/24 [==============================] - 13s 537ms/step - loss: 1.3365 - accuracy: 0.5340\n",
      "Epoch 12/20\n",
      "24/24 [==============================] - 13s 525ms/step - loss: 1.0638 - accuracy: 0.6353\n",
      "Epoch 13/20\n",
      "24/24 [==============================] - 13s 547ms/step - loss: 1.0311 - accuracy: 0.6570\n",
      "Epoch 14/20\n",
      "24/24 [==============================] - 13s 535ms/step - loss: 1.0247 - accuracy: 0.6425\n",
      "Epoch 15/20\n",
      "24/24 [==============================] - 13s 528ms/step - loss: 1.0047 - accuracy: 0.6425\n",
      "Epoch 16/20\n",
      "24/24 [==============================] - 12s 515ms/step - loss: 0.9024 - accuracy: 0.6990\n",
      "Epoch 17/20\n",
      "24/24 [==============================] - 13s 531ms/step - loss: 1.2293 - accuracy: 0.5991\n",
      "Epoch 18/20\n",
      "24/24 [==============================] - 12s 510ms/step - loss: 1.4436 - accuracy: 0.4964\n",
      "Epoch 19/20\n",
      "24/24 [==============================] - 13s 533ms/step - loss: 1.2455 - accuracy: 0.5456\n",
      "Epoch 20/20\n",
      "24/24 [==============================] - 13s 525ms/step - loss: 1.1502 - accuracy: 0.6122\n"
     ]
    },
    {
     "data": {
      "text/plain": [
       "<keras.callbacks.History at 0x29be296d0>"
      ]
     },
     "execution_count": 49,
     "metadata": {},
     "output_type": "execute_result"
    }
   ],
   "source": [
    "# Adding more layers and nodes to increase accuracy as well as l2 regularization to address overfitting concerns\n",
    "model = Sequential()\n",
    "model.add(LSTM(50, input_shape=(1000, 8), input_dim=8, activation='tanh',kernel_regularizer=l2(0.01),return_sequences=True))\n",
    "model.add(LSTM(20, input_shape=(1000, 8), input_dim=8, activation='tanh',kernel_regularizer=l2(0.01)))\n",
    "model.add(Dense(6, activation='softmax'))\n",
    "\n",
    "model.compile(optimizer='adam',\n",
    "              loss='sparse_categorical_crossentropy',\n",
    "              metrics=['accuracy'])\n",
    "model.fit(X_train, y_train, epochs=20, batch_size=30)"
   ]
  },
  {
   "cell_type": "code",
   "execution_count": 50,
   "metadata": {},
   "outputs": [
    {
     "name": "stderr",
     "output_type": "stream",
     "text": [
      "2024-05-05 17:00:01.188303: I tensorflow/core/common_runtime/executor.cc:1197] [/device:CPU:0] (DEBUG INFO) Executor start aborting (this does not indicate an error and you can ignore this message): INVALID_ARGUMENT: You must feed a value for placeholder tensor 'gradients/split_2_grad/concat/split_2/split_dim' with dtype int32\n",
      "\t [[{{node gradients/split_2_grad/concat/split_2/split_dim}}]]\n",
      "2024-05-05 17:00:01.189676: I tensorflow/core/common_runtime/executor.cc:1197] [/device:CPU:0] (DEBUG INFO) Executor start aborting (this does not indicate an error and you can ignore this message): INVALID_ARGUMENT: You must feed a value for placeholder tensor 'gradients/split_grad/concat/split/split_dim' with dtype int32\n",
      "\t [[{{node gradients/split_grad/concat/split/split_dim}}]]\n",
      "2024-05-05 17:00:01.190941: I tensorflow/core/common_runtime/executor.cc:1197] [/device:CPU:0] (DEBUG INFO) Executor start aborting (this does not indicate an error and you can ignore this message): INVALID_ARGUMENT: You must feed a value for placeholder tensor 'gradients/split_1_grad/concat/split_1/split_dim' with dtype int32\n",
      "\t [[{{node gradients/split_1_grad/concat/split_1/split_dim}}]]\n",
      "2024-05-05 17:00:01.359897: I tensorflow/core/common_runtime/executor.cc:1197] [/device:CPU:0] (DEBUG INFO) Executor start aborting (this does not indicate an error and you can ignore this message): INVALID_ARGUMENT: You must feed a value for placeholder tensor 'gradients/split_2_grad/concat/split_2/split_dim' with dtype int32\n",
      "\t [[{{node gradients/split_2_grad/concat/split_2/split_dim}}]]\n",
      "2024-05-05 17:00:01.361080: I tensorflow/core/common_runtime/executor.cc:1197] [/device:CPU:0] (DEBUG INFO) Executor start aborting (this does not indicate an error and you can ignore this message): INVALID_ARGUMENT: You must feed a value for placeholder tensor 'gradients/split_grad/concat/split/split_dim' with dtype int32\n",
      "\t [[{{node gradients/split_grad/concat/split/split_dim}}]]\n",
      "2024-05-05 17:00:01.362027: I tensorflow/core/common_runtime/executor.cc:1197] [/device:CPU:0] (DEBUG INFO) Executor start aborting (this does not indicate an error and you can ignore this message): INVALID_ARGUMENT: You must feed a value for placeholder tensor 'gradients/split_1_grad/concat/split_1/split_dim' with dtype int32\n",
      "\t [[{{node gradients/split_1_grad/concat/split_1/split_dim}}]]\n"
     ]
    },
    {
     "name": "stdout",
     "output_type": "stream",
     "text": [
      "6/6 [==============================] - 1s 99ms/step - loss: 1.2598 - accuracy: 0.5607\n"
     ]
    },
    {
     "data": {
      "text/plain": [
       "[1.2598174810409546, 0.560693621635437]"
      ]
     },
     "execution_count": 50,
     "metadata": {},
     "output_type": "execute_result"
    }
   ],
   "source": [
    "model.evaluate(X_test,y_test)\n",
    "\n",
    "# Accuracy is looking better with the extra layer, testing still a bit lower by 0.05 but not bad at all!"
   ]
  },
  {
   "cell_type": "code",
   "execution_count": 51,
   "metadata": {},
   "outputs": [
    {
     "name": "stderr",
     "output_type": "stream",
     "text": [
      "2024-05-05 17:01:09.098058: I tensorflow/core/common_runtime/executor.cc:1197] [/device:CPU:0] (DEBUG INFO) Executor start aborting (this does not indicate an error and you can ignore this message): INVALID_ARGUMENT: You must feed a value for placeholder tensor 'gradients/split_2_grad/concat/split_2/split_dim' with dtype int32\n",
      "\t [[{{node gradients/split_2_grad/concat/split_2/split_dim}}]]\n",
      "2024-05-05 17:01:09.099373: I tensorflow/core/common_runtime/executor.cc:1197] [/device:CPU:0] (DEBUG INFO) Executor start aborting (this does not indicate an error and you can ignore this message): INVALID_ARGUMENT: You must feed a value for placeholder tensor 'gradients/split_grad/concat/split/split_dim' with dtype int32\n",
      "\t [[{{node gradients/split_grad/concat/split/split_dim}}]]\n",
      "2024-05-05 17:01:09.100531: I tensorflow/core/common_runtime/executor.cc:1197] [/device:CPU:0] (DEBUG INFO) Executor start aborting (this does not indicate an error and you can ignore this message): INVALID_ARGUMENT: You must feed a value for placeholder tensor 'gradients/split_1_grad/concat/split_1/split_dim' with dtype int32\n",
      "\t [[{{node gradients/split_1_grad/concat/split_1/split_dim}}]]\n",
      "2024-05-05 17:01:09.273063: I tensorflow/core/common_runtime/executor.cc:1197] [/device:CPU:0] (DEBUG INFO) Executor start aborting (this does not indicate an error and you can ignore this message): INVALID_ARGUMENT: You must feed a value for placeholder tensor 'gradients/split_2_grad/concat/split_2/split_dim' with dtype int32\n",
      "\t [[{{node gradients/split_2_grad/concat/split_2/split_dim}}]]\n",
      "2024-05-05 17:01:09.274875: I tensorflow/core/common_runtime/executor.cc:1197] [/device:CPU:0] (DEBUG INFO) Executor start aborting (this does not indicate an error and you can ignore this message): INVALID_ARGUMENT: You must feed a value for placeholder tensor 'gradients/split_grad/concat/split/split_dim' with dtype int32\n",
      "\t [[{{node gradients/split_grad/concat/split/split_dim}}]]\n",
      "2024-05-05 17:01:09.277006: I tensorflow/core/common_runtime/executor.cc:1197] [/device:CPU:0] (DEBUG INFO) Executor start aborting (this does not indicate an error and you can ignore this message): INVALID_ARGUMENT: You must feed a value for placeholder tensor 'gradients/split_1_grad/concat/split_1/split_dim' with dtype int32\n",
      "\t [[{{node gradients/split_1_grad/concat/split_1/split_dim}}]]\n"
     ]
    },
    {
     "name": "stdout",
     "output_type": "stream",
     "text": [
      "Epoch 1/20\n"
     ]
    },
    {
     "name": "stderr",
     "output_type": "stream",
     "text": [
      "2024-05-05 17:01:09.896718: I tensorflow/core/common_runtime/executor.cc:1197] [/device:CPU:0] (DEBUG INFO) Executor start aborting (this does not indicate an error and you can ignore this message): INVALID_ARGUMENT: You must feed a value for placeholder tensor 'gradients/split_2_grad/concat/split_2/split_dim' with dtype int32\n",
      "\t [[{{node gradients/split_2_grad/concat/split_2/split_dim}}]]\n",
      "2024-05-05 17:01:09.898619: I tensorflow/core/common_runtime/executor.cc:1197] [/device:CPU:0] (DEBUG INFO) Executor start aborting (this does not indicate an error and you can ignore this message): INVALID_ARGUMENT: You must feed a value for placeholder tensor 'gradients/split_grad/concat/split/split_dim' with dtype int32\n",
      "\t [[{{node gradients/split_grad/concat/split/split_dim}}]]\n",
      "2024-05-05 17:01:09.899824: I tensorflow/core/common_runtime/executor.cc:1197] [/device:CPU:0] (DEBUG INFO) Executor start aborting (this does not indicate an error and you can ignore this message): INVALID_ARGUMENT: You must feed a value for placeholder tensor 'gradients/split_1_grad/concat/split_1/split_dim' with dtype int32\n",
      "\t [[{{node gradients/split_1_grad/concat/split_1/split_dim}}]]\n",
      "2024-05-05 17:01:10.130662: I tensorflow/core/common_runtime/executor.cc:1197] [/device:CPU:0] (DEBUG INFO) Executor start aborting (this does not indicate an error and you can ignore this message): INVALID_ARGUMENT: You must feed a value for placeholder tensor 'gradients/split_2_grad/concat/split_2/split_dim' with dtype int32\n",
      "\t [[{{node gradients/split_2_grad/concat/split_2/split_dim}}]]\n",
      "2024-05-05 17:01:10.133005: I tensorflow/core/common_runtime/executor.cc:1197] [/device:CPU:0] (DEBUG INFO) Executor start aborting (this does not indicate an error and you can ignore this message): INVALID_ARGUMENT: You must feed a value for placeholder tensor 'gradients/split_grad/concat/split/split_dim' with dtype int32\n",
      "\t [[{{node gradients/split_grad/concat/split/split_dim}}]]\n",
      "2024-05-05 17:01:10.136408: I tensorflow/core/common_runtime/executor.cc:1197] [/device:CPU:0] (DEBUG INFO) Executor start aborting (this does not indicate an error and you can ignore this message): INVALID_ARGUMENT: You must feed a value for placeholder tensor 'gradients/split_1_grad/concat/split_1/split_dim' with dtype int32\n",
      "\t [[{{node gradients/split_1_grad/concat/split_1/split_dim}}]]\n",
      "2024-05-05 17:01:10.880162: I tensorflow/core/common_runtime/executor.cc:1197] [/device:CPU:0] (DEBUG INFO) Executor start aborting (this does not indicate an error and you can ignore this message): INVALID_ARGUMENT: You must feed a value for placeholder tensor 'gradients/split_2_grad/concat/split_2/split_dim' with dtype int32\n",
      "\t [[{{node gradients/split_2_grad/concat/split_2/split_dim}}]]\n",
      "2024-05-05 17:01:10.882139: I tensorflow/core/common_runtime/executor.cc:1197] [/device:CPU:0] (DEBUG INFO) Executor start aborting (this does not indicate an error and you can ignore this message): INVALID_ARGUMENT: You must feed a value for placeholder tensor 'gradients/split_grad/concat/split/split_dim' with dtype int32\n",
      "\t [[{{node gradients/split_grad/concat/split/split_dim}}]]\n",
      "2024-05-05 17:01:10.883556: I tensorflow/core/common_runtime/executor.cc:1197] [/device:CPU:0] (DEBUG INFO) Executor start aborting (this does not indicate an error and you can ignore this message): INVALID_ARGUMENT: You must feed a value for placeholder tensor 'gradients/split_1_grad/concat/split_1/split_dim' with dtype int32\n",
      "\t [[{{node gradients/split_1_grad/concat/split_1/split_dim}}]]\n",
      "2024-05-05 17:01:11.063478: I tensorflow/core/common_runtime/executor.cc:1197] [/device:CPU:0] (DEBUG INFO) Executor start aborting (this does not indicate an error and you can ignore this message): INVALID_ARGUMENT: You must feed a value for placeholder tensor 'gradients/split_2_grad/concat/split_2/split_dim' with dtype int32\n",
      "\t [[{{node gradients/split_2_grad/concat/split_2/split_dim}}]]\n",
      "2024-05-05 17:01:11.064691: I tensorflow/core/common_runtime/executor.cc:1197] [/device:CPU:0] (DEBUG INFO) Executor start aborting (this does not indicate an error and you can ignore this message): INVALID_ARGUMENT: You must feed a value for placeholder tensor 'gradients/split_grad/concat/split/split_dim' with dtype int32\n",
      "\t [[{{node gradients/split_grad/concat/split/split_dim}}]]\n",
      "2024-05-05 17:01:11.065556: I tensorflow/core/common_runtime/executor.cc:1197] [/device:CPU:0] (DEBUG INFO) Executor start aborting (this does not indicate an error and you can ignore this message): INVALID_ARGUMENT: You must feed a value for placeholder tensor 'gradients/split_1_grad/concat/split_1/split_dim' with dtype int32\n",
      "\t [[{{node gradients/split_1_grad/concat/split_1/split_dim}}]]\n"
     ]
    },
    {
     "name": "stdout",
     "output_type": "stream",
     "text": [
      "24/24 [==============================] - 18s 623ms/step - loss: 2.4877 - accuracy: 0.2055\n",
      "Epoch 2/20\n",
      "24/24 [==============================] - 13s 530ms/step - loss: 2.2594 - accuracy: 0.3386\n",
      "Epoch 3/20\n",
      "24/24 [==============================] - 13s 543ms/step - loss: 2.0441 - accuracy: 0.4226\n",
      "Epoch 4/20\n",
      "24/24 [==============================] - 13s 548ms/step - loss: 1.8209 - accuracy: 0.4428\n",
      "Epoch 5/20\n",
      "24/24 [==============================] - 13s 561ms/step - loss: 1.6303 - accuracy: 0.4906\n",
      "Epoch 6/20\n",
      "24/24 [==============================] - 13s 552ms/step - loss: 1.4685 - accuracy: 0.5586\n",
      "Epoch 7/20\n",
      "24/24 [==============================] - 15s 624ms/step - loss: 1.3610 - accuracy: 0.5731\n",
      "Epoch 8/20\n",
      "24/24 [==============================] - 14s 561ms/step - loss: 1.2679 - accuracy: 0.5673\n",
      "Epoch 9/20\n",
      "24/24 [==============================] - 13s 524ms/step - loss: 1.1943 - accuracy: 0.5948\n",
      "Epoch 10/20\n",
      "24/24 [==============================] - 13s 520ms/step - loss: 1.1061 - accuracy: 0.6440\n",
      "Epoch 11/20\n",
      "24/24 [==============================] - 13s 539ms/step - loss: 1.0731 - accuracy: 0.6512\n",
      "Epoch 12/20\n",
      "24/24 [==============================] - 12s 518ms/step - loss: 1.0184 - accuracy: 0.6541\n",
      "Epoch 13/20\n",
      "24/24 [==============================] - 13s 523ms/step - loss: 1.0412 - accuracy: 0.6483\n",
      "Epoch 14/20\n",
      "24/24 [==============================] - 12s 514ms/step - loss: 1.7200 - accuracy: 0.4645\n",
      "Epoch 15/20\n",
      "24/24 [==============================] - 15s 634ms/step - loss: 1.5735 - accuracy: 0.4834\n",
      "Epoch 16/20\n",
      "24/24 [==============================] - 12s 516ms/step - loss: 1.3547 - accuracy: 0.5543\n",
      "Epoch 17/20\n",
      "24/24 [==============================] - 13s 560ms/step - loss: 1.2960 - accuracy: 0.5615\n",
      "Epoch 18/20\n",
      "24/24 [==============================] - 13s 521ms/step - loss: 1.4719 - accuracy: 0.5340\n",
      "Epoch 19/20\n",
      "24/24 [==============================] - 13s 539ms/step - loss: 1.5175 - accuracy: 0.4428\n",
      "Epoch 20/20\n",
      "24/24 [==============================] - 12s 517ms/step - loss: 1.4507 - accuracy: 0.4863\n"
     ]
    },
    {
     "data": {
      "text/plain": [
       "<keras.callbacks.History at 0x29f31dd10>"
      ]
     },
     "execution_count": 51,
     "metadata": {},
     "output_type": "execute_result"
    }
   ],
   "source": [
    "# Adding a dropout layer to see if we can make overfitting better\n",
    "model = Sequential()\n",
    "model.add(LSTM(50, input_shape=(1000, 8), input_dim=8, activation='tanh',kernel_regularizer=l2(0.01),return_sequences=True))\n",
    "model.add(Dropout(0.2))\n",
    "model.add(LSTM(20, input_shape=(1000, 8), input_dim=8, activation='tanh',kernel_regularizer=l2(0.01)))\n",
    "model.add(Dense(6, activation='softmax'))\n",
    "\n",
    "model.compile(optimizer='adam',\n",
    "              loss='sparse_categorical_crossentropy',\n",
    "              metrics=['accuracy'])\n",
    "model.fit(X_train, y_train, epochs=20, batch_size=30)"
   ]
  },
  {
   "cell_type": "code",
   "execution_count": 52,
   "metadata": {},
   "outputs": [
    {
     "name": "stderr",
     "output_type": "stream",
     "text": [
      "2024-05-05 17:05:52.634896: I tensorflow/core/common_runtime/executor.cc:1197] [/device:CPU:0] (DEBUG INFO) Executor start aborting (this does not indicate an error and you can ignore this message): INVALID_ARGUMENT: You must feed a value for placeholder tensor 'gradients/split_2_grad/concat/split_2/split_dim' with dtype int32\n",
      "\t [[{{node gradients/split_2_grad/concat/split_2/split_dim}}]]\n",
      "2024-05-05 17:05:52.636349: I tensorflow/core/common_runtime/executor.cc:1197] [/device:CPU:0] (DEBUG INFO) Executor start aborting (this does not indicate an error and you can ignore this message): INVALID_ARGUMENT: You must feed a value for placeholder tensor 'gradients/split_grad/concat/split/split_dim' with dtype int32\n",
      "\t [[{{node gradients/split_grad/concat/split/split_dim}}]]\n",
      "2024-05-05 17:05:52.637292: I tensorflow/core/common_runtime/executor.cc:1197] [/device:CPU:0] (DEBUG INFO) Executor start aborting (this does not indicate an error and you can ignore this message): INVALID_ARGUMENT: You must feed a value for placeholder tensor 'gradients/split_1_grad/concat/split_1/split_dim' with dtype int32\n",
      "\t [[{{node gradients/split_1_grad/concat/split_1/split_dim}}]]\n",
      "2024-05-05 17:05:52.788418: I tensorflow/core/common_runtime/executor.cc:1197] [/device:CPU:0] (DEBUG INFO) Executor start aborting (this does not indicate an error and you can ignore this message): INVALID_ARGUMENT: You must feed a value for placeholder tensor 'gradients/split_2_grad/concat/split_2/split_dim' with dtype int32\n",
      "\t [[{{node gradients/split_2_grad/concat/split_2/split_dim}}]]\n",
      "2024-05-05 17:05:52.789528: I tensorflow/core/common_runtime/executor.cc:1197] [/device:CPU:0] (DEBUG INFO) Executor start aborting (this does not indicate an error and you can ignore this message): INVALID_ARGUMENT: You must feed a value for placeholder tensor 'gradients/split_grad/concat/split/split_dim' with dtype int32\n",
      "\t [[{{node gradients/split_grad/concat/split/split_dim}}]]\n",
      "2024-05-05 17:05:52.790434: I tensorflow/core/common_runtime/executor.cc:1197] [/device:CPU:0] (DEBUG INFO) Executor start aborting (this does not indicate an error and you can ignore this message): INVALID_ARGUMENT: You must feed a value for placeholder tensor 'gradients/split_1_grad/concat/split_1/split_dim' with dtype int32\n",
      "\t [[{{node gradients/split_1_grad/concat/split_1/split_dim}}]]\n"
     ]
    },
    {
     "name": "stdout",
     "output_type": "stream",
     "text": [
      "6/6 [==============================] - 2s 129ms/step - loss: 1.5621 - accuracy: 0.4682\n"
     ]
    },
    {
     "data": {
      "text/plain": [
       "[1.5621366500854492, 0.46820810437202454]"
      ]
     },
     "execution_count": 52,
     "metadata": {},
     "output_type": "execute_result"
    }
   ],
   "source": [
    "model.evaluate(X_test,y_test)\n",
    "\n",
    "# So the dropout layer decreased accuracy by 0.13 but now the testing accuracy is only 0.02 lower than training"
   ]
  },
  {
   "cell_type": "code",
   "execution_count": 53,
   "metadata": {},
   "outputs": [],
   "source": [
    "# Next, we wanted to see if making the window of time smaller would increase accuracy.\n",
    "# 1 second is a pretty long amount of time (1000 ms) when it comes to EMG readings\n",
    "# Making the window smaller also allows us to have more arrays total to train and test on.\n",
    "\n",
    "# Code to make input/output arrays over half-second windows of time\n",
    "df1 = read_table('1/1_1.txt')\n",
    "df2 = read_table('1/2_1.txt')\n",
    "x1, y1 = collect_readings2(df1)\n",
    "x2, y2 = collect_readings2(df2)\n",
    "x = np.concatenate((x1,x2))\n",
    "y = np.concatenate((y1,y2))\n",
    "for n in range(2,37):\n",
    "    path1 = f'{n}/1_{n}.txt'\n",
    "    df1 = read_table(path1)\n",
    "    readings1, gestures1 = collect_readings2(df1)\n",
    "    x = np.concatenate((x, readings1))\n",
    "    y = np.concatenate((y, gestures1))\n",
    "    \n",
    "    path2 = f'{n}/2_{n}.txt'\n",
    "\n",
    "# Making train/test split and normalizing\n",
    "X_train, X_test, y_train, y_test = train_test_split(x, y, test_size=0.20, random_state=3)\n",
    "\n",
    "scaler = StandardScaler()\n",
    "reshaped = X_train.reshape(-1, X_train.shape[-1])\n",
    "normalized = scaler.fit_transform(reshaped)\n",
    "X_train = normalized.reshape(X_train.shape)\n",
    "\n",
    "scaler = StandardScaler()\n",
    "reshaped = X_test.reshape(-1, X_test.shape[-1])\n",
    "normalized = scaler.fit_transform(reshaped)\n",
    "X_test = normalized.reshape(X_test.shape)\n"
   ]
  },
  {
   "cell_type": "code",
   "execution_count": 54,
   "metadata": {},
   "outputs": [
    {
     "name": "stderr",
     "output_type": "stream",
     "text": [
      "2024-05-07 15:55:34.780166: I tensorflow/core/common_runtime/executor.cc:1197] [/device:CPU:0] (DEBUG INFO) Executor start aborting (this does not indicate an error and you can ignore this message): INVALID_ARGUMENT: You must feed a value for placeholder tensor 'gradients/split_2_grad/concat/split_2/split_dim' with dtype int32\n",
      "\t [[{{node gradients/split_2_grad/concat/split_2/split_dim}}]]\n",
      "2024-05-07 15:55:34.781774: I tensorflow/core/common_runtime/executor.cc:1197] [/device:CPU:0] (DEBUG INFO) Executor start aborting (this does not indicate an error and you can ignore this message): INVALID_ARGUMENT: You must feed a value for placeholder tensor 'gradients/split_grad/concat/split/split_dim' with dtype int32\n",
      "\t [[{{node gradients/split_grad/concat/split/split_dim}}]]\n",
      "2024-05-07 15:55:34.782722: I tensorflow/core/common_runtime/executor.cc:1197] [/device:CPU:0] (DEBUG INFO) Executor start aborting (this does not indicate an error and you can ignore this message): INVALID_ARGUMENT: You must feed a value for placeholder tensor 'gradients/split_1_grad/concat/split_1/split_dim' with dtype int32\n",
      "\t [[{{node gradients/split_1_grad/concat/split_1/split_dim}}]]\n",
      "2024-05-07 15:55:34.928456: I tensorflow/core/common_runtime/executor.cc:1197] [/device:CPU:0] (DEBUG INFO) Executor start aborting (this does not indicate an error and you can ignore this message): INVALID_ARGUMENT: You must feed a value for placeholder tensor 'gradients/split_2_grad/concat/split_2/split_dim' with dtype int32\n",
      "\t [[{{node gradients/split_2_grad/concat/split_2/split_dim}}]]\n",
      "2024-05-07 15:55:34.929227: I tensorflow/core/common_runtime/executor.cc:1197] [/device:CPU:0] (DEBUG INFO) Executor start aborting (this does not indicate an error and you can ignore this message): INVALID_ARGUMENT: You must feed a value for placeholder tensor 'gradients/split_grad/concat/split/split_dim' with dtype int32\n",
      "\t [[{{node gradients/split_grad/concat/split/split_dim}}]]\n",
      "2024-05-07 15:55:34.930075: I tensorflow/core/common_runtime/executor.cc:1197] [/device:CPU:0] (DEBUG INFO) Executor start aborting (this does not indicate an error and you can ignore this message): INVALID_ARGUMENT: You must feed a value for placeholder tensor 'gradients/split_1_grad/concat/split_1/split_dim' with dtype int32\n",
      "\t [[{{node gradients/split_1_grad/concat/split_1/split_dim}}]]\n"
     ]
    },
    {
     "name": "stdout",
     "output_type": "stream",
     "text": [
      "Epoch 1/20\n"
     ]
    },
    {
     "name": "stderr",
     "output_type": "stream",
     "text": [
      "2024-05-07 15:55:35.140485: I tensorflow/core/common_runtime/executor.cc:1197] [/device:CPU:0] (DEBUG INFO) Executor start aborting (this does not indicate an error and you can ignore this message): INVALID_ARGUMENT: You must feed a value for placeholder tensor 'gradients/split_2_grad/concat/split_2/split_dim' with dtype int32\n",
      "\t [[{{node gradients/split_2_grad/concat/split_2/split_dim}}]]\n",
      "2024-05-07 15:55:35.141891: I tensorflow/core/common_runtime/executor.cc:1197] [/device:CPU:0] (DEBUG INFO) Executor start aborting (this does not indicate an error and you can ignore this message): INVALID_ARGUMENT: You must feed a value for placeholder tensor 'gradients/split_grad/concat/split/split_dim' with dtype int32\n",
      "\t [[{{node gradients/split_grad/concat/split/split_dim}}]]\n",
      "2024-05-07 15:55:35.142881: I tensorflow/core/common_runtime/executor.cc:1197] [/device:CPU:0] (DEBUG INFO) Executor start aborting (this does not indicate an error and you can ignore this message): INVALID_ARGUMENT: You must feed a value for placeholder tensor 'gradients/split_1_grad/concat/split_1/split_dim' with dtype int32\n",
      "\t [[{{node gradients/split_1_grad/concat/split_1/split_dim}}]]\n",
      "2024-05-07 15:55:35.282558: I tensorflow/core/common_runtime/executor.cc:1197] [/device:CPU:0] (DEBUG INFO) Executor start aborting (this does not indicate an error and you can ignore this message): INVALID_ARGUMENT: You must feed a value for placeholder tensor 'gradients/split_2_grad/concat/split_2/split_dim' with dtype int32\n",
      "\t [[{{node gradients/split_2_grad/concat/split_2/split_dim}}]]\n",
      "2024-05-07 15:55:35.283571: I tensorflow/core/common_runtime/executor.cc:1197] [/device:CPU:0] (DEBUG INFO) Executor start aborting (this does not indicate an error and you can ignore this message): INVALID_ARGUMENT: You must feed a value for placeholder tensor 'gradients/split_grad/concat/split/split_dim' with dtype int32\n",
      "\t [[{{node gradients/split_grad/concat/split/split_dim}}]]\n",
      "2024-05-07 15:55:35.284478: I tensorflow/core/common_runtime/executor.cc:1197] [/device:CPU:0] (DEBUG INFO) Executor start aborting (this does not indicate an error and you can ignore this message): INVALID_ARGUMENT: You must feed a value for placeholder tensor 'gradients/split_1_grad/concat/split_1/split_dim' with dtype int32\n",
      "\t [[{{node gradients/split_1_grad/concat/split_1/split_dim}}]]\n",
      "2024-05-07 15:55:35.838727: I tensorflow/core/common_runtime/executor.cc:1197] [/device:CPU:0] (DEBUG INFO) Executor start aborting (this does not indicate an error and you can ignore this message): INVALID_ARGUMENT: You must feed a value for placeholder tensor 'gradients/split_2_grad/concat/split_2/split_dim' with dtype int32\n",
      "\t [[{{node gradients/split_2_grad/concat/split_2/split_dim}}]]\n",
      "2024-05-07 15:55:35.839935: I tensorflow/core/common_runtime/executor.cc:1197] [/device:CPU:0] (DEBUG INFO) Executor start aborting (this does not indicate an error and you can ignore this message): INVALID_ARGUMENT: You must feed a value for placeholder tensor 'gradients/split_grad/concat/split/split_dim' with dtype int32\n",
      "\t [[{{node gradients/split_grad/concat/split/split_dim}}]]\n",
      "2024-05-07 15:55:35.840995: I tensorflow/core/common_runtime/executor.cc:1197] [/device:CPU:0] (DEBUG INFO) Executor start aborting (this does not indicate an error and you can ignore this message): INVALID_ARGUMENT: You must feed a value for placeholder tensor 'gradients/split_1_grad/concat/split_1/split_dim' with dtype int32\n",
      "\t [[{{node gradients/split_1_grad/concat/split_1/split_dim}}]]\n",
      "2024-05-07 15:55:35.989039: I tensorflow/core/common_runtime/executor.cc:1197] [/device:CPU:0] (DEBUG INFO) Executor start aborting (this does not indicate an error and you can ignore this message): INVALID_ARGUMENT: You must feed a value for placeholder tensor 'gradients/split_2_grad/concat/split_2/split_dim' with dtype int32\n",
      "\t [[{{node gradients/split_2_grad/concat/split_2/split_dim}}]]\n",
      "2024-05-07 15:55:35.990376: I tensorflow/core/common_runtime/executor.cc:1197] [/device:CPU:0] (DEBUG INFO) Executor start aborting (this does not indicate an error and you can ignore this message): INVALID_ARGUMENT: You must feed a value for placeholder tensor 'gradients/split_grad/concat/split/split_dim' with dtype int32\n",
      "\t [[{{node gradients/split_grad/concat/split/split_dim}}]]\n",
      "2024-05-07 15:55:35.991641: I tensorflow/core/common_runtime/executor.cc:1197] [/device:CPU:0] (DEBUG INFO) Executor start aborting (this does not indicate an error and you can ignore this message): INVALID_ARGUMENT: You must feed a value for placeholder tensor 'gradients/split_1_grad/concat/split_1/split_dim' with dtype int32\n",
      "\t [[{{node gradients/split_1_grad/concat/split_1/split_dim}}]]\n"
     ]
    },
    {
     "name": "stdout",
     "output_type": "stream",
     "text": [
      "24/24 [==============================] - 8s 245ms/step - loss: 2.4547 - accuracy: 0.2014\n",
      "Epoch 2/20\n",
      "24/24 [==============================] - 6s 246ms/step - loss: 2.2259 - accuracy: 0.3803\n",
      "Epoch 3/20\n",
      "24/24 [==============================] - 6s 244ms/step - loss: 1.9416 - accuracy: 0.4394\n",
      "Epoch 4/20\n",
      "24/24 [==============================] - 6s 245ms/step - loss: 1.6372 - accuracy: 0.4549\n",
      "Epoch 5/20\n",
      "24/24 [==============================] - 7s 286ms/step - loss: 1.5618 - accuracy: 0.4648\n",
      "Epoch 6/20\n",
      "24/24 [==============================] - 6s 256ms/step - loss: 1.3717 - accuracy: 0.5549\n",
      "Epoch 7/20\n",
      "24/24 [==============================] - 6s 247ms/step - loss: 1.3112 - accuracy: 0.5493\n",
      "Epoch 8/20\n",
      "24/24 [==============================] - 6s 256ms/step - loss: 1.2820 - accuracy: 0.5620\n",
      "Epoch 9/20\n",
      "24/24 [==============================] - 6s 258ms/step - loss: 1.6116 - accuracy: 0.4803\n",
      "Epoch 10/20\n",
      "24/24 [==============================] - 7s 283ms/step - loss: 1.6488 - accuracy: 0.4338\n",
      "Epoch 11/20\n",
      "24/24 [==============================] - 6s 246ms/step - loss: 1.5492 - accuracy: 0.4521\n",
      "Epoch 12/20\n",
      "24/24 [==============================] - 6s 246ms/step - loss: 1.5261 - accuracy: 0.4690\n",
      "Epoch 13/20\n",
      "24/24 [==============================] - 6s 248ms/step - loss: 1.4634 - accuracy: 0.4930\n",
      "Epoch 14/20\n",
      "24/24 [==============================] - 6s 246ms/step - loss: 1.4194 - accuracy: 0.5268\n",
      "Epoch 15/20\n",
      "24/24 [==============================] - 6s 247ms/step - loss: 1.3769 - accuracy: 0.5239\n",
      "Epoch 16/20\n",
      "24/24 [==============================] - 6s 250ms/step - loss: 1.3557 - accuracy: 0.5239\n",
      "Epoch 17/20\n",
      "24/24 [==============================] - 6s 256ms/step - loss: 1.3307 - accuracy: 0.5479\n",
      "Epoch 18/20\n",
      "24/24 [==============================] - 6s 268ms/step - loss: 1.3118 - accuracy: 0.5620\n",
      "Epoch 19/20\n",
      "24/24 [==============================] - 6s 247ms/step - loss: 1.2579 - accuracy: 0.5803\n",
      "Epoch 20/20\n",
      "24/24 [==============================] - 6s 247ms/step - loss: 1.2822 - accuracy: 0.5845\n"
     ]
    },
    {
     "data": {
      "text/plain": [
       "<keras.callbacks.History at 0x2eb513e10>"
      ]
     },
     "execution_count": 54,
     "metadata": {},
     "output_type": "execute_result"
    }
   ],
   "source": [
    "# Model attempt with 0.5 second window\n",
    "model = Sequential()\n",
    "model.add(LSTM(50, input_shape=(500, 8), input_dim=8, activation='tanh',kernel_regularizer=l2(0.01),return_sequences=True))\n",
    "model.add(Dropout(0.2))\n",
    "model.add(LSTM(20, input_dim=8, activation='tanh',kernel_regularizer=l2(0.01)))\n",
    "model.add(Dense(6, activation='softmax'))\n",
    "\n",
    "model.compile(optimizer='adam',\n",
    "              loss='sparse_categorical_crossentropy',\n",
    "              metrics=['accuracy'])\n",
    "model.fit(X_train, y_train, epochs=20, batch_size=30)"
   ]
  },
  {
   "cell_type": "code",
   "execution_count": 90,
   "metadata": {},
   "outputs": [
    {
     "name": "stderr",
     "output_type": "stream",
     "text": [
      "2024-05-05 17:52:01.776664: I tensorflow/core/common_runtime/executor.cc:1197] [/device:CPU:0] (DEBUG INFO) Executor start aborting (this does not indicate an error and you can ignore this message): INVALID_ARGUMENT: You must feed a value for placeholder tensor 'gradients/split_2_grad/concat/split_2/split_dim' with dtype int32\n",
      "\t [[{{node gradients/split_2_grad/concat/split_2/split_dim}}]]\n",
      "2024-05-05 17:52:01.778664: I tensorflow/core/common_runtime/executor.cc:1197] [/device:CPU:0] (DEBUG INFO) Executor start aborting (this does not indicate an error and you can ignore this message): INVALID_ARGUMENT: You must feed a value for placeholder tensor 'gradients/split_grad/concat/split/split_dim' with dtype int32\n",
      "\t [[{{node gradients/split_grad/concat/split/split_dim}}]]\n",
      "2024-05-05 17:52:01.780299: I tensorflow/core/common_runtime/executor.cc:1197] [/device:CPU:0] (DEBUG INFO) Executor start aborting (this does not indicate an error and you can ignore this message): INVALID_ARGUMENT: You must feed a value for placeholder tensor 'gradients/split_1_grad/concat/split_1/split_dim' with dtype int32\n",
      "\t [[{{node gradients/split_1_grad/concat/split_1/split_dim}}]]\n",
      "2024-05-05 17:52:01.933596: I tensorflow/core/common_runtime/executor.cc:1197] [/device:CPU:0] (DEBUG INFO) Executor start aborting (this does not indicate an error and you can ignore this message): INVALID_ARGUMENT: You must feed a value for placeholder tensor 'gradients/split_2_grad/concat/split_2/split_dim' with dtype int32\n",
      "\t [[{{node gradients/split_2_grad/concat/split_2/split_dim}}]]\n",
      "2024-05-05 17:52:01.935423: I tensorflow/core/common_runtime/executor.cc:1197] [/device:CPU:0] (DEBUG INFO) Executor start aborting (this does not indicate an error and you can ignore this message): INVALID_ARGUMENT: You must feed a value for placeholder tensor 'gradients/split_grad/concat/split/split_dim' with dtype int32\n",
      "\t [[{{node gradients/split_grad/concat/split/split_dim}}]]\n",
      "2024-05-05 17:52:01.937312: I tensorflow/core/common_runtime/executor.cc:1197] [/device:CPU:0] (DEBUG INFO) Executor start aborting (this does not indicate an error and you can ignore this message): INVALID_ARGUMENT: You must feed a value for placeholder tensor 'gradients/split_1_grad/concat/split_1/split_dim' with dtype int32\n",
      "\t [[{{node gradients/split_1_grad/concat/split_1/split_dim}}]]\n"
     ]
    },
    {
     "name": "stdout",
     "output_type": "stream",
     "text": [
      "11/11 [==============================] - 1s 56ms/step - loss: 1.1337 - accuracy: 0.6358\n"
     ]
    },
    {
     "data": {
      "text/plain": [
       "[1.1337437629699707, 0.6358381509780884]"
      ]
     },
     "execution_count": 90,
     "metadata": {},
     "output_type": "execute_result"
    }
   ],
   "source": [
    "model.evaluate(X_test,y_test)\n",
    "\n",
    "# Yay! The accuracy is 0.17 higher than before! The test accuracy (0.64) is also still pretty close to training (0.65)"
   ]
  },
  {
   "cell_type": "code",
   "execution_count": 59,
   "metadata": {},
   "outputs": [
    {
     "name": "stdout",
     "output_type": "stream",
     "text": [
      "Epoch 1/20\n"
     ]
    },
    {
     "name": "stderr",
     "output_type": "stream",
     "text": [
      "2024-05-07 16:05:48.332245: I tensorflow/core/common_runtime/executor.cc:1197] [/device:CPU:0] (DEBUG INFO) Executor start aborting (this does not indicate an error and you can ignore this message): INVALID_ARGUMENT: You must feed a value for placeholder tensor 'gradients/split_2_grad/concat/split_2/split_dim' with dtype int32\n",
      "\t [[{{node gradients/split_2_grad/concat/split_2/split_dim}}]]\n",
      "2024-05-07 16:05:48.333412: I tensorflow/core/common_runtime/executor.cc:1197] [/device:CPU:0] (DEBUG INFO) Executor start aborting (this does not indicate an error and you can ignore this message): INVALID_ARGUMENT: You must feed a value for placeholder tensor 'gradients/split_grad/concat/split/split_dim' with dtype int32\n",
      "\t [[{{node gradients/split_grad/concat/split/split_dim}}]]\n",
      "2024-05-07 16:05:48.334086: I tensorflow/core/common_runtime/executor.cc:1197] [/device:CPU:0] (DEBUG INFO) Executor start aborting (this does not indicate an error and you can ignore this message): INVALID_ARGUMENT: You must feed a value for placeholder tensor 'gradients/split_1_grad/concat/split_1/split_dim' with dtype int32\n",
      "\t [[{{node gradients/split_1_grad/concat/split_1/split_dim}}]]\n",
      "2024-05-07 16:05:48.461974: I tensorflow/core/common_runtime/executor.cc:1197] [/device:CPU:0] (DEBUG INFO) Executor start aborting (this does not indicate an error and you can ignore this message): INVALID_ARGUMENT: You must feed a value for placeholder tensor 'gradients/split_2_grad/concat/split_2/split_dim' with dtype int32\n",
      "\t [[{{node gradients/split_2_grad/concat/split_2/split_dim}}]]\n",
      "2024-05-07 16:05:48.462729: I tensorflow/core/common_runtime/executor.cc:1197] [/device:CPU:0] (DEBUG INFO) Executor start aborting (this does not indicate an error and you can ignore this message): INVALID_ARGUMENT: You must feed a value for placeholder tensor 'gradients/split_grad/concat/split/split_dim' with dtype int32\n",
      "\t [[{{node gradients/split_grad/concat/split/split_dim}}]]\n",
      "2024-05-07 16:05:48.463413: I tensorflow/core/common_runtime/executor.cc:1197] [/device:CPU:0] (DEBUG INFO) Executor start aborting (this does not indicate an error and you can ignore this message): INVALID_ARGUMENT: You must feed a value for placeholder tensor 'gradients/split_1_grad/concat/split_1/split_dim' with dtype int32\n",
      "\t [[{{node gradients/split_1_grad/concat/split_1/split_dim}}]]\n",
      "2024-05-07 16:05:48.651606: I tensorflow/core/common_runtime/executor.cc:1197] [/device:CPU:0] (DEBUG INFO) Executor start aborting (this does not indicate an error and you can ignore this message): INVALID_ARGUMENT: You must feed a value for placeholder tensor 'gradients/split_2_grad/concat/split_2/split_dim' with dtype int32\n",
      "\t [[{{node gradients/split_2_grad/concat/split_2/split_dim}}]]\n",
      "2024-05-07 16:05:48.653028: I tensorflow/core/common_runtime/executor.cc:1197] [/device:CPU:0] (DEBUG INFO) Executor start aborting (this does not indicate an error and you can ignore this message): INVALID_ARGUMENT: You must feed a value for placeholder tensor 'gradients/split_grad/concat/split/split_dim' with dtype int32\n",
      "\t [[{{node gradients/split_grad/concat/split/split_dim}}]]\n",
      "2024-05-07 16:05:48.654074: I tensorflow/core/common_runtime/executor.cc:1197] [/device:CPU:0] (DEBUG INFO) Executor start aborting (this does not indicate an error and you can ignore this message): INVALID_ARGUMENT: You must feed a value for placeholder tensor 'gradients/split_1_grad/concat/split_1/split_dim' with dtype int32\n",
      "\t [[{{node gradients/split_1_grad/concat/split_1/split_dim}}]]\n",
      "2024-05-07 16:05:48.789467: I tensorflow/core/common_runtime/executor.cc:1197] [/device:CPU:0] (DEBUG INFO) Executor start aborting (this does not indicate an error and you can ignore this message): INVALID_ARGUMENT: You must feed a value for placeholder tensor 'gradients/split_2_grad/concat/split_2/split_dim' with dtype int32\n",
      "\t [[{{node gradients/split_2_grad/concat/split_2/split_dim}}]]\n",
      "2024-05-07 16:05:48.790660: I tensorflow/core/common_runtime/executor.cc:1197] [/device:CPU:0] (DEBUG INFO) Executor start aborting (this does not indicate an error and you can ignore this message): INVALID_ARGUMENT: You must feed a value for placeholder tensor 'gradients/split_grad/concat/split/split_dim' with dtype int32\n",
      "\t [[{{node gradients/split_grad/concat/split/split_dim}}]]\n",
      "2024-05-07 16:05:48.791475: I tensorflow/core/common_runtime/executor.cc:1197] [/device:CPU:0] (DEBUG INFO) Executor start aborting (this does not indicate an error and you can ignore this message): INVALID_ARGUMENT: You must feed a value for placeholder tensor 'gradients/split_1_grad/concat/split_1/split_dim' with dtype int32\n",
      "\t [[{{node gradients/split_1_grad/concat/split_1/split_dim}}]]\n",
      "2024-05-07 16:05:49.315942: I tensorflow/core/common_runtime/executor.cc:1197] [/device:CPU:0] (DEBUG INFO) Executor start aborting (this does not indicate an error and you can ignore this message): INVALID_ARGUMENT: You must feed a value for placeholder tensor 'gradients/split_2_grad/concat/split_2/split_dim' with dtype int32\n",
      "\t [[{{node gradients/split_2_grad/concat/split_2/split_dim}}]]\n",
      "2024-05-07 16:05:49.317109: I tensorflow/core/common_runtime/executor.cc:1197] [/device:CPU:0] (DEBUG INFO) Executor start aborting (this does not indicate an error and you can ignore this message): INVALID_ARGUMENT: You must feed a value for placeholder tensor 'gradients/split_grad/concat/split/split_dim' with dtype int32\n",
      "\t [[{{node gradients/split_grad/concat/split/split_dim}}]]\n",
      "2024-05-07 16:05:49.317985: I tensorflow/core/common_runtime/executor.cc:1197] [/device:CPU:0] (DEBUG INFO) Executor start aborting (this does not indicate an error and you can ignore this message): INVALID_ARGUMENT: You must feed a value for placeholder tensor 'gradients/split_1_grad/concat/split_1/split_dim' with dtype int32\n",
      "\t [[{{node gradients/split_1_grad/concat/split_1/split_dim}}]]\n",
      "2024-05-07 16:05:49.448861: I tensorflow/core/common_runtime/executor.cc:1197] [/device:CPU:0] (DEBUG INFO) Executor start aborting (this does not indicate an error and you can ignore this message): INVALID_ARGUMENT: You must feed a value for placeholder tensor 'gradients/split_2_grad/concat/split_2/split_dim' with dtype int32\n",
      "\t [[{{node gradients/split_2_grad/concat/split_2/split_dim}}]]\n",
      "2024-05-07 16:05:49.449999: I tensorflow/core/common_runtime/executor.cc:1197] [/device:CPU:0] (DEBUG INFO) Executor start aborting (this does not indicate an error and you can ignore this message): INVALID_ARGUMENT: You must feed a value for placeholder tensor 'gradients/split_grad/concat/split/split_dim' with dtype int32\n",
      "\t [[{{node gradients/split_grad/concat/split/split_dim}}]]\n",
      "2024-05-07 16:05:49.450922: I tensorflow/core/common_runtime/executor.cc:1197] [/device:CPU:0] (DEBUG INFO) Executor start aborting (this does not indicate an error and you can ignore this message): INVALID_ARGUMENT: You must feed a value for placeholder tensor 'gradients/split_1_grad/concat/split_1/split_dim' with dtype int32\n",
      "\t [[{{node gradients/split_1_grad/concat/split_1/split_dim}}]]\n"
     ]
    },
    {
     "name": "stdout",
     "output_type": "stream",
     "text": [
      "24/24 [==============================] - 10s 310ms/step - loss: 2.6477 - accuracy: 0.2775\n",
      "Epoch 2/20\n",
      "24/24 [==============================] - 7s 311ms/step - loss: 2.2832 - accuracy: 0.3690\n",
      "Epoch 3/20\n",
      "24/24 [==============================] - 7s 310ms/step - loss: 1.8902 - accuracy: 0.3676\n",
      "Epoch 4/20\n",
      "24/24 [==============================] - 7s 286ms/step - loss: 1.6920 - accuracy: 0.4549\n",
      "Epoch 5/20\n",
      "24/24 [==============================] - 7s 286ms/step - loss: 1.5181 - accuracy: 0.5000\n",
      "Epoch 6/20\n",
      "24/24 [==============================] - 7s 286ms/step - loss: 1.2765 - accuracy: 0.5718\n",
      "Epoch 7/20\n",
      "24/24 [==============================] - 7s 294ms/step - loss: 1.2434 - accuracy: 0.5972\n",
      "Epoch 8/20\n",
      "24/24 [==============================] - 8s 319ms/step - loss: 1.1813 - accuracy: 0.6113\n",
      "Epoch 9/20\n",
      "24/24 [==============================] - 7s 286ms/step - loss: 1.1262 - accuracy: 0.6366\n",
      "Epoch 10/20\n",
      "24/24 [==============================] - 7s 295ms/step - loss: 1.1380 - accuracy: 0.6535\n",
      "Epoch 11/20\n",
      "24/24 [==============================] - 7s 289ms/step - loss: 1.0226 - accuracy: 0.7014\n",
      "Epoch 12/20\n",
      "24/24 [==============================] - 7s 288ms/step - loss: 1.1272 - accuracy: 0.6592\n",
      "Epoch 13/20\n",
      "24/24 [==============================] - 7s 284ms/step - loss: 1.1521 - accuracy: 0.6338\n",
      "Epoch 14/20\n",
      "24/24 [==============================] - 7s 289ms/step - loss: 1.1537 - accuracy: 0.6197\n",
      "Epoch 15/20\n",
      "24/24 [==============================] - 7s 285ms/step - loss: 0.9365 - accuracy: 0.7169\n",
      "Epoch 16/20\n",
      "24/24 [==============================] - 7s 285ms/step - loss: 0.9243 - accuracy: 0.7352\n",
      "Epoch 17/20\n",
      "24/24 [==============================] - 7s 288ms/step - loss: 1.0304 - accuracy: 0.6718\n",
      "Epoch 18/20\n",
      "24/24 [==============================] - 7s 285ms/step - loss: 1.1425 - accuracy: 0.6239\n",
      "Epoch 19/20\n",
      "24/24 [==============================] - 7s 280ms/step - loss: 1.0924 - accuracy: 0.6507\n",
      "Epoch 20/20\n",
      "24/24 [==============================] - 7s 286ms/step - loss: 0.9991 - accuracy: 0.6944\n"
     ]
    },
    {
     "data": {
      "text/plain": [
       "<keras.callbacks.History at 0x2fada1a10>"
      ]
     },
     "execution_count": 59,
     "metadata": {},
     "output_type": "execute_result"
    }
   ],
   "source": [
    "# Increasing the number of neurons in the layers\n",
    "model2 = Sequential()\n",
    "model2.add(LSTM(64, input_shape=(500, 8), input_dim=8, activation='tanh',kernel_regularizer=l2(0.01),return_sequences=True))\n",
    "model2.add(Dropout(0.2))\n",
    "model2.add(LSTM(32, input_dim=8, activation='tanh',kernel_regularizer=l2(0.01)))\n",
    "model2.add(Dense(6, activation='softmax'))\n",
    "\n",
    "model2.compile(optimizer='adam',\n",
    "              loss='sparse_categorical_crossentropy',\n",
    "              metrics=['accuracy'])\n",
    "model2.fit(X_train, y_train, epochs=20, batch_size=30)"
   ]
  },
  {
   "cell_type": "code",
   "execution_count": 60,
   "metadata": {},
   "outputs": [
    {
     "name": "stderr",
     "output_type": "stream",
     "text": [
      "2024-05-07 16:08:33.203950: I tensorflow/core/common_runtime/executor.cc:1197] [/device:CPU:0] (DEBUG INFO) Executor start aborting (this does not indicate an error and you can ignore this message): INVALID_ARGUMENT: You must feed a value for placeholder tensor 'gradients/split_2_grad/concat/split_2/split_dim' with dtype int32\n",
      "\t [[{{node gradients/split_2_grad/concat/split_2/split_dim}}]]\n",
      "2024-05-07 16:08:33.204998: I tensorflow/core/common_runtime/executor.cc:1197] [/device:CPU:0] (DEBUG INFO) Executor start aborting (this does not indicate an error and you can ignore this message): INVALID_ARGUMENT: You must feed a value for placeholder tensor 'gradients/split_grad/concat/split/split_dim' with dtype int32\n",
      "\t [[{{node gradients/split_grad/concat/split/split_dim}}]]\n",
      "2024-05-07 16:08:33.205869: I tensorflow/core/common_runtime/executor.cc:1197] [/device:CPU:0] (DEBUG INFO) Executor start aborting (this does not indicate an error and you can ignore this message): INVALID_ARGUMENT: You must feed a value for placeholder tensor 'gradients/split_1_grad/concat/split_1/split_dim' with dtype int32\n",
      "\t [[{{node gradients/split_1_grad/concat/split_1/split_dim}}]]\n",
      "2024-05-07 16:08:33.351084: I tensorflow/core/common_runtime/executor.cc:1197] [/device:CPU:0] (DEBUG INFO) Executor start aborting (this does not indicate an error and you can ignore this message): INVALID_ARGUMENT: You must feed a value for placeholder tensor 'gradients/split_2_grad/concat/split_2/split_dim' with dtype int32\n",
      "\t [[{{node gradients/split_2_grad/concat/split_2/split_dim}}]]\n",
      "2024-05-07 16:08:33.352238: I tensorflow/core/common_runtime/executor.cc:1197] [/device:CPU:0] (DEBUG INFO) Executor start aborting (this does not indicate an error and you can ignore this message): INVALID_ARGUMENT: You must feed a value for placeholder tensor 'gradients/split_grad/concat/split/split_dim' with dtype int32\n",
      "\t [[{{node gradients/split_grad/concat/split/split_dim}}]]\n",
      "2024-05-07 16:08:33.353119: I tensorflow/core/common_runtime/executor.cc:1197] [/device:CPU:0] (DEBUG INFO) Executor start aborting (this does not indicate an error and you can ignore this message): INVALID_ARGUMENT: You must feed a value for placeholder tensor 'gradients/split_1_grad/concat/split_1/split_dim' with dtype int32\n",
      "\t [[{{node gradients/split_1_grad/concat/split_1/split_dim}}]]\n"
     ]
    },
    {
     "name": "stdout",
     "output_type": "stream",
     "text": [
      "6/6 [==============================] - 1s 64ms/step - loss: 1.2270 - accuracy: 0.6404\n"
     ]
    },
    {
     "data": {
      "text/plain": [
       "[1.2269614934921265, 0.6404494643211365]"
      ]
     },
     "execution_count": 60,
     "metadata": {},
     "output_type": "execute_result"
    }
   ],
   "source": [
    "model2.evaluate(X_test,y_test)\n",
    "# Didn't really increase accuracy, with test around the same, but 0.05 difference between train and testing"
   ]
  }
 ],
 "metadata": {
  "kernelspec": {
   "display_name": "neuralnets",
   "language": "python",
   "name": "python3"
  },
  "language_info": {
   "codemirror_mode": {
    "name": "ipython",
    "version": 3
   },
   "file_extension": ".py",
   "mimetype": "text/x-python",
   "name": "python",
   "nbconvert_exporter": "python",
   "pygments_lexer": "ipython3",
   "version": "3.11.5"
  }
 },
 "nbformat": 4,
 "nbformat_minor": 2
}

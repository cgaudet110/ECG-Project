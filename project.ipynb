{
 "cells": [
  {
   "cell_type": "markdown",
   "metadata": {},
   "source": [
    "# FFNN"
   ]
  },
  {
   "cell_type": "code",
   "execution_count": 1,
   "metadata": {},
   "outputs": [],
   "source": [
    "import pandas as pd\n",
    "import numpy as np\n",
    "from sklearn.preprocessing import StandardScaler\n",
    "from sklearn.model_selection import train_test_split\n",
    "from keras import Sequential\n",
    "from keras.layers import Dense"
   ]
  },
  {
   "cell_type": "code",
   "execution_count": 3,
   "metadata": {},
   "outputs": [],
   "source": [
    "def read_table(path):\n",
    "    \"\"\"Reads table and drops irrelevant rows and columns.\n",
    "    Returns an analysis ready DataFrame\"\"\"\n",
    "    df = pd.read_table('EMG/'+path)\n",
    "    df = df[df['class']!=0]\n",
    "    df = df[df['class'] != 7]\n",
    "    df.drop(columns=['time'], inplace=True)\n",
    "\n",
    "    # Map the classes so they range from 0-6 for cross entropy loss to work\n",
    "    mapping = {1:0, 2:1, 3:2, 4:3, 5:4, 6:5, 7:6} # get rid of 7 later\n",
    "    df['class'] = df['class'].map(mapping)\n",
    "\n",
    "    df.reset_index(drop=True,inplace=True)\n",
    "    return df\n",
    "\n",
    "\n",
    "def scaler(df):\n",
    "    \"\"\"Normalizes the data, returns a DataFrame with the new scaled numbers\"\"\"\n",
    "    scaler = StandardScaler()\n",
    "    scaled = scaler.fit_transform(df)\n",
    "    df_scaled = pd.DataFrame(scaled, columns=df.columns)\n",
    "    return df_scaled"
   ]
  },
  {
   "cell_type": "code",
   "execution_count": 4,
   "metadata": {},
   "outputs": [],
   "source": [
    "df = pd.concat([read_table('1/1_1.txt'), read_table('1/2_1.txt')])\n",
    "for n in range(2,37):\n",
    "    path1 = f'{n}/1_{n}.txt'\n",
    "    df = pd.concat([df, read_table(path1)])\n",
    "    path2 = f'{n}/2_{n}.txt'\n",
    "    df = pd.concat([df, read_table(path2)])\n",
    "\n",
    "# We found one row with NaN as a class value so we just dropped it.\n",
    "df = df.dropna()\n",
    "\n",
    "df.reset_index(drop=True,inplace=True)"
   ]
  },
  {
   "cell_type": "code",
   "execution_count": 334,
   "metadata": {},
   "outputs": [
    {
     "data": {
      "text/plain": [
       "class\n",
       "5.0    253009\n",
       "4.0    251733\n",
       "3.0    251570\n",
       "0.0    250055\n",
       "2.0    249494\n",
       "1.0    243193\n",
       "6.0     13696\n",
       "Name: count, dtype: int64"
      ]
     },
     "execution_count": 334,
     "metadata": {},
     "output_type": "execute_result"
    }
   ],
   "source": [
    "df['class'].value_counts()"
   ]
  },
  {
   "cell_type": "code",
   "execution_count": 298,
   "metadata": {},
   "outputs": [],
   "source": [
    "x = df.drop(columns='class')\n",
    "y = df['class']\n",
    "X_train, X_test, y_train, y_test = train_test_split(x,y, test_size=0.20)\n",
    "X_train = scaler(X_train)\n",
    "X_test = scaler(X_test)"
   ]
  },
  {
   "cell_type": "code",
   "execution_count": 311,
   "metadata": {},
   "outputs": [
    {
     "data": {
      "text/html": [
       "<div>\n",
       "<style scoped>\n",
       "    .dataframe tbody tr th:only-of-type {\n",
       "        vertical-align: middle;\n",
       "    }\n",
       "\n",
       "    .dataframe tbody tr th {\n",
       "        vertical-align: top;\n",
       "    }\n",
       "\n",
       "    .dataframe thead th {\n",
       "        text-align: right;\n",
       "    }\n",
       "</style>\n",
       "<table border=\"1\" class=\"dataframe\">\n",
       "  <thead>\n",
       "    <tr style=\"text-align: right;\">\n",
       "      <th></th>\n",
       "      <th>channel1</th>\n",
       "      <th>channel2</th>\n",
       "      <th>channel3</th>\n",
       "      <th>channel4</th>\n",
       "      <th>channel5</th>\n",
       "      <th>channel6</th>\n",
       "      <th>channel7</th>\n",
       "      <th>channel8</th>\n",
       "    </tr>\n",
       "  </thead>\n",
       "  <tbody>\n",
       "    <tr>\n",
       "      <th>0</th>\n",
       "      <td>1.142842</td>\n",
       "      <td>1.024036</td>\n",
       "      <td>0.288102</td>\n",
       "      <td>-0.002146</td>\n",
       "      <td>-0.129742</td>\n",
       "      <td>0.686878</td>\n",
       "      <td>0.055878</td>\n",
       "      <td>0.201497</td>\n",
       "    </tr>\n",
       "    <tr>\n",
       "      <th>1</th>\n",
       "      <td>0.094745</td>\n",
       "      <td>-0.881516</td>\n",
       "      <td>-1.893477</td>\n",
       "      <td>-1.442477</td>\n",
       "      <td>-0.350584</td>\n",
       "      <td>-0.873191</td>\n",
       "      <td>-0.341717</td>\n",
       "      <td>0.002956</td>\n",
       "    </tr>\n",
       "    <tr>\n",
       "      <th>2</th>\n",
       "      <td>0.042340</td>\n",
       "      <td>-0.002030</td>\n",
       "      <td>-0.584530</td>\n",
       "      <td>-0.077953</td>\n",
       "      <td>0.028001</td>\n",
       "      <td>-0.073156</td>\n",
       "      <td>0.112678</td>\n",
       "      <td>0.151862</td>\n",
       "    </tr>\n",
       "    <tr>\n",
       "      <th>3</th>\n",
       "      <td>-1.110566</td>\n",
       "      <td>0.217841</td>\n",
       "      <td>0.360821</td>\n",
       "      <td>0.035757</td>\n",
       "      <td>-0.508328</td>\n",
       "      <td>-0.433172</td>\n",
       "      <td>-0.114520</td>\n",
       "      <td>-0.344489</td>\n",
       "    </tr>\n",
       "    <tr>\n",
       "      <th>4</th>\n",
       "      <td>-0.114874</td>\n",
       "      <td>0.144550</td>\n",
       "      <td>0.433540</td>\n",
       "      <td>-0.077953</td>\n",
       "      <td>-0.066645</td>\n",
       "      <td>-0.073156</td>\n",
       "      <td>0.339875</td>\n",
       "      <td>-0.046679</td>\n",
       "    </tr>\n",
       "    <tr>\n",
       "      <th>...</th>\n",
       "      <td>...</td>\n",
       "      <td>...</td>\n",
       "      <td>...</td>\n",
       "      <td>...</td>\n",
       "      <td>...</td>\n",
       "      <td>...</td>\n",
       "      <td>...</td>\n",
       "      <td>...</td>\n",
       "    </tr>\n",
       "    <tr>\n",
       "      <th>1210195</th>\n",
       "      <td>-0.010064</td>\n",
       "      <td>0.144550</td>\n",
       "      <td>0.360821</td>\n",
       "      <td>-0.115857</td>\n",
       "      <td>-0.098194</td>\n",
       "      <td>0.006848</td>\n",
       "      <td>-0.000921</td>\n",
       "      <td>0.002956</td>\n",
       "    </tr>\n",
       "    <tr>\n",
       "      <th>1210196</th>\n",
       "      <td>-0.114874</td>\n",
       "      <td>-0.295192</td>\n",
       "      <td>0.142663</td>\n",
       "      <td>-0.229567</td>\n",
       "      <td>-0.539876</td>\n",
       "      <td>-1.673226</td>\n",
       "      <td>-0.284918</td>\n",
       "      <td>-0.145949</td>\n",
       "    </tr>\n",
       "    <tr>\n",
       "      <th>1210197</th>\n",
       "      <td>-0.272089</td>\n",
       "      <td>-0.441773</td>\n",
       "      <td>0.215382</td>\n",
       "      <td>1.210764</td>\n",
       "      <td>2.993585</td>\n",
       "      <td>0.566872</td>\n",
       "      <td>0.226276</td>\n",
       "      <td>0.102227</td>\n",
       "    </tr>\n",
       "    <tr>\n",
       "      <th>1210198</th>\n",
       "      <td>-0.114874</td>\n",
       "      <td>-0.148611</td>\n",
       "      <td>-0.148214</td>\n",
       "      <td>-0.077953</td>\n",
       "      <td>-0.003547</td>\n",
       "      <td>0.006848</td>\n",
       "      <td>-0.000921</td>\n",
       "      <td>-0.096314</td>\n",
       "    </tr>\n",
       "    <tr>\n",
       "      <th>1210199</th>\n",
       "      <td>-0.272089</td>\n",
       "      <td>-0.515064</td>\n",
       "      <td>-1.166284</td>\n",
       "      <td>0.111564</td>\n",
       "      <td>-0.224389</td>\n",
       "      <td>0.046849</td>\n",
       "      <td>-0.000921</td>\n",
       "      <td>-0.096314</td>\n",
       "    </tr>\n",
       "  </tbody>\n",
       "</table>\n",
       "<p>1210200 rows × 8 columns</p>\n",
       "</div>"
      ],
      "text/plain": [
       "         channel1  channel2  channel3  channel4  channel5  channel6  channel7  \\\n",
       "0        1.142842  1.024036  0.288102 -0.002146 -0.129742  0.686878  0.055878   \n",
       "1        0.094745 -0.881516 -1.893477 -1.442477 -0.350584 -0.873191 -0.341717   \n",
       "2        0.042340 -0.002030 -0.584530 -0.077953  0.028001 -0.073156  0.112678   \n",
       "3       -1.110566  0.217841  0.360821  0.035757 -0.508328 -0.433172 -0.114520   \n",
       "4       -0.114874  0.144550  0.433540 -0.077953 -0.066645 -0.073156  0.339875   \n",
       "...           ...       ...       ...       ...       ...       ...       ...   \n",
       "1210195 -0.010064  0.144550  0.360821 -0.115857 -0.098194  0.006848 -0.000921   \n",
       "1210196 -0.114874 -0.295192  0.142663 -0.229567 -0.539876 -1.673226 -0.284918   \n",
       "1210197 -0.272089 -0.441773  0.215382  1.210764  2.993585  0.566872  0.226276   \n",
       "1210198 -0.114874 -0.148611 -0.148214 -0.077953 -0.003547  0.006848 -0.000921   \n",
       "1210199 -0.272089 -0.515064 -1.166284  0.111564 -0.224389  0.046849 -0.000921   \n",
       "\n",
       "         channel8  \n",
       "0        0.201497  \n",
       "1        0.002956  \n",
       "2        0.151862  \n",
       "3       -0.344489  \n",
       "4       -0.046679  \n",
       "...           ...  \n",
       "1210195  0.002956  \n",
       "1210196 -0.145949  \n",
       "1210197  0.102227  \n",
       "1210198 -0.096314  \n",
       "1210199 -0.096314  \n",
       "\n",
       "[1210200 rows x 8 columns]"
      ]
     },
     "execution_count": 311,
     "metadata": {},
     "output_type": "execute_result"
    }
   ],
   "source": [
    "X_train"
   ]
  },
  {
   "cell_type": "code",
   "execution_count": 302,
   "metadata": {},
   "outputs": [
    {
     "name": "stdout",
     "output_type": "stream",
     "text": [
      "Model: \"sequential_4\"\n",
      "_________________________________________________________________\n",
      " Layer (type)                Output Shape              Param #   \n",
      "=================================================================\n",
      " dense_12 (Dense)            (None, 10)                90        \n",
      "                                                                 \n",
      " dense_13 (Dense)            (None, 10)                110       \n",
      "                                                                 \n",
      " dense_14 (Dense)            (None, 7)                 77        \n",
      "                                                                 \n",
      "=================================================================\n",
      "Total params: 277\n",
      "Trainable params: 277\n",
      "Non-trainable params: 0\n",
      "_________________________________________________________________\n"
     ]
    }
   ],
   "source": [
    "model = Sequential()\n",
    "model.add(Dense(10, input_dim=8, activation='relu'))\n",
    "model.add(Dense(10, activation='relu'))\n",
    "model.add(Dense(6,activation='softmax'))\n",
    "model.summary()"
   ]
  },
  {
   "cell_type": "code",
   "execution_count": 303,
   "metadata": {},
   "outputs": [
    {
     "name": "stdout",
     "output_type": "stream",
     "text": [
      "Epoch 1/20\n",
      "40340/40340 [==============================] - 29s 699us/step - loss: 1.1024 - accuracy: 0.5808\n",
      "Epoch 2/20\n",
      "40340/40340 [==============================] - 25s 626us/step - loss: 1.0244 - accuracy: 0.6125\n",
      "Epoch 3/20\n",
      "40340/40340 [==============================] - 44s 1ms/step - loss: 0.9919 - accuracy: 0.6241\n",
      "Epoch 4/20\n",
      "40340/40340 [==============================] - 43s 1ms/step - loss: 0.9815 - accuracy: 0.6266\n",
      "Epoch 5/20\n",
      "40340/40340 [==============================] - 28s 682us/step - loss: 0.9777 - accuracy: 0.6279\n",
      "Epoch 6/20\n",
      "40340/40340 [==============================] - 26s 639us/step - loss: 0.9742 - accuracy: 0.6293\n",
      "Epoch 7/20\n",
      "40340/40340 [==============================] - 34s 831us/step - loss: 0.9732 - accuracy: 0.6297\n",
      "Epoch 8/20\n",
      "40340/40340 [==============================] - 26s 638us/step - loss: 0.9724 - accuracy: 0.6296\n",
      "Epoch 9/20\n",
      "40340/40340 [==============================] - 23s 572us/step - loss: 0.9714 - accuracy: 0.6303\n",
      "Epoch 10/20\n",
      "40340/40340 [==============================] - 24s 584us/step - loss: 0.9701 - accuracy: 0.6308\n",
      "Epoch 11/20\n",
      "40340/40340 [==============================] - 25s 620us/step - loss: 0.9692 - accuracy: 0.6311\n",
      "Epoch 12/20\n",
      "40340/40340 [==============================] - 23s 573us/step - loss: 0.9689 - accuracy: 0.6309\n",
      "Epoch 13/20\n",
      "40340/40340 [==============================] - 22s 546us/step - loss: 0.9685 - accuracy: 0.6313\n",
      "Epoch 14/20\n",
      "40340/40340 [==============================] - 32s 793us/step - loss: 0.9685 - accuracy: 0.6315\n",
      "Epoch 15/20\n",
      "40340/40340 [==============================] - 29s 731us/step - loss: 0.9683 - accuracy: 0.6314\n",
      "Epoch 16/20\n",
      "40340/40340 [==============================] - 29s 716us/step - loss: 0.9681 - accuracy: 0.6316\n",
      "Epoch 17/20\n",
      "40340/40340 [==============================] - 22s 557us/step - loss: 0.9681 - accuracy: 0.6314\n",
      "Epoch 18/20\n",
      "40340/40340 [==============================] - 32s 781us/step - loss: 0.9681 - accuracy: 0.6314\n",
      "Epoch 19/20\n",
      "40340/40340 [==============================] - 34s 853us/step - loss: 0.9680 - accuracy: 0.6317\n",
      "Epoch 20/20\n",
      "40340/40340 [==============================] - 25s 623us/step - loss: 0.9678 - accuracy: 0.6317\n"
     ]
    },
    {
     "data": {
      "text/plain": [
       "<keras.callbacks.History at 0x296f46e50>"
      ]
     },
     "execution_count": 303,
     "metadata": {},
     "output_type": "execute_result"
    }
   ],
   "source": [
    "model.compile(optimizer='adam',\n",
    "              loss='sparse_categorical_crossentropy',\n",
    "              metrics=['accuracy'])\n",
    "model.fit(X_train, y_train, epochs=20, batch_size=30)"
   ]
  },
  {
   "cell_type": "code",
   "execution_count": 309,
   "metadata": {},
   "outputs": [
    {
     "data": {
      "text/plain": [
       "class\n",
       "5.0    202511\n",
       "3.0    201479\n",
       "4.0    201130\n",
       "0.0    200251\n",
       "2.0    199295\n",
       "1.0    194591\n",
       "6.0     10943\n",
       "Name: count, dtype: int64"
      ]
     },
     "execution_count": 309,
     "metadata": {},
     "output_type": "execute_result"
    }
   ],
   "source": [
    "y_train.value_counts()"
   ]
  },
  {
   "cell_type": "code",
   "execution_count": 310,
   "metadata": {},
   "outputs": [
    {
     "name": "stdout",
     "output_type": "stream",
     "text": [
      "9455/9455 [==============================] - 6s 653us/step\n"
     ]
    },
    {
     "data": {
      "image/png": "[encoded data removed]",
      "text/plain": [
       "<Figure size 640x480 with 2 Axes>"
      ]
     },
     "metadata": {},
     "output_type": "display_data"
    }
   ],
   "source": [
    "import torch\n",
    "import pandas as pd\n",
    "import numpy as np\n",
    "import seaborn as sns\n",
    "import matplotlib.pyplot as plt\n",
    "from sklearn.metrics import confusion_matrix\n",
    "\n",
    "y_true = y_test\n",
    "y_pred = model.predict(X_test)\n",
    "y_pred = y_pred.argmax(axis=1)\n",
    "\n",
    "\n",
    "cm = confusion_matrix(y_true, y_pred)\n",
    "sns.heatmap(cm/np.sum(cm), annot=True, cmap='Blues', fmt='.2%', xticklabels=[f'0', '1', '2', '3', '4', '5','6'], \n",
    "            yticklabels=[f'0', '1', '2', '3', '4', '5','6'])\n",
    "plt.title('Confusion Matrix')\n",
    "plt.xlabel('Predicted', fontsize=14, color='grey')\n",
    "plt.ylabel('Actual', fontsize=14, color='grey')\n",
    "plt.show()"
   ]
  },
  {
   "cell_type": "code",
   "execution_count": 252,
   "metadata": {},
   "outputs": [
    {
     "name": "stdout",
     "output_type": "stream",
     "text": [
      "9370/9370 [==============================] - 4s 445us/step - loss: 0.9372 - accuracy: 0.6345\n"
     ]
    },
    {
     "data": {
      "text/plain": [
       "[0.9372495412826538, 0.6345264315605164]"
      ]
     },
     "execution_count": 252,
     "metadata": {},
     "output_type": "execute_result"
    }
   ],
   "source": [
    "model.evaluate(X_test,y_test)"
   ]
  },
  {
   "cell_type": "markdown",
   "metadata": {},
   "source": [
    "# LSTM"
   ]
  },
  {
   "cell_type": "code",
   "execution_count": 74,
   "metadata": {},
   "outputs": [],
   "source": [
    "# There are two sets of readings for each gesture in each dataset. \n",
    "# Here we are collecting the readings over a 1 second window for evaluation.\n",
    "def collect_readings(df):\n",
    "    \"\"\"\n",
    "    Collects the readings for each gesture in given df over a 1 second window.\n",
    "    Returns two arrays, one containing the readings of shape (12, 1000, 8)\n",
    "    and another of shape (12,) containing the respective gesture class.\n",
    "    \"\"\"\n",
    "    readings = np.zeros((12,1000,8))\n",
    "    gestures = np.zeros((12))\n",
    "    index = 0\n",
    "    for i in range(6):\n",
    "        first = df[df['class']==i].iloc[:1000]\n",
    "        second = df[df['class']==i].iloc[-1000:]\n",
    "        readings1 = first.drop(columns='class').values\n",
    "        readings2 = second.drop(columns='class').values\n",
    "        readings[index] = readings1\n",
    "        readings[index+1] = readings2\n",
    "        gestures[index] = i\n",
    "        gestures[index+1] = i\n",
    "        index += 2\n",
    "\n",
    "    return readings,gestures\n",
    "\n",
    "def collect_readings2(df):\n",
    "    \"\"\"\n",
    "    Collects the readings for each gesture in given df over a 1 second window.\n",
    "    Returns two arrays, one containing the readings of shape (12, 1000, 8)\n",
    "    and another of shape (12,) containing the respective gesture class.\n",
    "    \"\"\"\n",
    "    readings = np.zeros((24,500,8))\n",
    "    gestures = np.zeros((24))\n",
    "    index = 0\n",
    "    for i in range(6):\n",
    "        first = df[df['class']==i].iloc[:500].drop(columns='class').values\n",
    "        sec = df[df['class']==i].iloc[500:1000].drop(columns='class').values\n",
    "        third = df[df['class']==i].iloc[-500:].drop(columns='class').values\n",
    "        fourth = df[df['class']==i].iloc[-1000:-500].drop(columns='class').values\n",
    "        readings[index] = first\n",
    "        readings[index+1] = sec\n",
    "        readings[index+2] = third\n",
    "        readings[index+3] = fourth\n",
    "        gestures[index:index+4] = i\n",
    "        index += 4\n",
    "\n",
    "    return readings,gestures"
   ]
  },
  {
   "cell_type": "code",
   "execution_count": 16,
   "metadata": {},
   "outputs": [],
   "source": [
    "df1 = read_table('1/1_1.txt')\n",
    "df2 = read_table('1/2_1.txt')\n",
    "x1, y1 = collect_readings(df1)\n",
    "x2, y2 = collect_readings(df2)\n",
    "x = np.concatenate((x1,x2))\n",
    "y = np.concatenate((y1,y2))\n",
    "for n in range(2,37):\n",
    "    path1 = f'{n}/1_{n}.txt'\n",
    "    df1 = read_table(path1)\n",
    "    readings1, gestures1 = collect_readings(df1)\n",
    "    x = np.concatenate((x, readings1))\n",
    "    y = np.concatenate((y, gestures1))\n",
    "    \n",
    "    path2 = f'{n}/2_{n}.txt'\n",
    "    df2 = read_table(path2)\n",
    "    readings2, gestures2 = collect_readings(df2)\n",
    "    x = np.concatenate((x, readings2))\n",
    "    y = np.concatenate((y, gestures2))"
   ]
  },
  {
   "cell_type": "code",
   "execution_count": 79,
   "metadata": {},
   "outputs": [],
   "source": [
    "# for windows of half second\n",
    "df1 = read_table('1/1_1.txt')\n",
    "df2 = read_table('1/2_1.txt')\n",
    "x1, y1 = collect_readings2(df1)\n",
    "x2, y2 = collect_readings2(df2)\n",
    "x = np.concatenate((x1,x2))\n",
    "y = np.concatenate((y1,y2))\n",
    "for n in range(2,37):\n",
    "    path1 = f'{n}/1_{n}.txt'\n",
    "    df1 = read_table(path1)\n",
    "    readings1, gestures1 = collect_readings2(df1)\n",
    "    x = np.concatenate((x, readings1))\n",
    "    y = np.concatenate((y, gestures1))\n",
    "    \n",
    "    path2 = f'{n}/2_{n}.txt'\n",
    "    df2 = read_table(path2)\n",
    "    readings2, gestures2 = collect_readings2(df2)\n",
    "    x = np.concatenate((x, readings2))\n",
    "    y = np.concatenate((y, gestures2))"
   ]
  },
  {
   "cell_type": "code",
   "execution_count": 80,
   "metadata": {},
   "outputs": [
    {
     "data": {
      "text/plain": [
       "(1728, 500, 8)"
      ]
     },
     "execution_count": 80,
     "metadata": {},
     "output_type": "execute_result"
    }
   ],
   "source": [
    "x.shape"
   ]
  },
  {
   "cell_type": "code",
   "execution_count": 81,
   "metadata": {},
   "outputs": [],
   "source": [
    "X_train, X_test, y_train, y_test = train_test_split(x, y, test_size=0.20)"
   ]
  },
  {
   "cell_type": "code",
   "execution_count": 83,
   "metadata": {},
   "outputs": [],
   "source": [
    "scaler = StandardScaler()\n",
    "reshaped = X_train.reshape(-1, X_train.shape[-1])\n",
    "normalized = scaler.fit_transform(reshaped)\n",
    "X_train = normalized.reshape(X_train.shape)\n",
    "\n",
    "scaler = StandardScaler()\n",
    "reshaped = X_test.reshape(-1, X_test.shape[-1])\n",
    "normalized = scaler.fit_transform(reshaped)\n",
    "X_test = normalized.reshape(X_test.shape)"
   ]
  },
  {
   "cell_type": "code",
   "execution_count": null,
   "metadata": {},
   "outputs": [],
   "source": []
  },
  {
   "cell_type": "code",
   "execution_count": 53,
   "metadata": {},
   "outputs": [],
   "source": [
    "from keras.layers import Dropout"
   ]
  },
  {
   "cell_type": "code",
   "execution_count": 84,
   "metadata": {},
   "outputs": [
    {
     "name": "stdout",
     "output_type": "stream",
     "text": [
      "Epoch 1/20\n"
     ]
    },
    {
     "ename": "ValueError",
     "evalue": "in user code:\n\n    File \"/Users/carolinegaudet/anaconda3/envs/neuralnets/lib/python3.11/site-packages/keras/engine/training.py\", line 1284, in train_function  *\n        return step_function(self, iterator)\n    File \"/Users/carolinegaudet/anaconda3/envs/neuralnets/lib/python3.11/site-packages/keras/engine/training.py\", line 1268, in step_function  **\n        outputs = model.distribute_strategy.run(run_step, args=(data,))\n    File \"/Users/carolinegaudet/anaconda3/envs/neuralnets/lib/python3.11/site-packages/keras/engine/training.py\", line 1249, in run_step  **\n        outputs = model.train_step(data)\n    File \"/Users/carolinegaudet/anaconda3/envs/neuralnets/lib/python3.11/site-packages/keras/engine/training.py\", line 1050, in train_step\n        y_pred = self(x, training=True)\n    File \"/Users/carolinegaudet/anaconda3/envs/neuralnets/lib/python3.11/site-packages/keras/utils/traceback_utils.py\", line 70, in error_handler\n        raise e.with_traceback(filtered_tb) from None\n    File \"/Users/carolinegaudet/anaconda3/envs/neuralnets/lib/python3.11/site-packages/keras/engine/input_spec.py\", line 298, in assert_input_compatibility\n        raise ValueError(\n\n    ValueError: Input 0 of layer \"sequential_23\" is incompatible with the layer: expected shape=(None, 1000, 8), found shape=(None, 500, 8)\n",
     "output_type": "error",
     "traceback": [
      "\u001b[0;31m---------------------------------------------------------------------------\u001b[0m",
      "\u001b[0;31mValueError\u001b[0m                                Traceback (most recent call last)",
      "Cell \u001b[0;32mIn[84], line 10\u001b[0m\n\u001b[1;32m      5\u001b[0m model\u001b[38;5;241m.\u001b[39madd(Dense(\u001b[38;5;241m6\u001b[39m, activation\u001b[38;5;241m=\u001b[39m\u001b[38;5;124m'\u001b[39m\u001b[38;5;124msoftmax\u001b[39m\u001b[38;5;124m'\u001b[39m))\n\u001b[1;32m      7\u001b[0m model\u001b[38;5;241m.\u001b[39mcompile(optimizer\u001b[38;5;241m=\u001b[39m\u001b[38;5;124m'\u001b[39m\u001b[38;5;124madam\u001b[39m\u001b[38;5;124m'\u001b[39m,\n\u001b[1;32m      8\u001b[0m               loss\u001b[38;5;241m=\u001b[39m\u001b[38;5;124m'\u001b[39m\u001b[38;5;124msparse_categorical_crossentropy\u001b[39m\u001b[38;5;124m'\u001b[39m,\n\u001b[1;32m      9\u001b[0m               metrics\u001b[38;5;241m=\u001b[39m[\u001b[38;5;124m'\u001b[39m\u001b[38;5;124maccuracy\u001b[39m\u001b[38;5;124m'\u001b[39m])\n\u001b[0;32m---> 10\u001b[0m model\u001b[38;5;241m.\u001b[39mfit(X_train, y_train, epochs\u001b[38;5;241m=\u001b[39m\u001b[38;5;241m20\u001b[39m, batch_size\u001b[38;5;241m=\u001b[39m\u001b[38;5;241m30\u001b[39m)\n",
      "File \u001b[0;32m~/anaconda3/envs/neuralnets/lib/python3.11/site-packages/keras/utils/traceback_utils.py:70\u001b[0m, in \u001b[0;36mfilter_traceback.<locals>.error_handler\u001b[0;34m(*args, **kwargs)\u001b[0m\n\u001b[1;32m     67\u001b[0m     filtered_tb \u001b[38;5;241m=\u001b[39m _process_traceback_frames(e\u001b[38;5;241m.\u001b[39m__traceback__)\n\u001b[1;32m     68\u001b[0m     \u001b[38;5;66;03m# To get the full stack trace, call:\u001b[39;00m\n\u001b[1;32m     69\u001b[0m     \u001b[38;5;66;03m# `tf.debugging.disable_traceback_filtering()`\u001b[39;00m\n\u001b[0;32m---> 70\u001b[0m     \u001b[38;5;28;01mraise\u001b[39;00m e\u001b[38;5;241m.\u001b[39mwith_traceback(filtered_tb) \u001b[38;5;28;01mfrom\u001b[39;00m \u001b[38;5;28;01mNone\u001b[39;00m\n\u001b[1;32m     71\u001b[0m \u001b[38;5;28;01mfinally\u001b[39;00m:\n\u001b[1;32m     72\u001b[0m     \u001b[38;5;28;01mdel\u001b[39;00m filtered_tb\n",
      "File \u001b[0;32m/var/folders/d4/gfxh6wx57k99lx__sxbfyv2r0000gn/T/__autograph_generated_file5fthhuh9.py:15\u001b[0m, in \u001b[0;36mouter_factory.<locals>.inner_factory.<locals>.tf__train_function\u001b[0;34m(iterator)\u001b[0m\n\u001b[1;32m     13\u001b[0m \u001b[38;5;28;01mtry\u001b[39;00m:\n\u001b[1;32m     14\u001b[0m     do_return \u001b[38;5;241m=\u001b[39m \u001b[38;5;28;01mTrue\u001b[39;00m\n\u001b[0;32m---> 15\u001b[0m     retval_ \u001b[38;5;241m=\u001b[39m ag__\u001b[38;5;241m.\u001b[39mconverted_call(ag__\u001b[38;5;241m.\u001b[39mld(step_function), (ag__\u001b[38;5;241m.\u001b[39mld(\u001b[38;5;28mself\u001b[39m), ag__\u001b[38;5;241m.\u001b[39mld(iterator)), \u001b[38;5;28;01mNone\u001b[39;00m, fscope)\n\u001b[1;32m     16\u001b[0m \u001b[38;5;28;01mexcept\u001b[39;00m:\n\u001b[1;32m     17\u001b[0m     do_return \u001b[38;5;241m=\u001b[39m \u001b[38;5;28;01mFalse\u001b[39;00m\n",
      "\u001b[0;31mValueError\u001b[0m: in user code:\n\n    File \"/Users/carolinegaudet/anaconda3/envs/neuralnets/lib/python3.11/site-packages/keras/engine/training.py\", line 1284, in train_function  *\n        return step_function(self, iterator)\n    File \"/Users/carolinegaudet/anaconda3/envs/neuralnets/lib/python3.11/site-packages/keras/engine/training.py\", line 1268, in step_function  **\n        outputs = model.distribute_strategy.run(run_step, args=(data,))\n    File \"/Users/carolinegaudet/anaconda3/envs/neuralnets/lib/python3.11/site-packages/keras/engine/training.py\", line 1249, in run_step  **\n        outputs = model.train_step(data)\n    File \"/Users/carolinegaudet/anaconda3/envs/neuralnets/lib/python3.11/site-packages/keras/engine/training.py\", line 1050, in train_step\n        y_pred = self(x, training=True)\n    File \"/Users/carolinegaudet/anaconda3/envs/neuralnets/lib/python3.11/site-packages/keras/utils/traceback_utils.py\", line 70, in error_handler\n        raise e.with_traceback(filtered_tb) from None\n    File \"/Users/carolinegaudet/anaconda3/envs/neuralnets/lib/python3.11/site-packages/keras/engine/input_spec.py\", line 298, in assert_input_compatibility\n        raise ValueError(\n\n    ValueError: Input 0 of layer \"sequential_23\" is incompatible with the layer: expected shape=(None, 1000, 8), found shape=(None, 500, 8)\n"
     ]
    }
   ],
   "source": [
    "from keras.layers import LSTM\n",
    " \n",
    "model = Sequential()\n",
    "model.add(LSTM(10, input_shape=(1000, 8), activation='relu'))\n",
    "model.add(Dense(6, activation='softmax'))\n",
    "\n",
    "model.compile(optimizer='adam',\n",
    "              loss='sparse_categorical_crossentropy',\n",
    "              metrics=['accuracy'])\n",
    "model.fit(X_train, y_train, epochs=20, batch_size=30)"
   ]
  },
  {
   "cell_type": "code",
   "execution_count": 26,
   "metadata": {},
   "outputs": [
    {
     "name": "stdout",
     "output_type": "stream",
     "text": [
      "Epoch 1/20\n"
     ]
    },
    {
     "name": "stderr",
     "output_type": "stream",
     "text": [
      "2024-05-05 16:02:09.384700: I tensorflow/core/common_runtime/executor.cc:1197] [/device:CPU:0] (DEBUG INFO) Executor start aborting (this does not indicate an error and you can ignore this message): INVALID_ARGUMENT: You must feed a value for placeholder tensor 'gradients/split_2_grad/concat/split_2/split_dim' with dtype int32\n",
      "\t [[{{node gradients/split_2_grad/concat/split_2/split_dim}}]]\n",
      "2024-05-05 16:02:09.385851: I tensorflow/core/common_runtime/executor.cc:1197] [/device:CPU:0] (DEBUG INFO) Executor start aborting (this does not indicate an error and you can ignore this message): INVALID_ARGUMENT: You must feed a value for placeholder tensor 'gradients/split_grad/concat/split/split_dim' with dtype int32\n",
      "\t [[{{node gradients/split_grad/concat/split/split_dim}}]]\n",
      "2024-05-05 16:02:09.387041: I tensorflow/core/common_runtime/executor.cc:1197] [/device:CPU:0] (DEBUG INFO) Executor start aborting (this does not indicate an error and you can ignore this message): INVALID_ARGUMENT: You must feed a value for placeholder tensor 'gradients/split_1_grad/concat/split_1/split_dim' with dtype int32\n",
      "\t [[{{node gradients/split_1_grad/concat/split_1/split_dim}}]]\n",
      "2024-05-05 16:02:09.693311: I tensorflow/core/common_runtime/executor.cc:1197] [/device:CPU:0] (DEBUG INFO) Executor start aborting (this does not indicate an error and you can ignore this message): INVALID_ARGUMENT: You must feed a value for placeholder tensor 'gradients/split_2_grad/concat/split_2/split_dim' with dtype int32\n",
      "\t [[{{node gradients/split_2_grad/concat/split_2/split_dim}}]]\n",
      "2024-05-05 16:02:09.694506: I tensorflow/core/common_runtime/executor.cc:1197] [/device:CPU:0] (DEBUG INFO) Executor start aborting (this does not indicate an error and you can ignore this message): INVALID_ARGUMENT: You must feed a value for placeholder tensor 'gradients/split_grad/concat/split/split_dim' with dtype int32\n",
      "\t [[{{node gradients/split_grad/concat/split/split_dim}}]]\n",
      "2024-05-05 16:02:09.695301: I tensorflow/core/common_runtime/executor.cc:1197] [/device:CPU:0] (DEBUG INFO) Executor start aborting (this does not indicate an error and you can ignore this message): INVALID_ARGUMENT: You must feed a value for placeholder tensor 'gradients/split_1_grad/concat/split_1/split_dim' with dtype int32\n",
      "\t [[{{node gradients/split_1_grad/concat/split_1/split_dim}}]]\n",
      "2024-05-05 16:02:10.066516: I tensorflow/core/common_runtime/executor.cc:1197] [/device:CPU:0] (DEBUG INFO) Executor start aborting (this does not indicate an error and you can ignore this message): INVALID_ARGUMENT: You must feed a value for placeholder tensor 'gradients/split_2_grad/concat/split_2/split_dim' with dtype int32\n",
      "\t [[{{node gradients/split_2_grad/concat/split_2/split_dim}}]]\n",
      "2024-05-05 16:02:10.067730: I tensorflow/core/common_runtime/executor.cc:1197] [/device:CPU:0] (DEBUG INFO) Executor start aborting (this does not indicate an error and you can ignore this message): INVALID_ARGUMENT: You must feed a value for placeholder tensor 'gradients/split_grad/concat/split/split_dim' with dtype int32\n",
      "\t [[{{node gradients/split_grad/concat/split/split_dim}}]]\n",
      "2024-05-05 16:02:10.068784: I tensorflow/core/common_runtime/executor.cc:1197] [/device:CPU:0] (DEBUG INFO) Executor start aborting (this does not indicate an error and you can ignore this message): INVALID_ARGUMENT: You must feed a value for placeholder tensor 'gradients/split_1_grad/concat/split_1/split_dim' with dtype int32\n",
      "\t [[{{node gradients/split_1_grad/concat/split_1/split_dim}}]]\n"
     ]
    },
    {
     "name": "stdout",
     "output_type": "stream",
     "text": [
      "24/24 [==============================] - 5s 160ms/step - loss: 1.8103 - accuracy: 0.1621\n",
      "Epoch 2/20\n",
      "24/24 [==============================] - 4s 166ms/step - loss: 1.7911 - accuracy: 0.2113\n",
      "Epoch 3/20\n",
      "24/24 [==============================] - 4s 161ms/step - loss: 1.7759 - accuracy: 0.2402\n",
      "Epoch 4/20\n",
      "24/24 [==============================] - 4s 159ms/step - loss: 1.7603 - accuracy: 0.2634\n",
      "Epoch 5/20\n",
      "24/24 [==============================] - 4s 174ms/step - loss: 1.7418 - accuracy: 0.2909\n",
      "Epoch 6/20\n",
      "24/24 [==============================] - 4s 162ms/step - loss: 1.7166 - accuracy: 0.3111\n",
      "Epoch 7/20\n",
      "24/24 [==============================] - 4s 165ms/step - loss: 1.6749 - accuracy: 0.3242\n",
      "Epoch 8/20\n",
      "24/24 [==============================] - 4s 162ms/step - loss: 1.6311 - accuracy: 0.3473\n",
      "Epoch 9/20\n",
      "24/24 [==============================] - 4s 163ms/step - loss: 1.5869 - accuracy: 0.3603\n",
      "Epoch 10/20\n",
      "24/24 [==============================] - 4s 164ms/step - loss: 1.5492 - accuracy: 0.3980\n",
      "Epoch 11/20\n",
      "24/24 [==============================] - 4s 167ms/step - loss: 1.5194 - accuracy: 0.4081\n",
      "Epoch 12/20\n",
      "24/24 [==============================] - 4s 174ms/step - loss: 1.4884 - accuracy: 0.4182\n",
      "Epoch 13/20\n",
      "24/24 [==============================] - 4s 159ms/step - loss: 1.4579 - accuracy: 0.4240\n",
      "Epoch 14/20\n",
      "24/24 [==============================] - 4s 162ms/step - loss: 1.4479 - accuracy: 0.4356\n",
      "Epoch 15/20\n",
      "24/24 [==============================] - 4s 161ms/step - loss: 1.4232 - accuracy: 0.4428\n",
      "Epoch 16/20\n",
      "24/24 [==============================] - 4s 161ms/step - loss: 1.3986 - accuracy: 0.4530\n",
      "Epoch 17/20\n",
      "24/24 [==============================] - 4s 172ms/step - loss: 1.3816 - accuracy: 0.4747\n",
      "Epoch 18/20\n",
      "24/24 [==============================] - 4s 160ms/step - loss: 1.3715 - accuracy: 0.4732\n",
      "Epoch 19/20\n",
      "24/24 [==============================] - 4s 162ms/step - loss: 1.3610 - accuracy: 0.4891\n",
      "Epoch 20/20\n",
      "24/24 [==============================] - 4s 161ms/step - loss: 1.3467 - accuracy: 0.5022\n"
     ]
    },
    {
     "data": {
      "text/plain": [
       "<keras.callbacks.History at 0x119741390>"
      ]
     },
     "execution_count": 26,
     "metadata": {},
     "output_type": "execute_result"
    }
   ],
   "source": [
    "model = Sequential()\n",
    "model.add(LSTM(10, input_shape=(1000, 8), input_dim=8, activation='tanh'))\n",
    "model.add(Dense(6, activation='softmax'))\n",
    "\n",
    "model.compile(optimizer='adam',\n",
    "              loss='sparse_categorical_crossentropy',\n",
    "              metrics=['accuracy'])\n",
    "model.fit(X_train, y_train, epochs=20, batch_size=30)"
   ]
  },
  {
   "cell_type": "code",
   "execution_count": 25,
   "metadata": {},
   "outputs": [
    {
     "name": "stderr",
     "output_type": "stream",
     "text": [
      "2024-05-05 15:48:35.587611: I tensorflow/core/common_runtime/executor.cc:1197] [/device:CPU:0] (DEBUG INFO) Executor start aborting (this does not indicate an error and you can ignore this message): INVALID_ARGUMENT: You must feed a value for placeholder tensor 'gradients/split_2_grad/concat/split_2/split_dim' with dtype int32\n",
      "\t [[{{node gradients/split_2_grad/concat/split_2/split_dim}}]]\n",
      "2024-05-05 15:48:35.588815: I tensorflow/core/common_runtime/executor.cc:1197] [/device:CPU:0] (DEBUG INFO) Executor start aborting (this does not indicate an error and you can ignore this message): INVALID_ARGUMENT: You must feed a value for placeholder tensor 'gradients/split_grad/concat/split/split_dim' with dtype int32\n",
      "\t [[{{node gradients/split_grad/concat/split/split_dim}}]]\n",
      "2024-05-05 15:48:35.589567: I tensorflow/core/common_runtime/executor.cc:1197] [/device:CPU:0] (DEBUG INFO) Executor start aborting (this does not indicate an error and you can ignore this message): INVALID_ARGUMENT: You must feed a value for placeholder tensor 'gradients/split_1_grad/concat/split_1/split_dim' with dtype int32\n",
      "\t [[{{node gradients/split_1_grad/concat/split_1/split_dim}}]]\n"
     ]
    },
    {
     "name": "stdout",
     "output_type": "stream",
     "text": [
      "6/6 [==============================] - 1s 31ms/step - loss: 1.3614 - accuracy: 0.4277\n"
     ]
    },
    {
     "data": {
      "text/plain": [
       "[1.361423134803772, 0.42774567008018494]"
      ]
     },
     "execution_count": 25,
     "metadata": {},
     "output_type": "execute_result"
    }
   ],
   "source": [
    "model.evaluate(X_test,y_test)"
   ]
  },
  {
   "cell_type": "code",
   "execution_count": 49,
   "metadata": {},
   "outputs": [
    {
     "name": "stderr",
     "output_type": "stream",
     "text": [
      "2024-05-05 16:55:20.000277: I tensorflow/core/common_runtime/executor.cc:1197] [/device:CPU:0] (DEBUG INFO) Executor start aborting (this does not indicate an error and you can ignore this message): INVALID_ARGUMENT: You must feed a value for placeholder tensor 'gradients/split_2_grad/concat/split_2/split_dim' with dtype int32\n",
      "\t [[{{node gradients/split_2_grad/concat/split_2/split_dim}}]]\n",
      "2024-05-05 16:55:20.001462: I tensorflow/core/common_runtime/executor.cc:1197] [/device:CPU:0] (DEBUG INFO) Executor start aborting (this does not indicate an error and you can ignore this message): INVALID_ARGUMENT: You must feed a value for placeholder tensor 'gradients/split_grad/concat/split/split_dim' with dtype int32\n",
      "\t [[{{node gradients/split_grad/concat/split/split_dim}}]]\n",
      "2024-05-05 16:55:20.002186: I tensorflow/core/common_runtime/executor.cc:1197] [/device:CPU:0] (DEBUG INFO) Executor start aborting (this does not indicate an error and you can ignore this message): INVALID_ARGUMENT: You must feed a value for placeholder tensor 'gradients/split_1_grad/concat/split_1/split_dim' with dtype int32\n",
      "\t [[{{node gradients/split_1_grad/concat/split_1/split_dim}}]]\n",
      "2024-05-05 16:55:20.198602: I tensorflow/core/common_runtime/executor.cc:1197] [/device:CPU:0] (DEBUG INFO) Executor start aborting (this does not indicate an error and you can ignore this message): INVALID_ARGUMENT: You must feed a value for placeholder tensor 'gradients/split_2_grad/concat/split_2/split_dim' with dtype int32\n",
      "\t [[{{node gradients/split_2_grad/concat/split_2/split_dim}}]]\n",
      "2024-05-05 16:55:20.199917: I tensorflow/core/common_runtime/executor.cc:1197] [/device:CPU:0] (DEBUG INFO) Executor start aborting (this does not indicate an error and you can ignore this message): INVALID_ARGUMENT: You must feed a value for placeholder tensor 'gradients/split_grad/concat/split/split_dim' with dtype int32\n",
      "\t [[{{node gradients/split_grad/concat/split/split_dim}}]]\n",
      "2024-05-05 16:55:20.200819: I tensorflow/core/common_runtime/executor.cc:1197] [/device:CPU:0] (DEBUG INFO) Executor start aborting (this does not indicate an error and you can ignore this message): INVALID_ARGUMENT: You must feed a value for placeholder tensor 'gradients/split_1_grad/concat/split_1/split_dim' with dtype int32\n",
      "\t [[{{node gradients/split_1_grad/concat/split_1/split_dim}}]]\n"
     ]
    },
    {
     "name": "stdout",
     "output_type": "stream",
     "text": [
      "Epoch 1/20\n"
     ]
    },
    {
     "name": "stderr",
     "output_type": "stream",
     "text": [
      "2024-05-05 16:55:20.688293: I tensorflow/core/common_runtime/executor.cc:1197] [/device:CPU:0] (DEBUG INFO) Executor start aborting (this does not indicate an error and you can ignore this message): INVALID_ARGUMENT: You must feed a value for placeholder tensor 'gradients/split_2_grad/concat/split_2/split_dim' with dtype int32\n",
      "\t [[{{node gradients/split_2_grad/concat/split_2/split_dim}}]]\n",
      "2024-05-05 16:55:20.692768: I tensorflow/core/common_runtime/executor.cc:1197] [/device:CPU:0] (DEBUG INFO) Executor start aborting (this does not indicate an error and you can ignore this message): INVALID_ARGUMENT: You must feed a value for placeholder tensor 'gradients/split_grad/concat/split/split_dim' with dtype int32\n",
      "\t [[{{node gradients/split_grad/concat/split/split_dim}}]]\n",
      "2024-05-05 16:55:20.695057: I tensorflow/core/common_runtime/executor.cc:1197] [/device:CPU:0] (DEBUG INFO) Executor start aborting (this does not indicate an error and you can ignore this message): INVALID_ARGUMENT: You must feed a value for placeholder tensor 'gradients/split_1_grad/concat/split_1/split_dim' with dtype int32\n",
      "\t [[{{node gradients/split_1_grad/concat/split_1/split_dim}}]]\n",
      "2024-05-05 16:55:20.925872: I tensorflow/core/common_runtime/executor.cc:1197] [/device:CPU:0] (DEBUG INFO) Executor start aborting (this does not indicate an error and you can ignore this message): INVALID_ARGUMENT: You must feed a value for placeholder tensor 'gradients/split_2_grad/concat/split_2/split_dim' with dtype int32\n",
      "\t [[{{node gradients/split_2_grad/concat/split_2/split_dim}}]]\n",
      "2024-05-05 16:55:20.928874: I tensorflow/core/common_runtime/executor.cc:1197] [/device:CPU:0] (DEBUG INFO) Executor start aborting (this does not indicate an error and you can ignore this message): INVALID_ARGUMENT: You must feed a value for placeholder tensor 'gradients/split_grad/concat/split/split_dim' with dtype int32\n",
      "\t [[{{node gradients/split_grad/concat/split/split_dim}}]]\n",
      "2024-05-05 16:55:20.930429: I tensorflow/core/common_runtime/executor.cc:1197] [/device:CPU:0] (DEBUG INFO) Executor start aborting (this does not indicate an error and you can ignore this message): INVALID_ARGUMENT: You must feed a value for placeholder tensor 'gradients/split_1_grad/concat/split_1/split_dim' with dtype int32\n",
      "\t [[{{node gradients/split_1_grad/concat/split_1/split_dim}}]]\n",
      "2024-05-05 16:55:21.571782: I tensorflow/core/common_runtime/executor.cc:1197] [/device:CPU:0] (DEBUG INFO) Executor start aborting (this does not indicate an error and you can ignore this message): INVALID_ARGUMENT: You must feed a value for placeholder tensor 'gradients/split_2_grad/concat/split_2/split_dim' with dtype int32\n",
      "\t [[{{node gradients/split_2_grad/concat/split_2/split_dim}}]]\n",
      "2024-05-05 16:55:21.573024: I tensorflow/core/common_runtime/executor.cc:1197] [/device:CPU:0] (DEBUG INFO) Executor start aborting (this does not indicate an error and you can ignore this message): INVALID_ARGUMENT: You must feed a value for placeholder tensor 'gradients/split_grad/concat/split/split_dim' with dtype int32\n",
      "\t [[{{node gradients/split_grad/concat/split/split_dim}}]]\n",
      "2024-05-05 16:55:21.574049: I tensorflow/core/common_runtime/executor.cc:1197] [/device:CPU:0] (DEBUG INFO) Executor start aborting (this does not indicate an error and you can ignore this message): INVALID_ARGUMENT: You must feed a value for placeholder tensor 'gradients/split_1_grad/concat/split_1/split_dim' with dtype int32\n",
      "\t [[{{node gradients/split_1_grad/concat/split_1/split_dim}}]]\n",
      "2024-05-05 16:55:21.721807: I tensorflow/core/common_runtime/executor.cc:1197] [/device:CPU:0] (DEBUG INFO) Executor start aborting (this does not indicate an error and you can ignore this message): INVALID_ARGUMENT: You must feed a value for placeholder tensor 'gradients/split_2_grad/concat/split_2/split_dim' with dtype int32\n",
      "\t [[{{node gradients/split_2_grad/concat/split_2/split_dim}}]]\n",
      "2024-05-05 16:55:21.723172: I tensorflow/core/common_runtime/executor.cc:1197] [/device:CPU:0] (DEBUG INFO) Executor start aborting (this does not indicate an error and you can ignore this message): INVALID_ARGUMENT: You must feed a value for placeholder tensor 'gradients/split_grad/concat/split/split_dim' with dtype int32\n",
      "\t [[{{node gradients/split_grad/concat/split/split_dim}}]]\n",
      "2024-05-05 16:55:21.724435: I tensorflow/core/common_runtime/executor.cc:1197] [/device:CPU:0] (DEBUG INFO) Executor start aborting (this does not indicate an error and you can ignore this message): INVALID_ARGUMENT: You must feed a value for placeholder tensor 'gradients/split_1_grad/concat/split_1/split_dim' with dtype int32\n",
      "\t [[{{node gradients/split_1_grad/concat/split_1/split_dim}}]]\n"
     ]
    },
    {
     "name": "stdout",
     "output_type": "stream",
     "text": [
      "24/24 [==============================] - 15s 528ms/step - loss: 2.4695 - accuracy: 0.2142\n",
      "Epoch 2/20\n",
      "24/24 [==============================] - 14s 569ms/step - loss: 2.2246 - accuracy: 0.3922\n",
      "Epoch 3/20\n",
      "24/24 [==============================] - 14s 582ms/step - loss: 1.9275 - accuracy: 0.4038\n",
      "Epoch 4/20\n",
      "24/24 [==============================] - 13s 534ms/step - loss: 1.6933 - accuracy: 0.4703\n",
      "Epoch 5/20\n",
      "24/24 [==============================] - 12s 520ms/step - loss: 1.5112 - accuracy: 0.4834\n",
      "Epoch 6/20\n",
      "24/24 [==============================] - 13s 525ms/step - loss: 1.3476 - accuracy: 0.5384\n",
      "Epoch 7/20\n",
      "24/24 [==============================] - 15s 604ms/step - loss: 1.2482 - accuracy: 0.5441\n",
      "Epoch 8/20\n",
      "24/24 [==============================] - 13s 532ms/step - loss: 1.1794 - accuracy: 0.6281\n",
      "Epoch 9/20\n",
      "24/24 [==============================] - 12s 519ms/step - loss: 1.1519 - accuracy: 0.6194\n",
      "Epoch 10/20\n",
      "24/24 [==============================] - 13s 536ms/step - loss: 1.0425 - accuracy: 0.6165\n",
      "Epoch 11/20\n",
      "24/24 [==============================] - 13s 537ms/step - loss: 1.3365 - accuracy: 0.5340\n",
      "Epoch 12/20\n",
      "24/24 [==============================] - 13s 525ms/step - loss: 1.0638 - accuracy: 0.6353\n",
      "Epoch 13/20\n",
      "24/24 [==============================] - 13s 547ms/step - loss: 1.0311 - accuracy: 0.6570\n",
      "Epoch 14/20\n",
      "24/24 [==============================] - 13s 535ms/step - loss: 1.0247 - accuracy: 0.6425\n",
      "Epoch 15/20\n",
      "24/24 [==============================] - 13s 528ms/step - loss: 1.0047 - accuracy: 0.6425\n",
      "Epoch 16/20\n",
      "24/24 [==============================] - 12s 515ms/step - loss: 0.9024 - accuracy: 0.6990\n",
      "Epoch 17/20\n",
      "24/24 [==============================] - 13s 531ms/step - loss: 1.2293 - accuracy: 0.5991\n",
      "Epoch 18/20\n",
      "24/24 [==============================] - 12s 510ms/step - loss: 1.4436 - accuracy: 0.4964\n",
      "Epoch 19/20\n",
      "24/24 [==============================] - 13s 533ms/step - loss: 1.2455 - accuracy: 0.5456\n",
      "Epoch 20/20\n",
      "24/24 [==============================] - 13s 525ms/step - loss: 1.1502 - accuracy: 0.6122\n"
     ]
    },
    {
     "data": {
      "text/plain": [
       "<keras.callbacks.History at 0x29be296d0>"
      ]
     },
     "execution_count": 49,
     "metadata": {},
     "output_type": "execute_result"
    }
   ],
   "source": [
    "from keras.regularizers import l2\n",
    "model = Sequential()\n",
    "model.add(LSTM(50, input_shape=(1000, 8), input_dim=8, activation='tanh',kernel_regularizer=l2(0.01),return_sequences=True))\n",
    "model.add(LSTM(20, input_shape=(1000, 8), input_dim=8, activation='tanh',kernel_regularizer=l2(0.01)))\n",
    "# model.add(Dropout(0.2))\n",
    "# model.add(LSTM(20, activation='tanh'))\n",
    "# model.add(Dropout(0.2))\n",
    "model.add(Dense(6, activation='softmax'))\n",
    "\n",
    "model.compile(optimizer='adam',\n",
    "              loss='sparse_categorical_crossentropy',\n",
    "              metrics=['accuracy'])\n",
    "model.fit(X_train, y_train, epochs=20, batch_size=30)"
   ]
  },
  {
   "cell_type": "code",
   "execution_count": 50,
   "metadata": {},
   "outputs": [
    {
     "name": "stderr",
     "output_type": "stream",
     "text": [
      "2024-05-05 17:00:01.188303: I tensorflow/core/common_runtime/executor.cc:1197] [/device:CPU:0] (DEBUG INFO) Executor start aborting (this does not indicate an error and you can ignore this message): INVALID_ARGUMENT: You must feed a value for placeholder tensor 'gradients/split_2_grad/concat/split_2/split_dim' with dtype int32\n",
      "\t [[{{node gradients/split_2_grad/concat/split_2/split_dim}}]]\n",
      "2024-05-05 17:00:01.189676: I tensorflow/core/common_runtime/executor.cc:1197] [/device:CPU:0] (DEBUG INFO) Executor start aborting (this does not indicate an error and you can ignore this message): INVALID_ARGUMENT: You must feed a value for placeholder tensor 'gradients/split_grad/concat/split/split_dim' with dtype int32\n",
      "\t [[{{node gradients/split_grad/concat/split/split_dim}}]]\n",
      "2024-05-05 17:00:01.190941: I tensorflow/core/common_runtime/executor.cc:1197] [/device:CPU:0] (DEBUG INFO) Executor start aborting (this does not indicate an error and you can ignore this message): INVALID_ARGUMENT: You must feed a value for placeholder tensor 'gradients/split_1_grad/concat/split_1/split_dim' with dtype int32\n",
      "\t [[{{node gradients/split_1_grad/concat/split_1/split_dim}}]]\n",
      "2024-05-05 17:00:01.359897: I tensorflow/core/common_runtime/executor.cc:1197] [/device:CPU:0] (DEBUG INFO) Executor start aborting (this does not indicate an error and you can ignore this message): INVALID_ARGUMENT: You must feed a value for placeholder tensor 'gradients/split_2_grad/concat/split_2/split_dim' with dtype int32\n",
      "\t [[{{node gradients/split_2_grad/concat/split_2/split_dim}}]]\n",
      "2024-05-05 17:00:01.361080: I tensorflow/core/common_runtime/executor.cc:1197] [/device:CPU:0] (DEBUG INFO) Executor start aborting (this does not indicate an error and you can ignore this message): INVALID_ARGUMENT: You must feed a value for placeholder tensor 'gradients/split_grad/concat/split/split_dim' with dtype int32\n",
      "\t [[{{node gradients/split_grad/concat/split/split_dim}}]]\n",
      "2024-05-05 17:00:01.362027: I tensorflow/core/common_runtime/executor.cc:1197] [/device:CPU:0] (DEBUG INFO) Executor start aborting (this does not indicate an error and you can ignore this message): INVALID_ARGUMENT: You must feed a value for placeholder tensor 'gradients/split_1_grad/concat/split_1/split_dim' with dtype int32\n",
      "\t [[{{node gradients/split_1_grad/concat/split_1/split_dim}}]]\n"
     ]
    },
    {
     "name": "stdout",
     "output_type": "stream",
     "text": [
      "6/6 [==============================] - 1s 99ms/step - loss: 1.2598 - accuracy: 0.5607\n"
     ]
    },
    {
     "data": {
      "text/plain": [
       "[1.2598174810409546, 0.560693621635437]"
      ]
     },
     "execution_count": 50,
     "metadata": {},
     "output_type": "execute_result"
    }
   ],
   "source": [
    "model.evaluate(X_test,y_test)"
   ]
  },
  {
   "cell_type": "code",
   "execution_count": 51,
   "metadata": {},
   "outputs": [
    {
     "name": "stderr",
     "output_type": "stream",
     "text": [
      "2024-05-05 17:01:09.098058: I tensorflow/core/common_runtime/executor.cc:1197] [/device:CPU:0] (DEBUG INFO) Executor start aborting (this does not indicate an error and you can ignore this message): INVALID_ARGUMENT: You must feed a value for placeholder tensor 'gradients/split_2_grad/concat/split_2/split_dim' with dtype int32\n",
      "\t [[{{node gradients/split_2_grad/concat/split_2/split_dim}}]]\n",
      "2024-05-05 17:01:09.099373: I tensorflow/core/common_runtime/executor.cc:1197] [/device:CPU:0] (DEBUG INFO) Executor start aborting (this does not indicate an error and you can ignore this message): INVALID_ARGUMENT: You must feed a value for placeholder tensor 'gradients/split_grad/concat/split/split_dim' with dtype int32\n",
      "\t [[{{node gradients/split_grad/concat/split/split_dim}}]]\n",
      "2024-05-05 17:01:09.100531: I tensorflow/core/common_runtime/executor.cc:1197] [/device:CPU:0] (DEBUG INFO) Executor start aborting (this does not indicate an error and you can ignore this message): INVALID_ARGUMENT: You must feed a value for placeholder tensor 'gradients/split_1_grad/concat/split_1/split_dim' with dtype int32\n",
      "\t [[{{node gradients/split_1_grad/concat/split_1/split_dim}}]]\n",
      "2024-05-05 17:01:09.273063: I tensorflow/core/common_runtime/executor.cc:1197] [/device:CPU:0] (DEBUG INFO) Executor start aborting (this does not indicate an error and you can ignore this message): INVALID_ARGUMENT: You must feed a value for placeholder tensor 'gradients/split_2_grad/concat/split_2/split_dim' with dtype int32\n",
      "\t [[{{node gradients/split_2_grad/concat/split_2/split_dim}}]]\n",
      "2024-05-05 17:01:09.274875: I tensorflow/core/common_runtime/executor.cc:1197] [/device:CPU:0] (DEBUG INFO) Executor start aborting (this does not indicate an error and you can ignore this message): INVALID_ARGUMENT: You must feed a value for placeholder tensor 'gradients/split_grad/concat/split/split_dim' with dtype int32\n",
      "\t [[{{node gradients/split_grad/concat/split/split_dim}}]]\n",
      "2024-05-05 17:01:09.277006: I tensorflow/core/common_runtime/executor.cc:1197] [/device:CPU:0] (DEBUG INFO) Executor start aborting (this does not indicate an error and you can ignore this message): INVALID_ARGUMENT: You must feed a value for placeholder tensor 'gradients/split_1_grad/concat/split_1/split_dim' with dtype int32\n",
      "\t [[{{node gradients/split_1_grad/concat/split_1/split_dim}}]]\n"
     ]
    },
    {
     "name": "stdout",
     "output_type": "stream",
     "text": [
      "Epoch 1/20\n"
     ]
    },
    {
     "name": "stderr",
     "output_type": "stream",
     "text": [
      "2024-05-05 17:01:09.896718: I tensorflow/core/common_runtime/executor.cc:1197] [/device:CPU:0] (DEBUG INFO) Executor start aborting (this does not indicate an error and you can ignore this message): INVALID_ARGUMENT: You must feed a value for placeholder tensor 'gradients/split_2_grad/concat/split_2/split_dim' with dtype int32\n",
      "\t [[{{node gradients/split_2_grad/concat/split_2/split_dim}}]]\n",
      "2024-05-05 17:01:09.898619: I tensorflow/core/common_runtime/executor.cc:1197] [/device:CPU:0] (DEBUG INFO) Executor start aborting (this does not indicate an error and you can ignore this message): INVALID_ARGUMENT: You must feed a value for placeholder tensor 'gradients/split_grad/concat/split/split_dim' with dtype int32\n",
      "\t [[{{node gradients/split_grad/concat/split/split_dim}}]]\n",
      "2024-05-05 17:01:09.899824: I tensorflow/core/common_runtime/executor.cc:1197] [/device:CPU:0] (DEBUG INFO) Executor start aborting (this does not indicate an error and you can ignore this message): INVALID_ARGUMENT: You must feed a value for placeholder tensor 'gradients/split_1_grad/concat/split_1/split_dim' with dtype int32\n",
      "\t [[{{node gradients/split_1_grad/concat/split_1/split_dim}}]]\n",
      "2024-05-05 17:01:10.130662: I tensorflow/core/common_runtime/executor.cc:1197] [/device:CPU:0] (DEBUG INFO) Executor start aborting (this does not indicate an error and you can ignore this message): INVALID_ARGUMENT: You must feed a value for placeholder tensor 'gradients/split_2_grad/concat/split_2/split_dim' with dtype int32\n",
      "\t [[{{node gradients/split_2_grad/concat/split_2/split_dim}}]]\n",
      "2024-05-05 17:01:10.133005: I tensorflow/core/common_runtime/executor.cc:1197] [/device:CPU:0] (DEBUG INFO) Executor start aborting (this does not indicate an error and you can ignore this message): INVALID_ARGUMENT: You must feed a value for placeholder tensor 'gradients/split_grad/concat/split/split_dim' with dtype int32\n",
      "\t [[{{node gradients/split_grad/concat/split/split_dim}}]]\n",
      "2024-05-05 17:01:10.136408: I tensorflow/core/common_runtime/executor.cc:1197] [/device:CPU:0] (DEBUG INFO) Executor start aborting (this does not indicate an error and you can ignore this message): INVALID_ARGUMENT: You must feed a value for placeholder tensor 'gradients/split_1_grad/concat/split_1/split_dim' with dtype int32\n",
      "\t [[{{node gradients/split_1_grad/concat/split_1/split_dim}}]]\n",
      "2024-05-05 17:01:10.880162: I tensorflow/core/common_runtime/executor.cc:1197] [/device:CPU:0] (DEBUG INFO) Executor start aborting (this does not indicate an error and you can ignore this message): INVALID_ARGUMENT: You must feed a value for placeholder tensor 'gradients/split_2_grad/concat/split_2/split_dim' with dtype int32\n",
      "\t [[{{node gradients/split_2_grad/concat/split_2/split_dim}}]]\n",
      "2024-05-05 17:01:10.882139: I tensorflow/core/common_runtime/executor.cc:1197] [/device:CPU:0] (DEBUG INFO) Executor start aborting (this does not indicate an error and you can ignore this message): INVALID_ARGUMENT: You must feed a value for placeholder tensor 'gradients/split_grad/concat/split/split_dim' with dtype int32\n",
      "\t [[{{node gradients/split_grad/concat/split/split_dim}}]]\n",
      "2024-05-05 17:01:10.883556: I tensorflow/core/common_runtime/executor.cc:1197] [/device:CPU:0] (DEBUG INFO) Executor start aborting (this does not indicate an error and you can ignore this message): INVALID_ARGUMENT: You must feed a value for placeholder tensor 'gradients/split_1_grad/concat/split_1/split_dim' with dtype int32\n",
      "\t [[{{node gradients/split_1_grad/concat/split_1/split_dim}}]]\n",
      "2024-05-05 17:01:11.063478: I tensorflow/core/common_runtime/executor.cc:1197] [/device:CPU:0] (DEBUG INFO) Executor start aborting (this does not indicate an error and you can ignore this message): INVALID_ARGUMENT: You must feed a value for placeholder tensor 'gradients/split_2_grad/concat/split_2/split_dim' with dtype int32\n",
      "\t [[{{node gradients/split_2_grad/concat/split_2/split_dim}}]]\n",
      "2024-05-05 17:01:11.064691: I tensorflow/core/common_runtime/executor.cc:1197] [/device:CPU:0] (DEBUG INFO) Executor start aborting (this does not indicate an error and you can ignore this message): INVALID_ARGUMENT: You must feed a value for placeholder tensor 'gradients/split_grad/concat/split/split_dim' with dtype int32\n",
      "\t [[{{node gradients/split_grad/concat/split/split_dim}}]]\n",
      "2024-05-05 17:01:11.065556: I tensorflow/core/common_runtime/executor.cc:1197] [/device:CPU:0] (DEBUG INFO) Executor start aborting (this does not indicate an error and you can ignore this message): INVALID_ARGUMENT: You must feed a value for placeholder tensor 'gradients/split_1_grad/concat/split_1/split_dim' with dtype int32\n",
      "\t [[{{node gradients/split_1_grad/concat/split_1/split_dim}}]]\n"
     ]
    },
    {
     "name": "stdout",
     "output_type": "stream",
     "text": [
      "24/24 [==============================] - 18s 623ms/step - loss: 2.4877 - accuracy: 0.2055\n",
      "Epoch 2/20\n",
      "24/24 [==============================] - 13s 530ms/step - loss: 2.2594 - accuracy: 0.3386\n",
      "Epoch 3/20\n",
      "24/24 [==============================] - 13s 543ms/step - loss: 2.0441 - accuracy: 0.4226\n",
      "Epoch 4/20\n",
      "24/24 [==============================] - 13s 548ms/step - loss: 1.8209 - accuracy: 0.4428\n",
      "Epoch 5/20\n",
      "24/24 [==============================] - 13s 561ms/step - loss: 1.6303 - accuracy: 0.4906\n",
      "Epoch 6/20\n",
      "24/24 [==============================] - 13s 552ms/step - loss: 1.4685 - accuracy: 0.5586\n",
      "Epoch 7/20\n",
      "24/24 [==============================] - 15s 624ms/step - loss: 1.3610 - accuracy: 0.5731\n",
      "Epoch 8/20\n",
      "24/24 [==============================] - 14s 561ms/step - loss: 1.2679 - accuracy: 0.5673\n",
      "Epoch 9/20\n",
      "24/24 [==============================] - 13s 524ms/step - loss: 1.1943 - accuracy: 0.5948\n",
      "Epoch 10/20\n",
      "24/24 [==============================] - 13s 520ms/step - loss: 1.1061 - accuracy: 0.6440\n",
      "Epoch 11/20\n",
      "24/24 [==============================] - 13s 539ms/step - loss: 1.0731 - accuracy: 0.6512\n",
      "Epoch 12/20\n",
      "24/24 [==============================] - 12s 518ms/step - loss: 1.0184 - accuracy: 0.6541\n",
      "Epoch 13/20\n",
      "24/24 [==============================] - 13s 523ms/step - loss: 1.0412 - accuracy: 0.6483\n",
      "Epoch 14/20\n",
      "24/24 [==============================] - 12s 514ms/step - loss: 1.7200 - accuracy: 0.4645\n",
      "Epoch 15/20\n",
      "24/24 [==============================] - 15s 634ms/step - loss: 1.5735 - accuracy: 0.4834\n",
      "Epoch 16/20\n",
      "24/24 [==============================] - 12s 516ms/step - loss: 1.3547 - accuracy: 0.5543\n",
      "Epoch 17/20\n",
      "24/24 [==============================] - 13s 560ms/step - loss: 1.2960 - accuracy: 0.5615\n",
      "Epoch 18/20\n",
      "24/24 [==============================] - 13s 521ms/step - loss: 1.4719 - accuracy: 0.5340\n",
      "Epoch 19/20\n",
      "24/24 [==============================] - 13s 539ms/step - loss: 1.5175 - accuracy: 0.4428\n",
      "Epoch 20/20\n",
      "24/24 [==============================] - 12s 517ms/step - loss: 1.4507 - accuracy: 0.4863\n"
     ]
    },
    {
     "data": {
      "text/plain": [
       "<keras.callbacks.History at 0x29f31dd10>"
      ]
     },
     "execution_count": 51,
     "metadata": {},
     "output_type": "execute_result"
    }
   ],
   "source": [
    "model = Sequential()\n",
    "model.add(LSTM(50, input_shape=(1000, 8), input_dim=8, activation='tanh',kernel_regularizer=l2(0.01),return_sequences=True))\n",
    "model.add(Dropout(0.2))\n",
    "model.add(LSTM(20, input_shape=(1000, 8), input_dim=8, activation='tanh',kernel_regularizer=l2(0.01)))\n",
    "\n",
    "model.add(Dense(6, activation='softmax'))\n",
    "\n",
    "model.compile(optimizer='adam',\n",
    "              loss='sparse_categorical_crossentropy',\n",
    "              metrics=['accuracy'])\n",
    "model.fit(X_train, y_train, epochs=20, batch_size=30)"
   ]
  },
  {
   "cell_type": "code",
   "execution_count": 52,
   "metadata": {},
   "outputs": [
    {
     "name": "stderr",
     "output_type": "stream",
     "text": [
      "2024-05-05 17:05:52.634896: I tensorflow/core/common_runtime/executor.cc:1197] [/device:CPU:0] (DEBUG INFO) Executor start aborting (this does not indicate an error and you can ignore this message): INVALID_ARGUMENT: You must feed a value for placeholder tensor 'gradients/split_2_grad/concat/split_2/split_dim' with dtype int32\n",
      "\t [[{{node gradients/split_2_grad/concat/split_2/split_dim}}]]\n",
      "2024-05-05 17:05:52.636349: I tensorflow/core/common_runtime/executor.cc:1197] [/device:CPU:0] (DEBUG INFO) Executor start aborting (this does not indicate an error and you can ignore this message): INVALID_ARGUMENT: You must feed a value for placeholder tensor 'gradients/split_grad/concat/split/split_dim' with dtype int32\n",
      "\t [[{{node gradients/split_grad/concat/split/split_dim}}]]\n",
      "2024-05-05 17:05:52.637292: I tensorflow/core/common_runtime/executor.cc:1197] [/device:CPU:0] (DEBUG INFO) Executor start aborting (this does not indicate an error and you can ignore this message): INVALID_ARGUMENT: You must feed a value for placeholder tensor 'gradients/split_1_grad/concat/split_1/split_dim' with dtype int32\n",
      "\t [[{{node gradients/split_1_grad/concat/split_1/split_dim}}]]\n",
      "2024-05-05 17:05:52.788418: I tensorflow/core/common_runtime/executor.cc:1197] [/device:CPU:0] (DEBUG INFO) Executor start aborting (this does not indicate an error and you can ignore this message): INVALID_ARGUMENT: You must feed a value for placeholder tensor 'gradients/split_2_grad/concat/split_2/split_dim' with dtype int32\n",
      "\t [[{{node gradients/split_2_grad/concat/split_2/split_dim}}]]\n",
      "2024-05-05 17:05:52.789528: I tensorflow/core/common_runtime/executor.cc:1197] [/device:CPU:0] (DEBUG INFO) Executor start aborting (this does not indicate an error and you can ignore this message): INVALID_ARGUMENT: You must feed a value for placeholder tensor 'gradients/split_grad/concat/split/split_dim' with dtype int32\n",
      "\t [[{{node gradients/split_grad/concat/split/split_dim}}]]\n",
      "2024-05-05 17:05:52.790434: I tensorflow/core/common_runtime/executor.cc:1197] [/device:CPU:0] (DEBUG INFO) Executor start aborting (this does not indicate an error and you can ignore this message): INVALID_ARGUMENT: You must feed a value for placeholder tensor 'gradients/split_1_grad/concat/split_1/split_dim' with dtype int32\n",
      "\t [[{{node gradients/split_1_grad/concat/split_1/split_dim}}]]\n"
     ]
    },
    {
     "name": "stdout",
     "output_type": "stream",
     "text": [
      "6/6 [==============================] - 2s 129ms/step - loss: 1.5621 - accuracy: 0.4682\n"
     ]
    },
    {
     "data": {
      "text/plain": [
       "[1.5621366500854492, 0.46820810437202454]"
      ]
     },
     "execution_count": 52,
     "metadata": {},
     "output_type": "execute_result"
    }
   ],
   "source": [
    "model.evaluate(X_test,y_test)"
   ]
  },
  {
   "cell_type": "code",
   "execution_count": 85,
   "metadata": {},
   "outputs": [
    {
     "data": {
      "text/plain": [
       "(1382, 500, 8)"
      ]
     },
     "execution_count": 85,
     "metadata": {},
     "output_type": "execute_result"
    }
   ],
   "source": [
    "X_train.shape"
   ]
  },
  {
   "cell_type": "code",
   "execution_count": 89,
   "metadata": {},
   "outputs": [
    {
     "name": "stderr",
     "output_type": "stream",
     "text": [
      "2024-05-05 17:47:55.381733: I tensorflow/core/common_runtime/executor.cc:1197] [/device:CPU:0] (DEBUG INFO) Executor start aborting (this does not indicate an error and you can ignore this message): INVALID_ARGUMENT: You must feed a value for placeholder tensor 'gradients/split_2_grad/concat/split_2/split_dim' with dtype int32\n",
      "\t [[{{node gradients/split_2_grad/concat/split_2/split_dim}}]]\n",
      "2024-05-05 17:47:55.383126: I tensorflow/core/common_runtime/executor.cc:1197] [/device:CPU:0] (DEBUG INFO) Executor start aborting (this does not indicate an error and you can ignore this message): INVALID_ARGUMENT: You must feed a value for placeholder tensor 'gradients/split_grad/concat/split/split_dim' with dtype int32\n",
      "\t [[{{node gradients/split_grad/concat/split/split_dim}}]]\n",
      "2024-05-05 17:47:55.383994: I tensorflow/core/common_runtime/executor.cc:1197] [/device:CPU:0] (DEBUG INFO) Executor start aborting (this does not indicate an error and you can ignore this message): INVALID_ARGUMENT: You must feed a value for placeholder tensor 'gradients/split_1_grad/concat/split_1/split_dim' with dtype int32\n",
      "\t [[{{node gradients/split_1_grad/concat/split_1/split_dim}}]]\n",
      "2024-05-05 17:47:55.550275: I tensorflow/core/common_runtime/executor.cc:1197] [/device:CPU:0] (DEBUG INFO) Executor start aborting (this does not indicate an error and you can ignore this message): INVALID_ARGUMENT: You must feed a value for placeholder tensor 'gradients/split_2_grad/concat/split_2/split_dim' with dtype int32\n",
      "\t [[{{node gradients/split_2_grad/concat/split_2/split_dim}}]]\n",
      "2024-05-05 17:47:55.551136: I tensorflow/core/common_runtime/executor.cc:1197] [/device:CPU:0] (DEBUG INFO) Executor start aborting (this does not indicate an error and you can ignore this message): INVALID_ARGUMENT: You must feed a value for placeholder tensor 'gradients/split_grad/concat/split/split_dim' with dtype int32\n",
      "\t [[{{node gradients/split_grad/concat/split/split_dim}}]]\n",
      "2024-05-05 17:47:55.552229: I tensorflow/core/common_runtime/executor.cc:1197] [/device:CPU:0] (DEBUG INFO) Executor start aborting (this does not indicate an error and you can ignore this message): INVALID_ARGUMENT: You must feed a value for placeholder tensor 'gradients/split_1_grad/concat/split_1/split_dim' with dtype int32\n",
      "\t [[{{node gradients/split_1_grad/concat/split_1/split_dim}}]]\n"
     ]
    },
    {
     "name": "stdout",
     "output_type": "stream",
     "text": [
      "Epoch 1/20\n"
     ]
    },
    {
     "name": "stderr",
     "output_type": "stream",
     "text": [
      "2024-05-05 17:47:55.809593: I tensorflow/core/common_runtime/executor.cc:1197] [/device:CPU:0] (DEBUG INFO) Executor start aborting (this does not indicate an error and you can ignore this message): INVALID_ARGUMENT: You must feed a value for placeholder tensor 'gradients/split_2_grad/concat/split_2/split_dim' with dtype int32\n",
      "\t [[{{node gradients/split_2_grad/concat/split_2/split_dim}}]]\n",
      "2024-05-05 17:47:55.810971: I tensorflow/core/common_runtime/executor.cc:1197] [/device:CPU:0] (DEBUG INFO) Executor start aborting (this does not indicate an error and you can ignore this message): INVALID_ARGUMENT: You must feed a value for placeholder tensor 'gradients/split_grad/concat/split/split_dim' with dtype int32\n",
      "\t [[{{node gradients/split_grad/concat/split/split_dim}}]]\n",
      "2024-05-05 17:47:55.811993: I tensorflow/core/common_runtime/executor.cc:1197] [/device:CPU:0] (DEBUG INFO) Executor start aborting (this does not indicate an error and you can ignore this message): INVALID_ARGUMENT: You must feed a value for placeholder tensor 'gradients/split_1_grad/concat/split_1/split_dim' with dtype int32\n",
      "\t [[{{node gradients/split_1_grad/concat/split_1/split_dim}}]]\n",
      "2024-05-05 17:47:55.966688: I tensorflow/core/common_runtime/executor.cc:1197] [/device:CPU:0] (DEBUG INFO) Executor start aborting (this does not indicate an error and you can ignore this message): INVALID_ARGUMENT: You must feed a value for placeholder tensor 'gradients/split_2_grad/concat/split_2/split_dim' with dtype int32\n",
      "\t [[{{node gradients/split_2_grad/concat/split_2/split_dim}}]]\n",
      "2024-05-05 17:47:55.967863: I tensorflow/core/common_runtime/executor.cc:1197] [/device:CPU:0] (DEBUG INFO) Executor start aborting (this does not indicate an error and you can ignore this message): INVALID_ARGUMENT: You must feed a value for placeholder tensor 'gradients/split_grad/concat/split/split_dim' with dtype int32\n",
      "\t [[{{node gradients/split_grad/concat/split/split_dim}}]]\n",
      "2024-05-05 17:47:55.968767: I tensorflow/core/common_runtime/executor.cc:1197] [/device:CPU:0] (DEBUG INFO) Executor start aborting (this does not indicate an error and you can ignore this message): INVALID_ARGUMENT: You must feed a value for placeholder tensor 'gradients/split_1_grad/concat/split_1/split_dim' with dtype int32\n",
      "\t [[{{node gradients/split_1_grad/concat/split_1/split_dim}}]]\n",
      "2024-05-05 17:47:56.633072: I tensorflow/core/common_runtime/executor.cc:1197] [/device:CPU:0] (DEBUG INFO) Executor start aborting (this does not indicate an error and you can ignore this message): INVALID_ARGUMENT: You must feed a value for placeholder tensor 'gradients/split_2_grad/concat/split_2/split_dim' with dtype int32\n",
      "\t [[{{node gradients/split_2_grad/concat/split_2/split_dim}}]]\n",
      "2024-05-05 17:47:56.634228: I tensorflow/core/common_runtime/executor.cc:1197] [/device:CPU:0] (DEBUG INFO) Executor start aborting (this does not indicate an error and you can ignore this message): INVALID_ARGUMENT: You must feed a value for placeholder tensor 'gradients/split_grad/concat/split/split_dim' with dtype int32\n",
      "\t [[{{node gradients/split_grad/concat/split/split_dim}}]]\n",
      "2024-05-05 17:47:56.635621: I tensorflow/core/common_runtime/executor.cc:1197] [/device:CPU:0] (DEBUG INFO) Executor start aborting (this does not indicate an error and you can ignore this message): INVALID_ARGUMENT: You must feed a value for placeholder tensor 'gradients/split_1_grad/concat/split_1/split_dim' with dtype int32\n",
      "\t [[{{node gradients/split_1_grad/concat/split_1/split_dim}}]]\n",
      "2024-05-05 17:47:56.788318: I tensorflow/core/common_runtime/executor.cc:1197] [/device:CPU:0] (DEBUG INFO) Executor start aborting (this does not indicate an error and you can ignore this message): INVALID_ARGUMENT: You must feed a value for placeholder tensor 'gradients/split_2_grad/concat/split_2/split_dim' with dtype int32\n",
      "\t [[{{node gradients/split_2_grad/concat/split_2/split_dim}}]]\n",
      "2024-05-05 17:47:56.789517: I tensorflow/core/common_runtime/executor.cc:1197] [/device:CPU:0] (DEBUG INFO) Executor start aborting (this does not indicate an error and you can ignore this message): INVALID_ARGUMENT: You must feed a value for placeholder tensor 'gradients/split_grad/concat/split/split_dim' with dtype int32\n",
      "\t [[{{node gradients/split_grad/concat/split/split_dim}}]]\n",
      "2024-05-05 17:47:56.790415: I tensorflow/core/common_runtime/executor.cc:1197] [/device:CPU:0] (DEBUG INFO) Executor start aborting (this does not indicate an error and you can ignore this message): INVALID_ARGUMENT: You must feed a value for placeholder tensor 'gradients/split_1_grad/concat/split_1/split_dim' with dtype int32\n",
      "\t [[{{node gradients/split_1_grad/concat/split_1/split_dim}}]]\n"
     ]
    },
    {
     "name": "stdout",
     "output_type": "stream",
     "text": [
      "47/47 [==============================] - 14s 251ms/step - loss: 2.3532 - accuracy: 0.3329\n",
      "Epoch 2/20\n",
      "47/47 [==============================] - 12s 246ms/step - loss: 1.8162 - accuracy: 0.4262\n",
      "Epoch 3/20\n",
      "47/47 [==============================] - 11s 244ms/step - loss: 1.4726 - accuracy: 0.5152\n",
      "Epoch 4/20\n",
      "47/47 [==============================] - 11s 244ms/step - loss: 1.3066 - accuracy: 0.5427\n",
      "Epoch 5/20\n",
      "47/47 [==============================] - 12s 245ms/step - loss: 1.1689 - accuracy: 0.6114\n",
      "Epoch 6/20\n",
      "47/47 [==============================] - 12s 257ms/step - loss: 1.2428 - accuracy: 0.5658\n",
      "Epoch 7/20\n",
      "47/47 [==============================] - 12s 261ms/step - loss: 1.1357 - accuracy: 0.6194\n",
      "Epoch 8/20\n",
      "47/47 [==============================] - 11s 244ms/step - loss: 1.1982 - accuracy: 0.6208\n",
      "Epoch 9/20\n",
      "47/47 [==============================] - 11s 244ms/step - loss: 1.1317 - accuracy: 0.6433\n",
      "Epoch 10/20\n",
      "47/47 [==============================] - 11s 244ms/step - loss: 1.0835 - accuracy: 0.6823\n",
      "Epoch 11/20\n",
      "47/47 [==============================] - 12s 245ms/step - loss: 0.9932 - accuracy: 0.7019\n",
      "Epoch 12/20\n",
      "47/47 [==============================] - 11s 244ms/step - loss: 1.2497 - accuracy: 0.5810\n",
      "Epoch 13/20\n",
      "47/47 [==============================] - 12s 247ms/step - loss: 1.2417 - accuracy: 0.5868\n",
      "Epoch 14/20\n",
      "47/47 [==============================] - 12s 246ms/step - loss: 1.2738 - accuracy: 0.5941\n",
      "Epoch 15/20\n",
      "47/47 [==============================] - 11s 244ms/step - loss: 1.0452 - accuracy: 0.6852\n",
      "Epoch 16/20\n",
      "47/47 [==============================] - 12s 246ms/step - loss: 1.0003 - accuracy: 0.6939\n",
      "Epoch 17/20\n",
      "47/47 [==============================] - 12s 246ms/step - loss: 1.1206 - accuracy: 0.6418\n",
      "Epoch 18/20\n",
      "47/47 [==============================] - 12s 247ms/step - loss: 1.5431 - accuracy: 0.4117\n",
      "Epoch 19/20\n",
      "47/47 [==============================] - 12s 253ms/step - loss: 1.2546 - accuracy: 0.5876\n",
      "Epoch 20/20\n",
      "47/47 [==============================] - 13s 269ms/step - loss: 1.0881 - accuracy: 0.6512\n"
     ]
    },
    {
     "data": {
      "text/plain": [
       "<keras.callbacks.History at 0x2890ba990>"
      ]
     },
     "execution_count": 89,
     "metadata": {},
     "output_type": "execute_result"
    }
   ],
   "source": [
    "model = Sequential()\n",
    "model.add(LSTM(50, input_shape=(500, 8), input_dim=8, activation='tanh',kernel_regularizer=l2(0.01),return_sequences=True))\n",
    "model.add(Dropout(0.2))\n",
    "model.add(LSTM(20, input_dim=8, activation='tanh',kernel_regularizer=l2(0.01)))\n",
    "\n",
    "model.add(Dense(6, activation='softmax'))\n",
    "\n",
    "model.compile(optimizer='adam',\n",
    "              loss='sparse_categorical_crossentropy',\n",
    "              metrics=['accuracy'])\n",
    "model.fit(X_train, y_train, epochs=20, batch_size=30)"
   ]
  },
  {
   "cell_type": "code",
   "execution_count": 90,
   "metadata": {},
   "outputs": [
    {
     "name": "stderr",
     "output_type": "stream",
     "text": [
      "2024-05-05 17:52:01.776664: I tensorflow/core/common_runtime/executor.cc:1197] [/device:CPU:0] (DEBUG INFO) Executor start aborting (this does not indicate an error and you can ignore this message): INVALID_ARGUMENT: You must feed a value for placeholder tensor 'gradients/split_2_grad/concat/split_2/split_dim' with dtype int32\n",
      "\t [[{{node gradients/split_2_grad/concat/split_2/split_dim}}]]\n",
      "2024-05-05 17:52:01.778664: I tensorflow/core/common_runtime/executor.cc:1197] [/device:CPU:0] (DEBUG INFO) Executor start aborting (this does not indicate an error and you can ignore this message): INVALID_ARGUMENT: You must feed a value for placeholder tensor 'gradients/split_grad/concat/split/split_dim' with dtype int32\n",
      "\t [[{{node gradients/split_grad/concat/split/split_dim}}]]\n",
      "2024-05-05 17:52:01.780299: I tensorflow/core/common_runtime/executor.cc:1197] [/device:CPU:0] (DEBUG INFO) Executor start aborting (this does not indicate an error and you can ignore this message): INVALID_ARGUMENT: You must feed a value for placeholder tensor 'gradients/split_1_grad/concat/split_1/split_dim' with dtype int32\n",
      "\t [[{{node gradients/split_1_grad/concat/split_1/split_dim}}]]\n",
      "2024-05-05 17:52:01.933596: I tensorflow/core/common_runtime/executor.cc:1197] [/device:CPU:0] (DEBUG INFO) Executor start aborting (this does not indicate an error and you can ignore this message): INVALID_ARGUMENT: You must feed a value for placeholder tensor 'gradients/split_2_grad/concat/split_2/split_dim' with dtype int32\n",
      "\t [[{{node gradients/split_2_grad/concat/split_2/split_dim}}]]\n",
      "2024-05-05 17:52:01.935423: I tensorflow/core/common_runtime/executor.cc:1197] [/device:CPU:0] (DEBUG INFO) Executor start aborting (this does not indicate an error and you can ignore this message): INVALID_ARGUMENT: You must feed a value for placeholder tensor 'gradients/split_grad/concat/split/split_dim' with dtype int32\n",
      "\t [[{{node gradients/split_grad/concat/split/split_dim}}]]\n",
      "2024-05-05 17:52:01.937312: I tensorflow/core/common_runtime/executor.cc:1197] [/device:CPU:0] (DEBUG INFO) Executor start aborting (this does not indicate an error and you can ignore this message): INVALID_ARGUMENT: You must feed a value for placeholder tensor 'gradients/split_1_grad/concat/split_1/split_dim' with dtype int32\n",
      "\t [[{{node gradients/split_1_grad/concat/split_1/split_dim}}]]\n"
     ]
    },
    {
     "name": "stdout",
     "output_type": "stream",
     "text": [
      "11/11 [==============================] - 1s 56ms/step - loss: 1.1337 - accuracy: 0.6358\n"
     ]
    },
    {
     "data": {
      "text/plain": [
       "[1.1337437629699707, 0.6358381509780884]"
      ]
     },
     "execution_count": 90,
     "metadata": {},
     "output_type": "execute_result"
    }
   ],
   "source": [
    "model.evaluate(X_test,y_test)"
   ]
  }
 ],
 "metadata": {
  "kernelspec": {
   "display_name": "neuralnets",
   "language": "python",
   "name": "python3"
  },
  "language_info": {
   "codemirror_mode": {
    "name": "ipython",
    "version": 3
   },
   "file_extension": ".py",
   "mimetype": "text/x-python",
   "name": "python",
   "nbconvert_exporter": "python",
   "pygments_lexer": "ipython3",
   "version": "3.11.5"
  }
 },
 "nbformat": 4,
 "nbformat_minor": 2
}
